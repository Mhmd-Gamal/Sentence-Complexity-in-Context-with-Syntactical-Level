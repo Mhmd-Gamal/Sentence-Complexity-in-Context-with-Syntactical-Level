{
 "cells": [
  {
   "cell_type": "code",
   "execution_count": 1,
   "metadata": {
    "id": "PyIUBnTk9KYa"
   },
   "outputs": [],
   "source": [
    "import pandas as pd "
   ]
  },
  {
   "cell_type": "markdown",
   "metadata": {
    "id": "uVjkPixAGtYn"
   },
   "source": [
    "#### Merging Files"
   ]
  },
  {
   "cell_type": "code",
   "execution_count": null,
   "metadata": {
    "id": "9M0EDymFWxp1"
   },
   "outputs": [],
   "source": [
    "\n",
    "file1 = pd.read_csv('aggregated_results_by_ds__pool_37687290__2023_02_11.tsv', sep='\\t')\n",
    "file2 = pd.read_csv('aggregated_results_by_ds__pool_37806285__2023_02_18.tsv', sep='\\t')\n",
    "file3 = pd.read_csv('aggregated_results_by_ds__pool_37939772__2023_02_27.tsv', sep='\\t')"
   ]
  },
  {
   "cell_type": "markdown",
   "metadata": {
    "id": "05tchVJeZVWZ"
   },
   "source": [
    "#### Testing the common sentences between files"
   ]
  },
  {
   "cell_type": "code",
   "execution_count": null,
   "metadata": {
    "colab": {
     "base_uri": "https://localhost:8080/"
    },
    "id": "yaxjDHrQW1-T",
    "outputId": "53746965-b3ce-4776-b7b0-8a9399c4df96"
   },
   "outputs": [
    {
     "data": {
      "text/plain": [
       "(91, 4)"
      ]
     },
     "execution_count": 4,
     "metadata": {},
     "output_type": "execute_result"
    }
   ],
   "source": [
    "file1.shape"
   ]
  },
  {
   "cell_type": "code",
   "execution_count": null,
   "metadata": {
    "colab": {
     "base_uri": "https://localhost:8080/"
    },
    "id": "XEGHjPydW644",
    "outputId": "20849f68-9e84-4da9-b78c-1ecd1d0b30cf"
   },
   "outputs": [
    {
     "data": {
      "text/plain": [
       "(600, 4)"
      ]
     },
     "execution_count": 5,
     "metadata": {},
     "output_type": "execute_result"
    }
   ],
   "source": [
    "file2.shape"
   ]
  },
  {
   "cell_type": "code",
   "execution_count": null,
   "metadata": {
    "colab": {
     "base_uri": "https://localhost:8080/"
    },
    "id": "9FWurcdCW68Y",
    "outputId": "239d8e52-98eb-4454-8dbf-3feb55a81f49"
   },
   "outputs": [
    {
     "data": {
      "text/plain": [
       "(600, 4)"
      ]
     },
     "execution_count": 6,
     "metadata": {},
     "output_type": "execute_result"
    }
   ],
   "source": [
    "file3.shape"
   ]
  },
  {
   "cell_type": "code",
   "execution_count": null,
   "metadata": {
    "colab": {
     "base_uri": "https://localhost:8080/"
    },
    "id": "Bs3KXhl2YJ11",
    "outputId": "fdc1b403-84bf-4153-e70b-405d6a073707"
   },
   "outputs": [
    {
     "name": "stdout",
     "output_type": "stream",
     "text": [
      "The following sentences are present in both files:\n",
      "Китай тому пример , да и не только он .\n",
      "Они раскрывались поутру в траве и под вечер увядали .\n",
      "Мог иметься в виду и слесарь , и столяр .\n",
      "Потому что хорошее должно быть и в виде приятного .\n",
      "Сотрудница туалета закатила глаза и заговорила тихо и быстро .\n",
      "Бухгалтеры звонят в редакцию и просят выяснить позицию фискалов .\n",
      "Дело здесь не в оборудовании , а в другом .\n",
      "Бесконечные стычки и распри , дележ и взаимные наговоры .\n",
      "Госпиталь формировался в Курске от союза земств и городов .\n",
      "Каждый человек рождается и умирает в своем энергетическом поле .\n",
      "Пытался он внести и новые предложения в производство обуви .\n",
      "Сейчас единства в этом вопросе в России не существует .\n",
      "Секретарь вытаращил глаза на арестанта и не дописал слова .\n",
      "Да и налоги в международных водах платить не надо .\n",
      "Отец в первый же понедельник ушел добровольцем в ополчение .\n",
      "Остальное - в основном всякая сборочная и ремонтная мелочь .\n",
      "Да и обнаружилось это в тех авариях не сразу .\n",
      "Национальная безопасность и революция в организации ТВ - вещания .\n",
      "Этим баннером они и выразили свое отношение и озабоченность .\n",
      "Это была вторая поездка дяди и племянника в Дуплянку .\n",
      "Неожиданно резким движением струйка метнулась в сторону и скрылась .\n",
      "Английские войска вторгаются в Ирак и свергают правительство Али-Гайлани .\n",
      "Итальянская полиция и карабинеры приведены в состояние повышенной готовности .\n",
      "Лю Шаоци избивали , и он умер в заключении .\n",
      "Недостатки использования ребризеров - дороговизна и сложность в эксплуатации .\n",
      "Потребуются и опыт , и новые механизмы международного регулирования .\n",
      "\"Может прийти участковый и утащить нас в суд \"\" .\"\n",
      "Есть и нулевое чтение , существует согласование в правительстве .\n",
      "Есть и еще один момент в пользу таких сооружений .\n",
      "Ведь мертвые и похищенные не в состоянии себя защитить .\n",
      "Наше место как раз в группе МИФИ и МИСиС .\n",
      "Сегодня в России роль и значение СМИ часто преувеличивают .\n",
      "Виноват не дефицит природных ресурсов и не экологические катастрофы .\n",
      "Важно приходить в эту мерзость запустения и преображать ее .\n",
      "INPUT:text\n",
      "Во взводе были и молодые солдаты , и опытные .\n",
      "Мать ест и поправляется , и начинается новая жизнь .\n",
      "Как я могу быть и там , и здесь ?\n",
      "Они были подвижны и катились всегда в одну сторону .\n",
      "Тут Дума и президент спохватились и вспомнили о светскости .\n",
      "Затем описания и изображения следует воспроизвести в больших количествах .\n",
      "Размышление и самообучение в круг ее задач не входили .\n",
      "Много работало комиссий - и внешних , и университетских .\n",
      "Она уложила сено в ванночку и залила его кипятком .\n",
      "Вы привели в правительство Гайдара и его команду реформаторов ?\n",
      "Он свистит над головами и детей , и взрослых .\n",
      "Ничего нового не открыл и именем своим не назвал .\n"
     ]
    }
   ],
   "source": [
    "with open('aggregated_results_by_ds__pool_37687290__2023_02_11.tsv', 'r', encoding='utf-8') as f1, open('aggregated_results_by_ds__pool_37939772__2023_02_27.tsv', 'r', encoding='utf-8') as f2:\n",
    "    sentences1 = set(line.strip().split('\\t')[0] for line in f1)\n",
    "    sentences2 = set(line.strip().split('\\t')[0] for line in f2)\n",
    "\n",
    "shared_sentences = sentences1.intersection(sentences2)\n",
    "\n",
    "if shared_sentences:\n",
    "    print(\"The following sentences are present in both files:\")\n",
    "    for sentence in shared_sentences:\n",
    "        print(sentence)\n",
    "else:\n",
    "    print(\"There are no sentences in common between the two files.\")\n"
   ]
  },
  {
   "cell_type": "code",
   "execution_count": null,
   "metadata": {
    "colab": {
     "base_uri": "https://localhost:8080/"
    },
    "id": "vJ4tbwu4YeSH",
    "outputId": "51e006d3-b35f-428f-d7e1-a5eefc3646e8"
   },
   "outputs": [
    {
     "name": "stdout",
     "output_type": "stream",
     "text": [
      "the common sntences between 2023_02_11.tsv and 2023_02_18.tsv :  46\n"
     ]
    }
   ],
   "source": [
    "print(\"the common sntences between 2023_02_11.tsv and 2023_02_18.tsv : \", len(shared_sentences))"
   ]
  },
  {
   "cell_type": "code",
   "execution_count": null,
   "metadata": {
    "colab": {
     "base_uri": "https://localhost:8080/"
    },
    "id": "2gE8wEmZZJ7E",
    "outputId": "eaf454c3-581d-4d43-e76a-2f94b3c0c01c"
   },
   "outputs": [
    {
     "name": "stdout",
     "output_type": "stream",
     "text": [
      "the common sntences between 2023_02_11.tsv and 2023_02_27.tsv :  47\n"
     ]
    }
   ],
   "source": [
    "print(\"the common sntences between 2023_02_11.tsv and 2023_02_27.tsv : \", len(shared_sentences))"
   ]
  },
  {
   "cell_type": "code",
   "execution_count": null,
   "metadata": {
    "id": "KQoIvVAQBujd"
   },
   "outputs": [],
   "source": [
    "\n",
    "\n",
    "annotated_data = pd.concat([file2, file3], axis = 0)\n",
    "annotated_data = annotated_data.drop(annotated_data.columns[-1], axis=1)#annotated_data.iloc[:, :-1]\n",
    "annotated_data.dropna(inplace = True, axis=1)\n",
    "#annotated_data.to_csv('annotated_data.tsv', sep='\\t', index=False, header = False)\n",
    "annotated_data.columns = 'text cat_s confidence'.split()\n",
    "annotated_data['category'] = annotated_data.cat_s.apply(lambda x: int(x[1]))\n",
    "annotated_data = annotated_data.drop(annotated_data.columns[1], axis=1)"
   ]
  },
  {
   "cell_type": "code",
   "execution_count": null,
   "metadata": {
    "colab": {
     "base_uri": "https://localhost:8080/"
    },
    "id": "ZALqLJS1Bugm",
    "outputId": "439384d8-8564-46f9-b47e-ccff910241b3"
   },
   "outputs": [
    {
     "data": {
      "text/plain": [
       "(1200, 3)"
      ]
     },
     "execution_count": 13,
     "metadata": {},
     "output_type": "execute_result"
    }
   ],
   "source": [
    "annotated_data.shape"
   ]
  },
  {
   "cell_type": "code",
   "execution_count": null,
   "metadata": {
    "colab": {
     "base_uri": "https://localhost:8080/",
     "height": 206
    },
    "id": "3aVSVaKQBueP",
    "outputId": "0bda698b-ac8a-458a-95b5-5a612b199a88"
   },
   "outputs": [
    {
     "data": {
      "text/html": [
       "\n",
       "  <div id=\"df-fc109e36-3179-430d-9d60-3d21ca0bee67\">\n",
       "    <div class=\"colab-df-container\">\n",
       "      <div>\n",
       "<style scoped>\n",
       "    .dataframe tbody tr th:only-of-type {\n",
       "        vertical-align: middle;\n",
       "    }\n",
       "\n",
       "    .dataframe tbody tr th {\n",
       "        vertical-align: top;\n",
       "    }\n",
       "\n",
       "    .dataframe thead th {\n",
       "        text-align: right;\n",
       "    }\n",
       "</style>\n",
       "<table border=\"1\" class=\"dataframe\">\n",
       "  <thead>\n",
       "    <tr style=\"text-align: right;\">\n",
       "      <th></th>\n",
       "      <th>text</th>\n",
       "      <th>confidence</th>\n",
       "      <th>category</th>\n",
       "    </tr>\n",
       "  </thead>\n",
       "  <tbody>\n",
       "    <tr>\n",
       "      <th>0</th>\n",
       "      <td>Разглядывая их под микроскопом , мы увидим при...</td>\n",
       "      <td>100.00%</td>\n",
       "      <td>4</td>\n",
       "    </tr>\n",
       "    <tr>\n",
       "      <th>1</th>\n",
       "      <td>Иногда талантливые люди , не найдя себя в наук...</td>\n",
       "      <td>100.00%</td>\n",
       "      <td>4</td>\n",
       "    </tr>\n",
       "    <tr>\n",
       "      <th>2</th>\n",
       "      <td>Кандидаты в депутаты от общественных организац...</td>\n",
       "      <td>100.00%</td>\n",
       "      <td>6</td>\n",
       "    </tr>\n",
       "    <tr>\n",
       "      <th>3</th>\n",
       "      <td>Главное , чтобы \" социальные лифты \" не остана...</td>\n",
       "      <td>100.00%</td>\n",
       "      <td>6</td>\n",
       "    </tr>\n",
       "    <tr>\n",
       "      <th>4</th>\n",
       "      <td>Франция признает российских студентов и не при...</td>\n",
       "      <td>100.00%</td>\n",
       "      <td>2</td>\n",
       "    </tr>\n",
       "  </tbody>\n",
       "</table>\n",
       "</div>\n",
       "      <button class=\"colab-df-convert\" onclick=\"convertToInteractive('df-fc109e36-3179-430d-9d60-3d21ca0bee67')\"\n",
       "              title=\"Convert this dataframe to an interactive table.\"\n",
       "              style=\"display:none;\">\n",
       "        \n",
       "  <svg xmlns=\"http://www.w3.org/2000/svg\" height=\"24px\"viewBox=\"0 0 24 24\"\n",
       "       width=\"24px\">\n",
       "    <path d=\"M0 0h24v24H0V0z\" fill=\"none\"/>\n",
       "    <path d=\"M18.56 5.44l.94 2.06.94-2.06 2.06-.94-2.06-.94-.94-2.06-.94 2.06-2.06.94zm-11 1L8.5 8.5l.94-2.06 2.06-.94-2.06-.94L8.5 2.5l-.94 2.06-2.06.94zm10 10l.94 2.06.94-2.06 2.06-.94-2.06-.94-.94-2.06-.94 2.06-2.06.94z\"/><path d=\"M17.41 7.96l-1.37-1.37c-.4-.4-.92-.59-1.43-.59-.52 0-1.04.2-1.43.59L10.3 9.45l-7.72 7.72c-.78.78-.78 2.05 0 2.83L4 21.41c.39.39.9.59 1.41.59.51 0 1.02-.2 1.41-.59l7.78-7.78 2.81-2.81c.8-.78.8-2.07 0-2.86zM5.41 20L4 18.59l7.72-7.72 1.47 1.35L5.41 20z\"/>\n",
       "  </svg>\n",
       "      </button>\n",
       "      \n",
       "  <style>\n",
       "    .colab-df-container {\n",
       "      display:flex;\n",
       "      flex-wrap:wrap;\n",
       "      gap: 12px;\n",
       "    }\n",
       "\n",
       "    .colab-df-convert {\n",
       "      background-color: #E8F0FE;\n",
       "      border: none;\n",
       "      border-radius: 50%;\n",
       "      cursor: pointer;\n",
       "      display: none;\n",
       "      fill: #1967D2;\n",
       "      height: 32px;\n",
       "      padding: 0 0 0 0;\n",
       "      width: 32px;\n",
       "    }\n",
       "\n",
       "    .colab-df-convert:hover {\n",
       "      background-color: #E2EBFA;\n",
       "      box-shadow: 0px 1px 2px rgba(60, 64, 67, 0.3), 0px 1px 3px 1px rgba(60, 64, 67, 0.15);\n",
       "      fill: #174EA6;\n",
       "    }\n",
       "\n",
       "    [theme=dark] .colab-df-convert {\n",
       "      background-color: #3B4455;\n",
       "      fill: #D2E3FC;\n",
       "    }\n",
       "\n",
       "    [theme=dark] .colab-df-convert:hover {\n",
       "      background-color: #434B5C;\n",
       "      box-shadow: 0px 1px 3px 1px rgba(0, 0, 0, 0.15);\n",
       "      filter: drop-shadow(0px 1px 2px rgba(0, 0, 0, 0.3));\n",
       "      fill: #FFFFFF;\n",
       "    }\n",
       "  </style>\n",
       "\n",
       "      <script>\n",
       "        const buttonEl =\n",
       "          document.querySelector('#df-fc109e36-3179-430d-9d60-3d21ca0bee67 button.colab-df-convert');\n",
       "        buttonEl.style.display =\n",
       "          google.colab.kernel.accessAllowed ? 'block' : 'none';\n",
       "\n",
       "        async function convertToInteractive(key) {\n",
       "          const element = document.querySelector('#df-fc109e36-3179-430d-9d60-3d21ca0bee67');\n",
       "          const dataTable =\n",
       "            await google.colab.kernel.invokeFunction('convertToInteractive',\n",
       "                                                     [key], {});\n",
       "          if (!dataTable) return;\n",
       "\n",
       "          const docLinkHtml = 'Like what you see? Visit the ' +\n",
       "            '<a target=\"_blank\" href=https://colab.research.google.com/notebooks/data_table.ipynb>data table notebook</a>'\n",
       "            + ' to learn more about interactive tables.';\n",
       "          element.innerHTML = '';\n",
       "          dataTable['output_type'] = 'display_data';\n",
       "          await google.colab.output.renderOutput(dataTable, element);\n",
       "          const docLink = document.createElement('div');\n",
       "          docLink.innerHTML = docLinkHtml;\n",
       "          element.appendChild(docLink);\n",
       "        }\n",
       "      </script>\n",
       "    </div>\n",
       "  </div>\n",
       "  "
      ],
      "text/plain": [
       "                                                text confidence  category\n",
       "0  Разглядывая их под микроскопом , мы увидим при...    100.00%         4\n",
       "1  Иногда талантливые люди , не найдя себя в наук...    100.00%         4\n",
       "2  Кандидаты в депутаты от общественных организац...    100.00%         6\n",
       "3  Главное , чтобы \" социальные лифты \" не остана...    100.00%         6\n",
       "4  Франция признает российских студентов и не при...    100.00%         2"
      ]
     },
     "execution_count": 14,
     "metadata": {},
     "output_type": "execute_result"
    }
   ],
   "source": [
    "annotated_data.head()"
   ]
  },
  {
   "cell_type": "code",
   "execution_count": null,
   "metadata": {
    "id": "L_yAI_qqBua-"
   },
   "outputs": [],
   "source": [
    "#annotated_data.to_csv('full_annotated_data.tsv', index=False)"
   ]
  },
  {
   "cell_type": "code",
   "execution_count": null,
   "metadata": {
    "id": "9GuuDS4_BuXq"
   },
   "outputs": [],
   "source": []
  },
  {
   "cell_type": "code",
   "execution_count": null,
   "metadata": {
    "id": "wmzCXzFGBuVl"
   },
   "outputs": [],
   "source": []
  },
  {
   "cell_type": "code",
   "execution_count": null,
   "metadata": {
    "id": "arnjsb8aBuSh"
   },
   "outputs": [],
   "source": []
  },
  {
   "cell_type": "markdown",
   "metadata": {
    "id": "gkVsHIYU8mck"
   },
   "source": [
    "# Extracting the debendency tree of the selected sentences, which are 1200 sentences, from the corpus"
   ]
  },
  {
   "cell_type": "markdown",
   "metadata": {
    "id": "UhMpJ5oYhMtn"
   },
   "source": [
    "### Mapping [Russian dataset]\n"
   ]
  },
  {
   "cell_type": "code",
   "execution_count": null,
   "metadata": {
    "colab": {
     "base_uri": "https://localhost:8080/",
     "height": 206
    },
    "id": "4NyOJvezTBa_",
    "outputId": "67e644d4-9204-4bb2-b82e-64ba0d726f2e"
   },
   "outputs": [
    {
     "data": {
      "text/html": [
       "\n",
       "  <div id=\"df-bb4a3f0b-2a2d-4a98-aeb5-2b247ffcc163\">\n",
       "    <div class=\"colab-df-container\">\n",
       "      <div>\n",
       "<style scoped>\n",
       "    .dataframe tbody tr th:only-of-type {\n",
       "        vertical-align: middle;\n",
       "    }\n",
       "\n",
       "    .dataframe tbody tr th {\n",
       "        vertical-align: top;\n",
       "    }\n",
       "\n",
       "    .dataframe thead th {\n",
       "        text-align: right;\n",
       "    }\n",
       "</style>\n",
       "<table border=\"1\" class=\"dataframe\">\n",
       "  <thead>\n",
       "    <tr style=\"text-align: right;\">\n",
       "      <th></th>\n",
       "      <th>text</th>\n",
       "      <th>confidence</th>\n",
       "      <th>category</th>\n",
       "    </tr>\n",
       "  </thead>\n",
       "  <tbody>\n",
       "    <tr>\n",
       "      <th>0</th>\n",
       "      <td>Разглядывая их под микроскопом , мы увидим при...</td>\n",
       "      <td>100.00%</td>\n",
       "      <td>4</td>\n",
       "    </tr>\n",
       "    <tr>\n",
       "      <th>1</th>\n",
       "      <td>Иногда талантливые люди , не найдя себя в наук...</td>\n",
       "      <td>100.00%</td>\n",
       "      <td>4</td>\n",
       "    </tr>\n",
       "    <tr>\n",
       "      <th>2</th>\n",
       "      <td>Кандидаты в депутаты от общественных организац...</td>\n",
       "      <td>100.00%</td>\n",
       "      <td>6</td>\n",
       "    </tr>\n",
       "    <tr>\n",
       "      <th>3</th>\n",
       "      <td>Главное , чтобы \" социальные лифты \" не остана...</td>\n",
       "      <td>100.00%</td>\n",
       "      <td>6</td>\n",
       "    </tr>\n",
       "    <tr>\n",
       "      <th>4</th>\n",
       "      <td>Франция признает российских студентов и не при...</td>\n",
       "      <td>100.00%</td>\n",
       "      <td>2</td>\n",
       "    </tr>\n",
       "  </tbody>\n",
       "</table>\n",
       "</div>\n",
       "      <button class=\"colab-df-convert\" onclick=\"convertToInteractive('df-bb4a3f0b-2a2d-4a98-aeb5-2b247ffcc163')\"\n",
       "              title=\"Convert this dataframe to an interactive table.\"\n",
       "              style=\"display:none;\">\n",
       "        \n",
       "  <svg xmlns=\"http://www.w3.org/2000/svg\" height=\"24px\"viewBox=\"0 0 24 24\"\n",
       "       width=\"24px\">\n",
       "    <path d=\"M0 0h24v24H0V0z\" fill=\"none\"/>\n",
       "    <path d=\"M18.56 5.44l.94 2.06.94-2.06 2.06-.94-2.06-.94-.94-2.06-.94 2.06-2.06.94zm-11 1L8.5 8.5l.94-2.06 2.06-.94-2.06-.94L8.5 2.5l-.94 2.06-2.06.94zm10 10l.94 2.06.94-2.06 2.06-.94-2.06-.94-.94-2.06-.94 2.06-2.06.94z\"/><path d=\"M17.41 7.96l-1.37-1.37c-.4-.4-.92-.59-1.43-.59-.52 0-1.04.2-1.43.59L10.3 9.45l-7.72 7.72c-.78.78-.78 2.05 0 2.83L4 21.41c.39.39.9.59 1.41.59.51 0 1.02-.2 1.41-.59l7.78-7.78 2.81-2.81c.8-.78.8-2.07 0-2.86zM5.41 20L4 18.59l7.72-7.72 1.47 1.35L5.41 20z\"/>\n",
       "  </svg>\n",
       "      </button>\n",
       "      \n",
       "  <style>\n",
       "    .colab-df-container {\n",
       "      display:flex;\n",
       "      flex-wrap:wrap;\n",
       "      gap: 12px;\n",
       "    }\n",
       "\n",
       "    .colab-df-convert {\n",
       "      background-color: #E8F0FE;\n",
       "      border: none;\n",
       "      border-radius: 50%;\n",
       "      cursor: pointer;\n",
       "      display: none;\n",
       "      fill: #1967D2;\n",
       "      height: 32px;\n",
       "      padding: 0 0 0 0;\n",
       "      width: 32px;\n",
       "    }\n",
       "\n",
       "    .colab-df-convert:hover {\n",
       "      background-color: #E2EBFA;\n",
       "      box-shadow: 0px 1px 2px rgba(60, 64, 67, 0.3), 0px 1px 3px 1px rgba(60, 64, 67, 0.15);\n",
       "      fill: #174EA6;\n",
       "    }\n",
       "\n",
       "    [theme=dark] .colab-df-convert {\n",
       "      background-color: #3B4455;\n",
       "      fill: #D2E3FC;\n",
       "    }\n",
       "\n",
       "    [theme=dark] .colab-df-convert:hover {\n",
       "      background-color: #434B5C;\n",
       "      box-shadow: 0px 1px 3px 1px rgba(0, 0, 0, 0.15);\n",
       "      filter: drop-shadow(0px 1px 2px rgba(0, 0, 0, 0.3));\n",
       "      fill: #FFFFFF;\n",
       "    }\n",
       "  </style>\n",
       "\n",
       "      <script>\n",
       "        const buttonEl =\n",
       "          document.querySelector('#df-bb4a3f0b-2a2d-4a98-aeb5-2b247ffcc163 button.colab-df-convert');\n",
       "        buttonEl.style.display =\n",
       "          google.colab.kernel.accessAllowed ? 'block' : 'none';\n",
       "\n",
       "        async function convertToInteractive(key) {\n",
       "          const element = document.querySelector('#df-bb4a3f0b-2a2d-4a98-aeb5-2b247ffcc163');\n",
       "          const dataTable =\n",
       "            await google.colab.kernel.invokeFunction('convertToInteractive',\n",
       "                                                     [key], {});\n",
       "          if (!dataTable) return;\n",
       "\n",
       "          const docLinkHtml = 'Like what you see? Visit the ' +\n",
       "            '<a target=\"_blank\" href=https://colab.research.google.com/notebooks/data_table.ipynb>data table notebook</a>'\n",
       "            + ' to learn more about interactive tables.';\n",
       "          element.innerHTML = '';\n",
       "          dataTable['output_type'] = 'display_data';\n",
       "          await google.colab.output.renderOutput(dataTable, element);\n",
       "          const docLink = document.createElement('div');\n",
       "          docLink.innerHTML = docLinkHtml;\n",
       "          element.appendChild(docLink);\n",
       "        }\n",
       "      </script>\n",
       "    </div>\n",
       "  </div>\n",
       "  "
      ],
      "text/plain": [
       "                                                text confidence  category\n",
       "0  Разглядывая их под микроскопом , мы увидим при...    100.00%         4\n",
       "1  Иногда талантливые люди , не найдя себя в наук...    100.00%         4\n",
       "2  Кандидаты в депутаты от общественных организац...    100.00%         6\n",
       "3  Главное , чтобы \" социальные лифты \" не остана...    100.00%         6\n",
       "4  Франция признает российских студентов и не при...    100.00%         2"
      ]
     },
     "execution_count": 16,
     "metadata": {},
     "output_type": "execute_result"
    }
   ],
   "source": [
    "df = pd.read_csv('full_annotated_data.tsv')\n",
    "\n",
    "df.head()"
   ]
  },
  {
   "cell_type": "code",
   "execution_count": null,
   "metadata": {
    "id": "M2SdmcVghO3P"
   },
   "outputs": [],
   "source": [
    "import csv\n",
    "sentence_to_columns = {}\n",
    "sentences_tsv = []\n",
    "OUTPUT_tsv = []\n",
    "CONFIDENCE_tsv = []\n",
    "with open('full_annotated_data.tsv', 'r', encoding='utf-8') as f:\n",
    "    reader = csv.reader(f)\n",
    "    for row in reader:\n",
    "        sentences_tsv.append(row[0])\n",
    "        OUTPUT_tsv.append(row[1])\n",
    "        CONFIDENCE_tsv.append(row[2])\n",
    "        sentence_to_columns[row[0]] = (row[1], row[2])"
   ]
  },
  {
   "cell_type": "code",
   "execution_count": null,
   "metadata": {
    "id": "saaTcVoa4UZj"
   },
   "outputs": [],
   "source": [
    "sentences = sentences_tsv[1:]\n",
    "OUTPUT = OUTPUT_tsv[1:]\n",
    "CONFIDENCE = CONFIDENCE_tsv[1:]"
   ]
  },
  {
   "cell_type": "code",
   "execution_count": null,
   "metadata": {
    "colab": {
     "base_uri": "https://localhost:8080/"
    },
    "id": "18_fMsTQ4WgR",
    "outputId": "6550a073-adc0-441e-d73a-0d277aa12436"
   },
   "outputs": [
    {
     "data": {
      "text/plain": [
       "1291"
      ]
     },
     "execution_count": 14,
     "metadata": {},
     "output_type": "execute_result"
    }
   ],
   "source": [
    "#len(sentences)\n",
    "#len(OUTPUT)\n",
    "len(CONFIDENCE)"
   ]
  },
  {
   "cell_type": "code",
   "execution_count": null,
   "metadata": {
    "id": "v-3VJEvK6ADl"
   },
   "outputs": [],
   "source": [
    "%%capture\n",
    "\n",
    "!pip install nltk conllu\n",
    "import nltk\n",
    "import conllu\n",
    "\n",
    "from google.colab import drive\n",
    "drive.mount('/content/drive')\n",
    "data_train = \"/content/drive/MyDrive/Ru_Syntagrus_Dataset/ru_syntagrus-ud-train.conllu\""
   ]
  },
  {
   "cell_type": "code",
   "execution_count": null,
   "metadata": {
    "id": "DR5wsyGr6OpG"
   },
   "outputs": [],
   "source": [
    "import pandas as pd \n",
    "# Read the UD Russian SynTagRus dataset in CONLU format\n",
    "with open(data_train, \"r\") as file:\n",
    "    data = conllu.parse(file.read())"
   ]
  },
  {
   "cell_type": "code",
   "execution_count": null,
   "metadata": {
    "id": "bdgvzN2y6Ort"
   },
   "outputs": [],
   "source": [
    "filtered_data = []\n",
    "for sent in data:\n",
    "    # Get the text of the sentence\n",
    "    text = \" \".join([token[\"form\"] for token in sent])\n",
    "    if text in sentences:\n",
    "        filtered_data.append(sent)"
   ]
  },
  {
   "cell_type": "code",
   "execution_count": null,
   "metadata": {
    "id": "shCI83TD6OuG"
   },
   "outputs": [],
   "source": [
    "# Write the filtered sentences to a new CONLL-U file\n",
    "\n",
    "with open('full_annotated_sentence.conllu', 'w') as f:\n",
    "      f.writelines([sentence.serialize() + \"\\n\" for sentence in filtered_data])"
   ]
  },
  {
   "cell_type": "code",
   "execution_count": null,
   "metadata": {
    "id": "L6y0Y8YN6Ow5"
   },
   "outputs": [],
   "source": [
    "## Test the new dataset \n",
    "with open(\"full_annotated_sentence.conllu\", \"r\") as file:\n",
    "    data = conllu.parse(file.read())"
   ]
  },
  {
   "cell_type": "code",
   "execution_count": null,
   "metadata": {
    "colab": {
     "base_uri": "https://localhost:8080/"
    },
    "id": "llS3yS8A6O4c",
    "outputId": "0dc61bf5-21ec-4867-ed46-f84039d92925"
   },
   "outputs": [
    {
     "data": {
      "text/plain": [
       "TokenList<За, неделю, начальник, управления, собирался, позвонить, Савельеву, ,, который, занимал, теперь, такой, же, пост, ,, как, и, Семен, Еремеевич, в, соседней, области, ,, и, узнать, о, деловых, качествах, Ефимовой, ., metadata={sent_id: \"2003Anketa.xml_66\", text: \"За неделю начальник управления собирался позвонить Савельеву, который занимал теперь такой же пост, как и Семен Еремеевич в соседней области, и узнать о деловых качествах Ефимовой.\"}>"
      ]
     },
     "execution_count": 20,
     "metadata": {},
     "output_type": "execute_result"
    }
   ],
   "source": [
    "data[0]"
   ]
  },
  {
   "cell_type": "code",
   "execution_count": null,
   "metadata": {
    "colab": {
     "base_uri": "https://localhost:8080/"
    },
    "id": "LP1HzWQS6O62",
    "outputId": "3718d6f2-eda7-4809-e0c7-e32205f6cab5"
   },
   "outputs": [
    {
     "data": {
      "text/plain": [
       "1200"
      ]
     },
     "execution_count": 21,
     "metadata": {},
     "output_type": "execute_result"
    }
   ],
   "source": [
    "len(data)"
   ]
  },
  {
   "cell_type": "code",
   "execution_count": null,
   "metadata": {
    "id": "IW8GskNww0_J"
   },
   "outputs": [],
   "source": []
  },
  {
   "cell_type": "code",
   "execution_count": null,
   "metadata": {
    "id": "dXJC8uRWw1Be"
   },
   "outputs": [],
   "source": []
  },
  {
   "cell_type": "code",
   "execution_count": null,
   "metadata": {
    "id": "cZlGAXrnw1D8"
   },
   "outputs": [],
   "source": []
  },
  {
   "cell_type": "code",
   "execution_count": null,
   "metadata": {
    "id": "FhtMCAGow1Ga"
   },
   "outputs": [],
   "source": []
  },
  {
   "cell_type": "code",
   "execution_count": null,
   "metadata": {
    "id": "jj9CToqkw1I4"
   },
   "outputs": [],
   "source": []
  },
  {
   "cell_type": "code",
   "execution_count": null,
   "metadata": {
    "id": "qTdBne3Gw1Lw"
   },
   "outputs": [],
   "source": []
  },
  {
   "cell_type": "markdown",
   "metadata": {
    "id": "aKQOKzEN8vDe"
   },
   "source": [
    "### Mapping [italian dataset]\n"
   ]
  },
  {
   "cell_type": "code",
   "execution_count": 1,
   "metadata": {},
   "outputs": [],
   "source": [
    "#!pip install nltk conllu"
   ]
  },
  {
   "cell_type": "code",
   "execution_count": 2,
   "metadata": {},
   "outputs": [],
   "source": [
    "import nltk\n",
    "import conllu\n",
    "import pandas as pd \n",
    "import re\n",
    "import string\n"
   ]
  },
  {
   "cell_type": "code",
   "execution_count": 3,
   "metadata": {
    "colab": {
     "base_uri": "https://localhost:8080/",
     "height": 681
    },
    "id": "tdNEBE128vDf",
    "outputId": "2a896eec-0a1d-46b6-e350-926e72663095"
   },
   "outputs": [
    {
     "data": {
      "text/html": [
       "<div>\n",
       "<style scoped>\n",
       "    .dataframe tbody tr th:only-of-type {\n",
       "        vertical-align: middle;\n",
       "    }\n",
       "\n",
       "    .dataframe tbody tr th {\n",
       "        vertical-align: top;\n",
       "    }\n",
       "\n",
       "    .dataframe thead th {\n",
       "        text-align: right;\n",
       "    }\n",
       "</style>\n",
       "<table border=\"1\" class=\"dataframe\">\n",
       "  <thead>\n",
       "    <tr style=\"text-align: right;\">\n",
       "      <th></th>\n",
       "      <th>ID</th>\n",
       "      <th>SENTENCE</th>\n",
       "      <th>judgement1</th>\n",
       "      <th>judgement2</th>\n",
       "      <th>judgement3</th>\n",
       "      <th>judgement4</th>\n",
       "      <th>judgement5</th>\n",
       "      <th>judgement6</th>\n",
       "      <th>judgement7</th>\n",
       "      <th>judgement8</th>\n",
       "      <th>...</th>\n",
       "      <th>judgement11</th>\n",
       "      <th>judgement12</th>\n",
       "      <th>judgement13</th>\n",
       "      <th>judgement14</th>\n",
       "      <th>judgement15</th>\n",
       "      <th>judgement16</th>\n",
       "      <th>judgement17</th>\n",
       "      <th>judgement18</th>\n",
       "      <th>judgement19</th>\n",
       "      <th>judgement20</th>\n",
       "    </tr>\n",
       "  </thead>\n",
       "  <tbody>\n",
       "    <tr>\n",
       "      <th>0</th>\n",
       "      <td>951583956</td>\n",
       "      <td>Quanto alla camminata incerta, va attribuita, ...</td>\n",
       "      <td>3</td>\n",
       "      <td>7</td>\n",
       "      <td>4</td>\n",
       "      <td>2</td>\n",
       "      <td>5</td>\n",
       "      <td>3</td>\n",
       "      <td>2</td>\n",
       "      <td>5</td>\n",
       "      <td>...</td>\n",
       "      <td>3</td>\n",
       "      <td>6</td>\n",
       "      <td>3</td>\n",
       "      <td>3</td>\n",
       "      <td>4</td>\n",
       "      <td>4</td>\n",
       "      <td>4</td>\n",
       "      <td>7</td>\n",
       "      <td>2</td>\n",
       "      <td>3</td>\n",
       "    </tr>\n",
       "    <tr>\n",
       "      <th>1</th>\n",
       "      <td>951584097</td>\n",
       "      <td>Campione di rugby una delle vittime, un altro ...</td>\n",
       "      <td>2</td>\n",
       "      <td>4</td>\n",
       "      <td>3</td>\n",
       "      <td>2</td>\n",
       "      <td>3</td>\n",
       "      <td>3</td>\n",
       "      <td>3</td>\n",
       "      <td>1</td>\n",
       "      <td>...</td>\n",
       "      <td>1</td>\n",
       "      <td>1</td>\n",
       "      <td>2</td>\n",
       "      <td>1</td>\n",
       "      <td>1</td>\n",
       "      <td>3</td>\n",
       "      <td>2</td>\n",
       "      <td>2</td>\n",
       "      <td>2</td>\n",
       "      <td>3</td>\n",
       "    </tr>\n",
       "    <tr>\n",
       "      <th>2</th>\n",
       "      <td>951583629</td>\n",
       "      <td>Costo dalle 100.000 alle 150.000 il mq.</td>\n",
       "      <td>2</td>\n",
       "      <td>3</td>\n",
       "      <td>2</td>\n",
       "      <td>2</td>\n",
       "      <td>1</td>\n",
       "      <td>1</td>\n",
       "      <td>2</td>\n",
       "      <td>1</td>\n",
       "      <td>...</td>\n",
       "      <td>1</td>\n",
       "      <td>3</td>\n",
       "      <td>1</td>\n",
       "      <td>3</td>\n",
       "      <td>1</td>\n",
       "      <td>1</td>\n",
       "      <td>1</td>\n",
       "      <td>1</td>\n",
       "      <td>1</td>\n",
       "      <td>1</td>\n",
       "    </tr>\n",
       "    <tr>\n",
       "      <th>3</th>\n",
       "      <td>951583242</td>\n",
       "      <td>A Valona, dove ieri è stata convocata un'altra...</td>\n",
       "      <td>1</td>\n",
       "      <td>5</td>\n",
       "      <td>3</td>\n",
       "      <td>4</td>\n",
       "      <td>2</td>\n",
       "      <td>2</td>\n",
       "      <td>1</td>\n",
       "      <td>3</td>\n",
       "      <td>...</td>\n",
       "      <td>1</td>\n",
       "      <td>3</td>\n",
       "      <td>4</td>\n",
       "      <td>2</td>\n",
       "      <td>3</td>\n",
       "      <td>1</td>\n",
       "      <td>4</td>\n",
       "      <td>3</td>\n",
       "      <td>5</td>\n",
       "      <td>3</td>\n",
       "    </tr>\n",
       "    <tr>\n",
       "      <th>4</th>\n",
       "      <td>951583156</td>\n",
       "      <td>Il mito di Allende, più di 14 anni dopo la sua...</td>\n",
       "      <td>4</td>\n",
       "      <td>5</td>\n",
       "      <td>6</td>\n",
       "      <td>2</td>\n",
       "      <td>3</td>\n",
       "      <td>5</td>\n",
       "      <td>4</td>\n",
       "      <td>5</td>\n",
       "      <td>...</td>\n",
       "      <td>4</td>\n",
       "      <td>5</td>\n",
       "      <td>7</td>\n",
       "      <td>2</td>\n",
       "      <td>4</td>\n",
       "      <td>3</td>\n",
       "      <td>5</td>\n",
       "      <td>7</td>\n",
       "      <td>3</td>\n",
       "      <td>2</td>\n",
       "    </tr>\n",
       "  </tbody>\n",
       "</table>\n",
       "<p>5 rows × 22 columns</p>\n",
       "</div>"
      ],
      "text/plain": [
       "          ID                                           SENTENCE  judgement1  \\\n",
       "0  951583956  Quanto alla camminata incerta, va attribuita, ...           3   \n",
       "1  951584097  Campione di rugby una delle vittime, un altro ...           2   \n",
       "2  951583629            Costo dalle 100.000 alle 150.000 il mq.           2   \n",
       "3  951583242  A Valona, dove ieri è stata convocata un'altra...           1   \n",
       "4  951583156  Il mito di Allende, più di 14 anni dopo la sua...           4   \n",
       "\n",
       "   judgement2  judgement3  judgement4  judgement5  judgement6  judgement7  \\\n",
       "0           7           4           2           5           3           2   \n",
       "1           4           3           2           3           3           3   \n",
       "2           3           2           2           1           1           2   \n",
       "3           5           3           4           2           2           1   \n",
       "4           5           6           2           3           5           4   \n",
       "\n",
       "   judgement8  ...  judgement11  judgement12  judgement13  judgement14  \\\n",
       "0           5  ...            3            6            3            3   \n",
       "1           1  ...            1            1            2            1   \n",
       "2           1  ...            1            3            1            3   \n",
       "3           3  ...            1            3            4            2   \n",
       "4           5  ...            4            5            7            2   \n",
       "\n",
       "   judgement15  judgement16  judgement17  judgement18  judgement19  \\\n",
       "0            4            4            4            7            2   \n",
       "1            1            3            2            2            2   \n",
       "2            1            1            1            1            1   \n",
       "3            3            1            4            3            5   \n",
       "4            4            3            5            7            3   \n",
       "\n",
       "   judgement20  \n",
       "0            3  \n",
       "1            3  \n",
       "2            1  \n",
       "3            3  \n",
       "4            2  \n",
       "\n",
       "[5 rows x 22 columns]"
      ]
     },
     "execution_count": 3,
     "metadata": {},
     "output_type": "execute_result"
    }
   ],
   "source": [
    "df = pd.read_csv('/home/jimmy/Downloads/IU/Thesis/Github/data/complexity_datasets/complexity_ds_it.csv')\n",
    "\n",
    "df.head()"
   ]
  },
  {
   "cell_type": "code",
   "execution_count": 4,
   "metadata": {
    "id": "PrdwfgNH-m7T"
   },
   "outputs": [],
   "source": [
    "it_sentences = df['SENTENCE'].tolist()"
   ]
  },
  {
   "cell_type": "code",
   "execution_count": 5,
   "metadata": {
    "colab": {
     "base_uri": "https://localhost:8080/"
    },
    "id": "IGgcZMNt-uf1",
    "outputId": "58763f8e-d71a-44be-8c72-5ba4226f053a"
   },
   "outputs": [
    {
     "data": {
      "text/plain": [
       "['Quanto alla camminata incerta, va attribuita, fino a prova contraria, alla causa di sempre:',\n",
       " 'Campione di rugby una delle vittime, un altro ha le gambe tranciate.',\n",
       " 'Costo dalle 100.000 alle 150.000 il mq.',\n",
       " \"A Valona, dove ieri è stata convocata un'altra manifestazione di protesta cui hanno partecipato 5.000 persone, l'atmosfera è meno elettrica.\",\n",
       " 'Il mito di Allende, più di 14 anni dopo la sua tragica morte, comincia ad affievolirsi anche nella sinistra cilena?']"
      ]
     },
     "execution_count": 5,
     "metadata": {},
     "output_type": "execute_result"
    }
   ],
   "source": [
    "it_sentences[:5]"
   ]
  },
  {
   "cell_type": "code",
   "execution_count": 6,
   "metadata": {
    "colab": {
     "base_uri": "https://localhost:8080/"
    },
    "id": "Dqdg7Yac-yx_",
    "outputId": "74f0f88a-f15f-4b41-fda6-cf062f967631"
   },
   "outputs": [
    {
     "data": {
      "text/plain": [
       "1122"
      ]
     },
     "execution_count": 6,
     "metadata": {},
     "output_type": "execute_result"
    }
   ],
   "source": [
    "len(it_sentences)"
   ]
  },
  {
   "cell_type": "code",
   "execution_count": 7,
   "metadata": {
    "id": "ZNnC4RLl_OYJ"
   },
   "outputs": [],
   "source": [
    "it_ds = \"/home/jimmy/Downloads/IU/Thesis/Universal Dependencies 2.10/ud-treebanks-v2.10/UD_Italian-ISDT/it_isdt-ud-train.conllu\"\n"
   ]
  },
  {
   "cell_type": "code",
   "execution_count": 8,
   "metadata": {},
   "outputs": [],
   "source": [
    "\n",
    "def normalize_sentence(sentence):\n",
    "    # Remove spaces around punctuation marks\n",
    "    sentence = re.sub(r'\\s+([.,;:!?-])', r'\\1', sentence)\n",
    "    \n",
    "    # Remove punctuation, convert to lowercase, and replace multiple whitespaces with a single space\n",
    "    return re.sub(r'\\s+', ' ', sentence.translate(str.maketrans(\"\", \"\", string.punctuation)).lower().strip())\n"
   ]
  },
  {
   "cell_type": "code",
   "execution_count": 9,
   "metadata": {},
   "outputs": [],
   "source": [
    "with open(it_ds, \"r\") as file:\n",
    "    it_data = conllu.parse(file.read())"
   ]
  },
  {
   "cell_type": "code",
   "execution_count": 10,
   "metadata": {},
   "outputs": [
    {
     "data": {
      "text/plain": [
       "13121"
      ]
     },
     "execution_count": 10,
     "metadata": {},
     "output_type": "execute_result"
    }
   ],
   "source": [
    "len(it_data)"
   ]
  },
  {
   "cell_type": "code",
   "execution_count": 11,
   "metadata": {},
   "outputs": [
    {
     "data": {
      "text/plain": [
       "TokenList<Inconsueto, allarme, alla, a, la, Tate, Gallery, :, metadata={sent_id: \"isst_tanl-5\", text: \"Inconsueto allarme alla Tate Gallery:\"}>"
      ]
     },
     "execution_count": 11,
     "metadata": {},
     "output_type": "execute_result"
    }
   ],
   "source": [
    "it_data[3]"
   ]
  },
  {
   "cell_type": "code",
   "execution_count": 12,
   "metadata": {},
   "outputs": [],
   "source": [
    "# Create a dictionary to map sentences to their corresponding dependency tree\n",
    "it_trees = {normalize_sentence(str(sentence.metadata['text'])): sentence for sentence in it_data}\n"
   ]
  },
  {
   "cell_type": "code",
   "execution_count": 13,
   "metadata": {},
   "outputs": [],
   "source": [
    "# Extract the dependency tree for each sentence\n",
    "normalized_it_sentences = [normalize_sentence(sentence) for sentence in it_sentences]\n"
   ]
  },
  {
   "cell_type": "code",
   "execution_count": 14,
   "metadata": {},
   "outputs": [],
   "source": [
    "# Extract the dependency tree for each normalized sentence\n",
    "it_dependency_trees = [it_trees[normalized_sentence] for normalized_sentence in normalized_it_sentences if normalized_sentence in it_trees]\n"
   ]
  },
  {
   "cell_type": "code",
   "execution_count": 15,
   "metadata": {},
   "outputs": [
    {
     "name": "stdout",
     "output_type": "stream",
     "text": [
      "TokenList<Quanto, alla, a, la, camminata, incerta, ,, va, attribuita, ,, fino, a, prova, contraria, ,, alla, a, la, causa, di, sempre, :, metadata={sent_id: \"isst_tanl-282\", text: \"Quanto alla camminata incerta, va attribuita, fino a prova contraria, alla causa di sempre:\"}>\n",
      "\n",
      "TokenList<Campione, di, rugby, una, delle, di, le, vittime, ,, un, altro, ha, le, gambe, tranciate, ., metadata={sent_id: \"isst_tanl-1248\", text: \"Campione di rugby una delle vittime, un altro ha le gambe tranciate.\"}>\n",
      "\n",
      "TokenList<Costo, dalle, da, le, 100.000, alle, a, le, 150.000, il, mq, ., metadata={sent_id: \"isst_tanl-3128\", text: \"Costo dalle 100.000 alle 150.000 il mq.\"}>\n",
      "\n",
      "TokenList<A, Valona, ,, dove, ieri, è, stata, convocata, un', altra, manifestazione, di, protesta, cui, hanno, partecipato, 5.000, persone, ,, l', atmosfera, è, meno, elettrica, ., metadata={sent_id: \"tut-2252\", text: \"A Valona, dove ieri è stata convocata un'altra manifestazione di protesta cui hanno partecipato 5.000 persone, l'atmosfera è meno elettrica.\"}>\n",
      "\n",
      "TokenList<Il, mito, di, Allende, ,, più, di, 14, anni, dopo, la, sua, tragica, morte, ,, comincia, ad, affievolirsi, affievolir, si, anche, nella, in, la, sinistra, cilena, ?, metadata={sent_id: \"isst_tanl-3594\", text: \"Il mito di Allende, più di 14 anni dopo la sua tragica morte, comincia ad affievolirsi anche nella sinistra cilena?\"}>\n",
      "\n"
     ]
    }
   ],
   "source": [
    "for tree in it_dependency_trees[:5]:\n",
    "    print(tree)\n",
    "    print()"
   ]
  },
  {
   "cell_type": "code",
   "execution_count": 16,
   "metadata": {},
   "outputs": [
    {
     "data": {
      "text/plain": [
       "1081"
      ]
     },
     "execution_count": 16,
     "metadata": {},
     "output_type": "execute_result"
    }
   ],
   "source": [
    "len(it_dependency_trees)"
   ]
  },
  {
   "cell_type": "code",
   "execution_count": null,
   "metadata": {},
   "outputs": [],
   "source": []
  },
  {
   "cell_type": "code",
   "execution_count": null,
   "metadata": {},
   "outputs": [],
   "source": []
  },
  {
   "cell_type": "code",
   "execution_count": 17,
   "metadata": {},
   "outputs": [],
   "source": [
    "\n",
    "#!pip install python-Levenshtein"
   ]
  },
  {
   "cell_type": "code",
   "execution_count": 18,
   "metadata": {},
   "outputs": [],
   "source": [
    "import Levenshtein\n",
    "\n",
    "def find_closest_sentence(sentence, sentence_tree_map):\n",
    "    distances = [(Levenshtein.distance(sentence, tree_sentence), tree_sentence) for tree_sentence in sentence_tree_map]\n",
    "    closest_sentence = min(distances, key=lambda x: x[0])[1]\n",
    "    return sentence_tree_map[closest_sentence]"
   ]
  },
  {
   "cell_type": "code",
   "execution_count": 19,
   "metadata": {},
   "outputs": [
    {
     "name": "stdout",
     "output_type": "stream",
     "text": [
      "the original text :  i farmaci anti rigetto hanno un effetto di indebolimento sulle difese immunitarie e il trapiantato è più esposto a infezioni influenze \n",
      "\n",
      "closest sentence :  TokenList<I, farmaci, anti, -, rigetto, hanno, un, effetto, di, indebolimento, sulle, su, le, difese, immunitarie, e, il, trapiantato, è, più, esposto, a, infezioni, ,, influenze, ., metadata={sent_id: \"isst_tanl-3919\", text: \"I farmaci anti-rigetto hanno un effetto di indebolimento sulle difese immunitarie e il trapiantato è più esposto a infezioni, influenze.\"}>\n",
      "\n",
      "the original text :  sarebbero numerosi i dipendenti del servizio pubblico afflitti dal vizietto di pigiare un potroppo il piede sullacceleratore \n",
      "\n",
      "closest sentence :  TokenList<sarebbero, numerosi, i, dipendenti, del, di, il, servizio, pubblico, afflitti, dal, da, il, \", vizietto, \", di, pigiare, un, po', troppo, il, piede, sull', su, l', acceleratore, ., metadata={sent_id: \"isst_tanl-2780\", text: \"sarebbero numerosi i dipendenti del servizio pubblico afflitti dal \"vizietto\" di pigiare un po' troppo il piede sull'acceleratore.\"}>\n",
      "\n",
      "the original text :  è un pocome rivendicare ai laici il diritto di essere teologi \n",
      "\n",
      "closest sentence :  TokenList<\", È, un, po', come, rivendicare, ai, a, i, laici, il, diritto, di, essere, teologi, :, metadata={sent_id: \"isst_tanl-236\", text: \"\"È un po' come rivendicare ai laici il diritto di essere teologi:\"}>\n",
      "\n",
      "the original text :  era il79 racconta pallucca continuai a lavorare ma passai a mansioni di ufficio \n",
      "\n",
      "closest sentence :  TokenList<Era, il, '79, \", ;, racconta, Pallucca, ,, \", continuai, a, lavorare, ma, passai, a, mansioni, di, ufficio, ., metadata={sent_id: \"isst_tanl-3853\", text: \"Era il '79\"; racconta Pallucca, \"continuai a lavorare ma passai a mansioni di ufficio.\"}>\n",
      "\n",
      "the original text :  al 41 del primo tempo vantaggio olandese con redeker su calcio dangolo dopo ingenuità di colonnese \n",
      "\n",
      "closest sentence :  TokenList<Al, A, il, 41', del, di, il, primo, tempo, vantaggio, olandese, con, Redeker, su, calcio, d', angolo, dopo, ingenuità, di, Colonnese, ., metadata={sent_id: \"isst_tanl-2377\", text: \"Al 41'del primo tempo vantaggio olandese con Redeker su calcio d'angolo dopo ingenuità di Colonnese.\"}>\n",
      "\n",
      "the original text :  lanticipo della finanziaria98 per il presidente del consiglio è invece utile ma non indispensabile \n",
      "\n",
      "closest sentence :  TokenList<L', anticipo, della, di, la, Finanziaria, '98, ,, per, il, presidente, del, di, il, Consiglio, ,, è, invece, utile, ma, non, indispensabile, ., metadata={sent_id: \"tut-2320\", text: \"L'anticipo della Finanziaria '98, per il presidente del Consiglio, è invece utile ma non indispensabile.\"}>\n",
      "\n",
      "the original text :  poi ho disertato nel93 sono stato catturato e quindi condannato a sei mesi di carcere da belgrado \n",
      "\n",
      "closest sentence :  TokenList<Poi, ho, disertato, nel, in, il, '93, ,, sono, stato, catturato, e, quindi, condannato, a, sei, mesi, di, carcere, da, Belgrado, ., metadata={sent_id: \"tut-2414\", text: \"Poi ho disertato nel '93, sono stato catturato e quindi condannato a sei mesi di carcere da Belgrado.\"}>\n",
      "\n",
      "the original text :  ma i primi a doversene ne convincere dovranno essere gli stessi albanesi a cominciare dal parlamento eletto lo scorso maggio e palesemente ben poco rappresentativo almeno nella situazione attuale \n",
      "\n",
      "closest sentence :  TokenList<Ma, i, primi, a, doversene, dover, se, ne, convincere, dovranno, essere, gli, stessi, albanesi, ,, a, cominciare, dal, da, il, Parlamento, eletto, lo, scorso, maggio, e, palesemente, ben, poco, rappresentativo, (, almeno, nella, in, la, situazione, attuale, ), ., metadata={sent_id: \"tut-2621\", text: \"Ma i primi a doversene convincere dovranno essere gli stessi albanesi, a cominciare dal Parlamento eletto lo scorso maggio e palesemente ben poco rappresentativo (almeno nella situazione attuale).\"}>\n",
      "\n",
      "the original text :  nel79 la maratona di spalato vinta da kausis risultò più corta di 991 metri \n",
      "\n",
      "closest sentence :  TokenList<Nel, In, il, '79, ,, la, maratona, di, Spalato, ,, vinta, da, Kausis, ,, risultò, più, corta, di, 991, metri, ;, metadata={sent_id: \"isst_tanl-2257\", text: \"Nel '79, la maratona di Spalato, vinta da Kausis, risultò più corta di 991 metri;\"}>\n",
      "\n",
      "the original text :  prima di lei avevano vinto il titolo olimpico ondina valla 80 hs36 sara simeoni alto80 e gabriella dorio 150084 \n",
      "\n",
      "closest sentence :  TokenList<Prima, di, lei, ,, avevano, vinto, il, titolo, olimpico, Ondina, Valla, (, 80, hs, ,, '36, ), ,, Sara, Simeoni, (, alto, ,, '80, ), e, Gabriella, Dorio, (, 1.500, ,, '84, ), ., metadata={sent_id: \"isst_tanl-2255\", text: \"Prima di lei, avevano vinto il titolo olimpico Ondina Valla (80 hs, '36), Sara Simeoni (alto, '80) e Gabriella Dorio (1.500, '84).\"}>\n",
      "\n",
      "the original text :  la presenza femminile nelle carceri è raddoppiata nel decennio7484 periodo nel quale sono aumentati i detenuti per terrorismo e per tossicodipendenza \n",
      "\n",
      "closest sentence :  TokenList<La, presenza, femminile, nelle, in, le, carceri, è, raddoppiata, nel, in, il, decennio, '74, -, '84, ,, periodo, nel, in, il, quale, sono, aumentati, i, detenuti, per, terrorismo, e, per, tossicodipendenza, :, metadata={sent_id: \"isst_tanl-3797\", text: \"La presenza femminile nelle carceri è raddoppiata nel decennio '74-'84, periodo nel quale sono aumentati i detenuti per terrorismo e per tossicodipendenza:\"}>\n",
      "\n",
      "the original text :  e nel contempo richiamare lattenzione dellopinione pubblica su una riabilitazione che è un poconsiderata in italia la cenerentola delle specialità mediche \n",
      "\n",
      "closest sentence :  TokenList<E, nel, in, il, contempo, richiamare, l', attenzione, dell', di, l', opinione, pubblica, su, una, riabilitazione, che, è, un, po', considerata, in, Italia, la, cenerentola, delle, di, le, specialità, mediche, \", ., metadata={sent_id: \"isst_tanl-3901\", text: \"E nel contempo richiamare l'attenzione dell'opinione pubblica su una riabilitazione che è un po' considerata in Italia la cenerentola delle specialità mediche\".\"}>\n",
      "\n",
      "the original text :  rimanendo in tema veniamo a un insolito materiale ottenuto con marmo frantumato addizionato con resina poliestere 6 7 per cento e poi pressato sottovuoto \n",
      "\n",
      "closest sentence :  TokenList<Rimanendo, in, tema, ,, veniamo, a, un, insolito, materiale, ,, ottenuto, con, marmo, frantumato, addizionato, con, resina, poliestere, (, 6, -, 7, per, cento, ), e, poi, pressato, sottovuoto, ., metadata={sent_id: \"isst_tanl-3180\", text: \"Rimanendo in tema, veniamo a un insolito materiale, ottenuto con marmo frantumato addizionato con resina poliestere (6-7 per cento) e poi pressato sottovuoto.\"}>\n",
      "\n",
      "the original text :  a quel punto le risorse a disposizione potrebbero anche essere superiori tra i tecnici cè chi stima una cifra intorno ai 4 5 miliardi \n",
      "\n",
      "closest sentence :  TokenList<A, quel, punto, le, risorse, a, disposizione, potrebbero, anche, essere, superiori, (, tra, i, tecnici, c', è, chi, stima, una, cifra, intorno, ai, a, i, 4, -, 5, miliardi, ), ., metadata={sent_id: \"tut-2749\", text: \"A quel punto le risorse a disposizione potrebbero anche essere superiori (tra i tecnici c'è chi stima una cifra intorno ai 4-5 miliardi).\"}>\n",
      "\n",
      "the original text :  gigi lentini da carmagnola 27 marzo 1969 fu il protagonista della calda estate del mercato92 \n",
      "\n",
      "closest sentence :  TokenList<Gigi, Lentini, da, Carmagnola, (, 27, marzo, 1969, ), fu, il, protagonista, della, di, la, calda, estate, del, di, il, mercato, '92, ., metadata={sent_id: \"isst_tanl-2061\", text: \"Gigi Lentini da Carmagnola (27 marzo 1969) fu il protagonista della calda estate del mercato '92.\"}>\n",
      "\n",
      "the original text :  nel96 in ventiquattro ore sono state sequestrate 35 barche una giornata nera che gli scafisti di valona non hanno mai dimenticato \n",
      "\n",
      "closest sentence :  TokenList<Nel, In, il, '96, in, ventiquattro, ore, sono, state, sequestrate, 35, barche, ,, una, giornata, nera, che, gli, scafisti, di, Valona, non, hanno, mai, dimenticato, ., metadata={sent_id: \"tut-2249\", text: \"Nel '96 in ventiquattro ore sono state sequestrate 35 barche, una giornata nera che gli scafisti di Valona non hanno mai dimenticato.\"}>\n",
      "\n",
      "the original text :  li vedemmo arrivare nellestate del91 a bari e brindisi ammassati nelle stive delle navi senza pane nè acqua \n",
      "\n",
      "closest sentence :  TokenList<Li, vedemmo, arrivare, nell', in, l', estate, del, di, il, '91, a, Bari, e, Brindisi, ammassati, nelle, in, le, stive, delle, di, le, navi, ,, senza, pane, nè, acqua, ., metadata={sent_id: \"tut-2197\", text: \"Li vedemmo arrivare nell'estate del '91 a Bari e Brindisi ammassati nelle stive delle navi, senza pane nè acqua.\"}>\n",
      "\n",
      "the original text :  foto john hall abbeville press inc new york \n",
      "\n",
      "closest sentence :  TokenList<Foto, John, Hall, /, Abbeville, Press, Inc., ,, New, York, ., metadata={sent_id: \"isst_tanl-2994\", text: \"Foto John Hall/Abbeville Press Inc., New York.\"}>\n",
      "\n",
      "the original text :  dall88 sarà produttore domani accadrà e il portaborse di daniele luchetti e dal91 esercente in proprio di una sala cinematografica a trastevere il nuovo sacher \n",
      "\n",
      "closest sentence :  TokenList<Dall', Da, l', 88, ,, sarà, produttore, (, Domani, accadrà, e, Il, portaborse, di, Daniele, Luchetti, ), e, dal, da, il, '91, esercente, in, proprio, di, una, sala, cinematografica, a, Trastevere, ,, il, Nuovo, Sacher, ., metadata={sent_id: \"isst_tanl-1614\", text: \"Dall'88, sarà produttore (Domani accadrà e Il portaborse di Daniele Luchetti) e dal '91 esercente in proprio di una sala cinematografica a Trastevere, il Nuovo Sacher.\"}>\n",
      "\n",
      "the original text :  usalo anche come oggetto relax ogni volta che ti senti tesa passandolo sui glutei le cosce e il resto del corpo \n",
      "\n",
      "closest sentence :  TokenList<Usalo, Usa, lo, anche, come, oggetto, -, relax, ogni, volta, che, ti, senti, tesa, ,, passandolo, passando, lo, sui, su, i, glutei, ,, le, cosce, e, il, resto, del, di, il, corpo, ., metadata={sent_id: \"isst_tanl-3427\", text: \"Usalo anche come oggetto-relax ogni volta che ti senti tesa, passandolo sui glutei, le cosce e il resto del corpo.\"}>\n",
      "\n"
     ]
    },
    {
     "name": "stdout",
     "output_type": "stream",
     "text": [
      "the original text :  potente e istrionico stoichkov è andato in gol al 34 del primo tempo finalizzando alla perfezione una combinazione zola inzaghi \n",
      "\n",
      "closest sentence :  TokenList<Potente, e, istrionico, Stoichkov, è, andato, in, gol, al, a, il, 34', del, di, il, primo, tempo, finalizzando, alla, a, la, perfezione, una, combinazione, Zola, Inzaghi, ., metadata={sent_id: \"isst_tanl-2365\", text: \"Potente e istrionico Stoichkov è andato in gol al 34'del primo tempo finalizzando alla perfezione una combinazione Zola Inzaghi.\"}>\n",
      "\n",
      "the original text :  roosevelt ci veniva regolarmente e a tuttoggi alcune società di assicurazione prima di stipulare una polizza vita cominciano a esigere un accreditatissimo stato di salute mayo \n",
      "\n",
      "closest sentence :  TokenList<Roosevelt, ci, veniva, regolarmente, e, ,, a, tutt', oggi, ,, alcune, società, di, assicurazione, ,, prima, di, stipulare, una, polizza, -, vita, ,, cominciano, a, esigere, un, accreditatissimo, \", stato, di, salute, Mayo, \", ., metadata={sent_id: \"isst_tanl-3994\", text: \"Roosevelt ci veniva regolarmente e, a tutt'oggi, alcune società di assicurazione, prima di stipulare una polizza-vita, cominciano a esigere un accreditatissimo \"stato di salute Mayo\".\"}>\n",
      "\n",
      "the original text :  un evento fatale che ha messo in ginocchio altre economie balcaniche come quella bulgara ossigenate dai traffici anti embargo \n",
      "\n",
      "closest sentence :  TokenList<Un, evento, fatale, ,, che, ha, messo, in, ginocchio, altre, economie, balcaniche, ,, come, quella, bulgara, ,, ossigenate, dai, da, i, traffici, anti, -, embargo, ., metadata={sent_id: \"tut-2490\", text: \"Un evento fatale, che ha messo in ginocchio altre economie balcaniche, come quella bulgara, ossigenate dai traffici anti-embargo.\"}>\n",
      "\n",
      "the original text :  sarà la malattia di dario o forse soltanto un podi stanchezza ma la rame non è molto ottimista sul futuro \n",
      "\n",
      "closest sentence :  TokenList<Sarà, la, malattia, di, Dario, o, forse, soltanto, un, po', di, stanchezza, ,, ma, la, Rame, non, è, molto, ottimista, sul, su, il, futuro, :, metadata={sent_id: \"isst_tanl-1849\", text: \"Sarà la malattia di Dario o forse soltanto un po' di stanchezza, ma la Rame non è molto ottimista sul futuro:\"}>\n",
      "\n",
      "the original text :  era rimasto vedovo nel73 quando una malattia gli aveva portato via la moglie elsa ma aveva continuato a lavorare anche per il figlio che avevano adottato da qualche anno \n",
      "\n",
      "closest sentence :  TokenList<Era, rimasto, vedovo, nel, in, il, '73, ,, quando, una, malattia, gli, aveva, portato, via, la, moglie, Elsa, ,, ma, aveva, continuato, a, lavorare, anche, per, il, figlio, che, avevano, adottato, da, qualche, anno, :, metadata={sent_id: \"isst_tanl-2737\", text: \"Era rimasto vedovo nel '73, quando una malattia gli aveva portato via la moglie Elsa, ma aveva continuato a lavorare anche per il figlio che avevano adottato da qualche anno:\"}>\n",
      "\n",
      "the original text :  un piano di assistenza 50 100 milioni di dollari cercherà di attutire il crack delle piramidi \n",
      "\n",
      "closest sentence :  TokenList<Un, piano, di, assistenza, (, 50, -, 100, milioni, di, dollari, ), cercherà, di, attutire, il, crack, delle, di, le, piramidi, ., metadata={sent_id: \"tut-2344\", text: \"Un piano di assistenza (50-100 milioni di dollari) cercherà di attutire il crack delle piramidi.\"}>\n",
      "\n",
      "the original text :  poi alla fine del93 hanno cominciato a comprare gommoni e motoscafi mettendosi in proprio \n",
      "\n",
      "closest sentence :  TokenList<Poi, ,, alla, a, la, fine, del, di, il, '93, ,, hanno, cominciato, a, comprare, gommoni, e, motoscafi, mettendosi, mettendo, si, in, proprio, ., metadata={sent_id: \"tut-2244\", text: \"Poi, alla fine del '93, hanno cominciato a comprare gommoni e motoscafi mettendosi in proprio.\"}>\n",
      "\n",
      "the original text :  de bendictis ieri beffato in ritardo dalla giuria da un verdetto arrivato quando aveva una medaglia al collo e togliersela la fa male \n",
      "\n",
      "closest sentence :  TokenList<De, Bendictis, -, ieri, beffato, in, ritardo, dalla, da, la, giuria, ,, da, un, verdetto, arrivato, quando, aveva, una, medaglia, al, a, il, collo, e, togliersela, toglier, se, la, fa, male, -, ;, metadata={sent_id: \"isst_tanl-2224\", text: \"De Bendictis - ieri beffato in ritardo dalla giuria, da un verdetto arrivato quando aveva una medaglia al collo e togliersela fa male -;\"}>\n",
      "\n",
      "the original text :  le società hanno ottenuto in poco tempo 84 miliardi facendo la voce grossa mentre noi siamo fermi a 30 35 milioni lordi a stagione \n",
      "\n",
      "closest sentence :  TokenList<\", Le, società, hanno, ottenuto, in, poco, tempo, 84, miliardi, ,, facendo, la, voce, grossa, ,, mentre, noi, siamo, fermi, a, 30, -, 35, milioni, lordi, a, stagione, ., metadata={sent_id: \"isst_tanl-2401\", text: \"\"Le società hanno ottenuto in poco tempo 84 miliardi, facendo la voce grossa, mentre noi siamo fermi a 30-35 milioni lordi a stagione.\"}>\n",
      "\n",
      "the original text :  ai mondiali87 nei 10000 la campana venne suonata a due giri dalla fine per panetta e kunze in corsa per largento vinse lazzurro \n",
      "\n",
      "closest sentence :  TokenList<ai, a, i, Mondiali, '87, ,, nei, in, i, 10.000, ,, la, campana, venne, suonata, a, due, giri, dalla, da, la, fine, per, Panetta, e, Kunze, ,, in, corsa, per, l', argento, (, vinse, l', azzurro, ), ., metadata={sent_id: \"isst_tanl-2259\", text: \"ai Mondiali '87, nei 10.000, la campana venne suonata a due giri dalla fine per Panetta e Kunze, in corsa per l'argento (vinse l'azzurro).\"}>\n",
      "\n",
      "the original text :  fu con queste parole mentre le truppe antisommossa si preparavano allattacco che lo studente di tirana azem hajdari guidò la prima grande manifestazione di 5000 giovani nel dicembre90 \n",
      "\n",
      "closest sentence :  TokenList<Fu, con, queste, parole, ,, mentre, le, truppe, antisommossa, si, preparavano, all', a, l', attacco, ,, che, lo, studente, di, Tirana, ,, Azem, Hajdari, guidò, la, prima, grande, manifestazione, di, 5.000, giovani, nel, in, il, dicembre, '90, ., metadata={sent_id: \"tut-2283\", text: \"Fu con queste parole, mentre le truppe antisommossa si preparavano all'attacco, che lo studente di Tirana, Azem Hajdari guidò la prima grande manifestazione di 5.000 giovani nel dicembre '90.\"}>\n",
      "\n",
      "the original text :  mi auguro che la gara sia subito veloce seguirò il treno giusto anche se ho un popaura del gioco di squadra delle cinesi \n",
      "\n",
      "closest sentence :  TokenList<\", Mi, auguro, che, la, gara, sia, subito, veloce, ,, seguirò, il, treno, giusto, ,, anche, se, ho, un, po', paura, del, di, il, gioco, di, squadra, delle, di, le, cinesi, ., metadata={sent_id: \"isst_tanl-2173\", text: \"\"Mi auguro che la gara sia subito veloce, seguirò il treno giusto, anche se ho un po' paura del gioco di squadra delle cinesi.\"}>\n",
      "\n",
      "the original text :  spessore di cm 1 1 5 2 \n",
      "\n",
      "closest sentence :  TokenList<Spessore, di, cm, 1, -, 1, ,, 5, -, 2, ., metadata={sent_id: \"isst_tanl-3117\", text: \"Spessore di cm 1-1, 5-2.\"}>\n",
      "\n",
      "the original text :  la stessa euforia che gli ha fatto sparare di primo mattino un podi colpi veri verso il cielo \n",
      "\n",
      "closest sentence :  TokenList<La, stessa, euforia, che, gli, ha, fatto, sparare, ,, di, primo, mattino, ,, un, po', di, colpi, ,, veri, ,, verso, il, cielo, ., metadata={sent_id: \"isst_tanl-877\", text: \"La stessa euforia che gli ha fatto sparare, di primo mattino, un po' di colpi, veri, verso il cielo.\"}>\n",
      "\n",
      "the original text :  a volte è stata un podispettosa ma forse erano rimasugli del suo personaggio \n",
      "\n",
      "closest sentence :  TokenList<A, volte, è, stata, un, po', dispettosa, ,, ma, forse, erano, \", rimasugli, \", del, di, il, suo, personaggio, ., metadata={sent_id: \"isst_tanl-1914\", text: \"A volte è stata un po' dispettosa, ma forse erano \"rimasugli\" del suo personaggio.\"}>\n",
      "\n",
      "the original text :  a raccogliere firme e adesioni con il suo camper sergio delia andrà avanti tutta lestate girando un poper tutta litalia \n",
      "\n",
      "closest sentence :  TokenList<A, raccogliere, firme, e, adesioni, con, il, suo, camper, Sergio, D', Elia, andrà, avanti, tutta, l', estate, ,, girando, un, po', per, tutta, l', Italia, ., metadata={sent_id: \"isst_tanl-1624\", text: \"A raccogliere firme e adesioni con il suo camper Sergio D'Elia andrà avanti tutta l'estate, girando un po' per tutta l'Italia.\"}>\n",
      "\n",
      "the original text :  saverio ha risposto al trapianto in maniera ottimale e vede ridotti al minimo anche gli inevitabili disturbi connessi allassunzione quotidiana dei farmaci anti rigetto \n",
      "\n",
      "closest sentence :  TokenList<Saverio, ha, risposto, al, a, il, trapianto, in, maniera, ottimale, e, vede, ridotti, al, a, il, minimo, anche, gli, inevitabili, disturbi, connessi, all', a, l', assunzione, quotidiana, dei, di, i, farmaci, anti, -, rigetto, ., metadata={sent_id: \"isst_tanl-3916\", text: \"Saverio ha risposto al trapianto in maniera ottimale e vede ridotti al minimo anche gli inevitabili disturbi connessi all'assunzione quotidiana dei farmaci anti-rigetto.\"}>\n",
      "\n",
      "the original text :  code il record dincolonnamento spetta alla a 22 lautostrada del brennero \n",
      "\n",
      "closest sentence :  TokenList<Code, -, Il, record, d', incolonnamento, spetta, alla, a, la, A, /, 22, ,, l', autostrada, del, di, il, Brennero, :, metadata={sent_id: \"isst_tanl-1270\", text: \"Code - Il record d'incolonnamento spetta alla A/22, l'autostrada del Brennero:\"}>\n",
      "\n"
     ]
    },
    {
     "name": "stdout",
     "output_type": "stream",
     "text": [
      "the original text :  cè un popiù di vita e anche questa è una consuetudine nei quartieri periferici sono più numerosi quelli che non possono andare in vacanza \n",
      "\n",
      "closest sentence :  TokenList<C', è, un, po', più, di, vita, -, e, anche, questa, è, una, consuetudine, -, nei, in, i, quartieri, periferici, ,, sono, più, numerosi, quelli, che, non, possono, andare, in, vacanza, ., metadata={sent_id: \"isst_tanl-2840\", text: \"C'è un po' più di vita - e anche questa è una consuetudine - nei quartieri periferici, sono più numerosi quelli che non possono andare in vacanza.\"}>\n",
      "\n",
      "the original text :  litalia ha già eguagliato il bottino di roma87 quando gli azzurri si imposero con panetta 3000 siepi e damilano 20 km di marcia \n",
      "\n",
      "closest sentence :  TokenList<L', Italia, ha, già, eguagliato, il, bottino, di, Roma, '87, ,, quando, gli, azzurri, si, imposero, con, Panetta, (, 3.000, siepi, ), e, Damilano, (, 20, km, di, marcia, ), ., metadata={sent_id: \"isst_tanl-2251\", text: \"L'Italia ha già eguagliato il bottino di Roma '87, quando gli azzurri si imposero con Panetta (3.000 siepi) e Damilano (20 km di marcia).\"}>\n",
      "\n",
      "the original text :  la salvezza dei propri cittadini da situazioni in cui ormai non vi è alcuna garanzia di sicurezza e alcun controllo da parte di autorità responsabili rientra tra i diritti doveri di ogni paese \n",
      "\n",
      "closest sentence :  TokenList<La, salvezza, dei, di, i, propri, cittadini, da, situazioni, in, cui, ormai, non, vi, è, alcuna, garanzia, di, sicurezza, e, alcun, controllo, da, parte, di, autorità, responsabili, rientra, tra, i, diritti, -, doveri, di, ogni, Paese, ., metadata={sent_id: \"tut-2601\", text: \"La salvezza dei propri cittadini da situazioni in cui ormai non vi è alcuna garanzia di sicurezza e alcun controllo da parte di autorità responsabili rientra tra i diritti-doveri di ogni Paese.\"}>\n",
      "\n"
     ]
    }
   ],
   "source": [
    "# find the closest match in corpus for each missing sentence based on the Levenshtein distance and append the corresponding dependency tree to the it_dependency_trees list.\n",
    "it_dependency_trees = []\n",
    "\n",
    "\n",
    "for index, normalized_sentence in enumerate(normalized_it_sentences):\n",
    "    if normalized_sentence in it_trees:\n",
    "        it_dependency_trees.append(it_trees[normalized_sentence])\n",
    "    else:\n",
    "        \n",
    "        closest_tree = find_closest_sentence(normalized_sentence, it_trees)\n",
    "        it_dependency_trees.append(closest_tree)\n",
    "        print('the original text : ', normalized_sentence,'\\n')\n",
    "        print('closest sentence : ', closest_tree)\n",
    "        print(\"\")"
   ]
  },
  {
   "cell_type": "code",
   "execution_count": 20,
   "metadata": {},
   "outputs": [
    {
     "name": "stdout",
     "output_type": "stream",
     "text": [
      "Number of sentences in complexity_ds_it.csv: 1122\n",
      "Number of extracted dependency trees: 1122\n"
     ]
    }
   ],
   "source": [
    "\n",
    "print(f\"Number of sentences in complexity_ds_it.csv: {len(it_sentences)}\")\n",
    "print(f\"Number of extracted dependency trees: {len(it_dependency_trees)}\")\n"
   ]
  },
  {
   "cell_type": "code",
   "execution_count": null,
   "metadata": {},
   "outputs": [],
   "source": []
  },
  {
   "cell_type": "code",
   "execution_count": null,
   "metadata": {},
   "outputs": [],
   "source": []
  },
  {
   "cell_type": "code",
   "execution_count": 21,
   "metadata": {},
   "outputs": [],
   "source": [
    "with open('it_dependency_trees.conllu', 'w') as file:\n",
    "    for tree in it_dependency_trees:\n",
    "        file.write(tree.serialize())\n",
    "        file.write(\"\\n\")"
   ]
  },
  {
   "cell_type": "code",
   "execution_count": 22,
   "metadata": {},
   "outputs": [],
   "source": [
    "output_path = '/home/jimmy/Downloads/IU/Thesis/Github/notebooks/it_dependency_trees.conllu'\n",
    "with open(output_path, \"r\") as file:\n",
    "    data = conllu.parse(file.read())"
   ]
  },
  {
   "cell_type": "code",
   "execution_count": 23,
   "metadata": {},
   "outputs": [
    {
     "data": {
      "text/plain": [
       "1122"
      ]
     },
     "execution_count": 23,
     "metadata": {},
     "output_type": "execute_result"
    }
   ],
   "source": [
    "len(data)"
   ]
  },
  {
   "cell_type": "code",
   "execution_count": null,
   "metadata": {
    "id": "FL3ZRtBmw1OU"
   },
   "outputs": [],
   "source": []
  },
  {
   "cell_type": "code",
   "execution_count": null,
   "metadata": {},
   "outputs": [],
   "source": []
  },
  {
   "cell_type": "code",
   "execution_count": null,
   "metadata": {},
   "outputs": [],
   "source": []
  },
  {
   "cell_type": "code",
   "execution_count": null,
   "metadata": {},
   "outputs": [],
   "source": []
  },
  {
   "cell_type": "code",
   "execution_count": null,
   "metadata": {},
   "outputs": [],
   "source": []
  },
  {
   "cell_type": "code",
   "execution_count": null,
   "metadata": {},
   "outputs": [],
   "source": []
  },
  {
   "cell_type": "code",
   "execution_count": null,
   "metadata": {},
   "outputs": [],
   "source": []
  },
  {
   "cell_type": "code",
   "execution_count": null,
   "metadata": {},
   "outputs": [],
   "source": []
  },
  {
   "cell_type": "code",
   "execution_count": null,
   "metadata": {},
   "outputs": [],
   "source": []
  },
  {
   "cell_type": "code",
   "execution_count": null,
   "metadata": {},
   "outputs": [],
   "source": []
  },
  {
   "cell_type": "code",
   "execution_count": null,
   "metadata": {
    "id": "cHFqVNcNE3XS"
   },
   "outputs": [],
   "source": []
  }
 ],
 "metadata": {
  "colab": {
   "provenance": []
  },
  "kernelspec": {
   "display_name": "Python 3 (ipykernel)",
   "language": "python",
   "name": "python3"
  },
  "language_info": {
   "codemirror_mode": {
    "name": "ipython",
    "version": 3
   },
   "file_extension": ".py",
   "mimetype": "text/x-python",
   "name": "python",
   "nbconvert_exporter": "python",
   "pygments_lexer": "ipython3",
   "version": "3.9.12"
  }
 },
 "nbformat": 4,
 "nbformat_minor": 1
}
