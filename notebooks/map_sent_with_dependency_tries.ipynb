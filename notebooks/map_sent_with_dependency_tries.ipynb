{
  "nbformat": 4,
  "nbformat_minor": 0,
  "metadata": {
    "colab": {
      "provenance": []
    },
    "kernelspec": {
      "name": "python3",
      "display_name": "Python 3"
    },
    "language_info": {
      "name": "python"
    }
  },
  "cells": [
    {
      "cell_type": "markdown",
      "source": [
        "#### Merging Files"
      ],
      "metadata": {
        "id": "uVjkPixAGtYn"
      }
    },
    {
      "cell_type": "code",
      "source": [
        "import pandas as pd \n",
        "file1 = pd.read_csv('aggregated_results_by_ds__pool_37687290__2023_02_11.tsv', sep='\\t')\n",
        "file2 = pd.read_csv('aggregated_results_by_ds__pool_37806285__2023_02_18.tsv', sep='\\t')\n",
        "file3 = pd.read_csv('aggregated_results_by_ds__pool_37939772__2023_02_27.tsv', sep='\\t')"
      ],
      "metadata": {
        "id": "9M0EDymFWxp1"
      },
      "execution_count": null,
      "outputs": []
    },
    {
      "cell_type": "markdown",
      "source": [
        "#### Testing the common sentences between files"
      ],
      "metadata": {
        "id": "05tchVJeZVWZ"
      }
    },
    {
      "cell_type": "code",
      "source": [
        "file1.shape"
      ],
      "metadata": {
        "colab": {
          "base_uri": "https://localhost:8080/"
        },
        "id": "yaxjDHrQW1-T",
        "outputId": "53746965-b3ce-4776-b7b0-8a9399c4df96"
      },
      "execution_count": null,
      "outputs": [
        {
          "output_type": "execute_result",
          "data": {
            "text/plain": [
              "(91, 4)"
            ]
          },
          "metadata": {},
          "execution_count": 4
        }
      ]
    },
    {
      "cell_type": "code",
      "source": [
        "file2.shape"
      ],
      "metadata": {
        "id": "XEGHjPydW644",
        "colab": {
          "base_uri": "https://localhost:8080/"
        },
        "outputId": "20849f68-9e84-4da9-b78c-1ecd1d0b30cf"
      },
      "execution_count": null,
      "outputs": [
        {
          "output_type": "execute_result",
          "data": {
            "text/plain": [
              "(600, 4)"
            ]
          },
          "metadata": {},
          "execution_count": 5
        }
      ]
    },
    {
      "cell_type": "code",
      "source": [
        "file3.shape"
      ],
      "metadata": {
        "id": "9FWurcdCW68Y",
        "colab": {
          "base_uri": "https://localhost:8080/"
        },
        "outputId": "239d8e52-98eb-4454-8dbf-3feb55a81f49"
      },
      "execution_count": null,
      "outputs": [
        {
          "output_type": "execute_result",
          "data": {
            "text/plain": [
              "(600, 4)"
            ]
          },
          "metadata": {},
          "execution_count": 6
        }
      ]
    },
    {
      "cell_type": "code",
      "source": [
        "with open('aggregated_results_by_ds__pool_37687290__2023_02_11.tsv', 'r', encoding='utf-8') as f1, open('aggregated_results_by_ds__pool_37939772__2023_02_27.tsv', 'r', encoding='utf-8') as f2:\n",
        "    sentences1 = set(line.strip().split('\\t')[0] for line in f1)\n",
        "    sentences2 = set(line.strip().split('\\t')[0] for line in f2)\n",
        "\n",
        "shared_sentences = sentences1.intersection(sentences2)\n",
        "\n",
        "if shared_sentences:\n",
        "    print(\"The following sentences are present in both files:\")\n",
        "    for sentence in shared_sentences:\n",
        "        print(sentence)\n",
        "else:\n",
        "    print(\"There are no sentences in common between the two files.\")\n"
      ],
      "metadata": {
        "colab": {
          "base_uri": "https://localhost:8080/"
        },
        "id": "Bs3KXhl2YJ11",
        "outputId": "fdc1b403-84bf-4153-e70b-405d6a073707"
      },
      "execution_count": null,
      "outputs": [
        {
          "output_type": "stream",
          "name": "stdout",
          "text": [
            "The following sentences are present in both files:\n",
            "Китай тому пример , да и не только он .\n",
            "Они раскрывались поутру в траве и под вечер увядали .\n",
            "Мог иметься в виду и слесарь , и столяр .\n",
            "Потому что хорошее должно быть и в виде приятного .\n",
            "Сотрудница туалета закатила глаза и заговорила тихо и быстро .\n",
            "Бухгалтеры звонят в редакцию и просят выяснить позицию фискалов .\n",
            "Дело здесь не в оборудовании , а в другом .\n",
            "Бесконечные стычки и распри , дележ и взаимные наговоры .\n",
            "Госпиталь формировался в Курске от союза земств и городов .\n",
            "Каждый человек рождается и умирает в своем энергетическом поле .\n",
            "Пытался он внести и новые предложения в производство обуви .\n",
            "Сейчас единства в этом вопросе в России не существует .\n",
            "Секретарь вытаращил глаза на арестанта и не дописал слова .\n",
            "Да и налоги в международных водах платить не надо .\n",
            "Отец в первый же понедельник ушел добровольцем в ополчение .\n",
            "Остальное - в основном всякая сборочная и ремонтная мелочь .\n",
            "Да и обнаружилось это в тех авариях не сразу .\n",
            "Национальная безопасность и революция в организации ТВ - вещания .\n",
            "Этим баннером они и выразили свое отношение и озабоченность .\n",
            "Это была вторая поездка дяди и племянника в Дуплянку .\n",
            "Неожиданно резким движением струйка метнулась в сторону и скрылась .\n",
            "Английские войска вторгаются в Ирак и свергают правительство Али-Гайлани .\n",
            "Итальянская полиция и карабинеры приведены в состояние повышенной готовности .\n",
            "Лю Шаоци избивали , и он умер в заключении .\n",
            "Недостатки использования ребризеров - дороговизна и сложность в эксплуатации .\n",
            "Потребуются и опыт , и новые механизмы международного регулирования .\n",
            "\"Может прийти участковый и утащить нас в суд \"\" .\"\n",
            "Есть и нулевое чтение , существует согласование в правительстве .\n",
            "Есть и еще один момент в пользу таких сооружений .\n",
            "Ведь мертвые и похищенные не в состоянии себя защитить .\n",
            "Наше место как раз в группе МИФИ и МИСиС .\n",
            "Сегодня в России роль и значение СМИ часто преувеличивают .\n",
            "Виноват не дефицит природных ресурсов и не экологические катастрофы .\n",
            "Важно приходить в эту мерзость запустения и преображать ее .\n",
            "INPUT:text\n",
            "Во взводе были и молодые солдаты , и опытные .\n",
            "Мать ест и поправляется , и начинается новая жизнь .\n",
            "Как я могу быть и там , и здесь ?\n",
            "Они были подвижны и катились всегда в одну сторону .\n",
            "Тут Дума и президент спохватились и вспомнили о светскости .\n",
            "Затем описания и изображения следует воспроизвести в больших количествах .\n",
            "Размышление и самообучение в круг ее задач не входили .\n",
            "Много работало комиссий - и внешних , и университетских .\n",
            "Она уложила сено в ванночку и залила его кипятком .\n",
            "Вы привели в правительство Гайдара и его команду реформаторов ?\n",
            "Он свистит над головами и детей , и взрослых .\n",
            "Ничего нового не открыл и именем своим не назвал .\n"
          ]
        }
      ]
    },
    {
      "cell_type": "code",
      "source": [
        "print(\"the common sntences between 2023_02_11.tsv and 2023_02_18.tsv : \", len(shared_sentences))"
      ],
      "metadata": {
        "colab": {
          "base_uri": "https://localhost:8080/"
        },
        "id": "vJ4tbwu4YeSH",
        "outputId": "51e006d3-b35f-428f-d7e1-a5eefc3646e8"
      },
      "execution_count": null,
      "outputs": [
        {
          "output_type": "stream",
          "name": "stdout",
          "text": [
            "the common sntences between 2023_02_11.tsv and 2023_02_18.tsv :  46\n"
          ]
        }
      ]
    },
    {
      "cell_type": "code",
      "source": [
        "print(\"the common sntences between 2023_02_11.tsv and 2023_02_27.tsv : \", len(shared_sentences))"
      ],
      "metadata": {
        "colab": {
          "base_uri": "https://localhost:8080/"
        },
        "id": "2gE8wEmZZJ7E",
        "outputId": "eaf454c3-581d-4d43-e76a-2f94b3c0c01c"
      },
      "execution_count": null,
      "outputs": [
        {
          "output_type": "stream",
          "name": "stdout",
          "text": [
            "the common sntences between 2023_02_11.tsv and 2023_02_27.tsv :  47\n"
          ]
        }
      ]
    },
    {
      "cell_type": "code",
      "source": [
        "\n",
        "\n",
        "annotated_data = pd.concat([file2, file3], axis = 0)\n",
        "annotated_data = annotated_data.drop(annotated_data.columns[-1], axis=1)#annotated_data.iloc[:, :-1]\n",
        "annotated_data.dropna(inplace = True, axis=1)\n",
        "#annotated_data.to_csv('annotated_data.tsv', sep='\\t', index=False, header = False)\n",
        "annotated_data.columns = 'text cat_s confidence'.split()\n",
        "annotated_data['category'] = annotated_data.cat_s.apply(lambda x: int(x[1]))\n",
        "annotated_data = annotated_data.drop(annotated_data.columns[1], axis=1)"
      ],
      "metadata": {
        "id": "KQoIvVAQBujd"
      },
      "execution_count": null,
      "outputs": []
    },
    {
      "cell_type": "code",
      "source": [
        "annotated_data.shape"
      ],
      "metadata": {
        "colab": {
          "base_uri": "https://localhost:8080/"
        },
        "id": "ZALqLJS1Bugm",
        "outputId": "439384d8-8564-46f9-b47e-ccff910241b3"
      },
      "execution_count": null,
      "outputs": [
        {
          "output_type": "execute_result",
          "data": {
            "text/plain": [
              "(1200, 3)"
            ]
          },
          "metadata": {},
          "execution_count": 13
        }
      ]
    },
    {
      "cell_type": "code",
      "source": [
        "annotated_data.head()"
      ],
      "metadata": {
        "colab": {
          "base_uri": "https://localhost:8080/",
          "height": 206
        },
        "id": "3aVSVaKQBueP",
        "outputId": "0bda698b-ac8a-458a-95b5-5a612b199a88"
      },
      "execution_count": null,
      "outputs": [
        {
          "output_type": "execute_result",
          "data": {
            "text/plain": [
              "                                                text confidence  category\n",
              "0  Разглядывая их под микроскопом , мы увидим при...    100.00%         4\n",
              "1  Иногда талантливые люди , не найдя себя в наук...    100.00%         4\n",
              "2  Кандидаты в депутаты от общественных организац...    100.00%         6\n",
              "3  Главное , чтобы \" социальные лифты \" не остана...    100.00%         6\n",
              "4  Франция признает российских студентов и не при...    100.00%         2"
            ],
            "text/html": [
              "\n",
              "  <div id=\"df-fc109e36-3179-430d-9d60-3d21ca0bee67\">\n",
              "    <div class=\"colab-df-container\">\n",
              "      <div>\n",
              "<style scoped>\n",
              "    .dataframe tbody tr th:only-of-type {\n",
              "        vertical-align: middle;\n",
              "    }\n",
              "\n",
              "    .dataframe tbody tr th {\n",
              "        vertical-align: top;\n",
              "    }\n",
              "\n",
              "    .dataframe thead th {\n",
              "        text-align: right;\n",
              "    }\n",
              "</style>\n",
              "<table border=\"1\" class=\"dataframe\">\n",
              "  <thead>\n",
              "    <tr style=\"text-align: right;\">\n",
              "      <th></th>\n",
              "      <th>text</th>\n",
              "      <th>confidence</th>\n",
              "      <th>category</th>\n",
              "    </tr>\n",
              "  </thead>\n",
              "  <tbody>\n",
              "    <tr>\n",
              "      <th>0</th>\n",
              "      <td>Разглядывая их под микроскопом , мы увидим при...</td>\n",
              "      <td>100.00%</td>\n",
              "      <td>4</td>\n",
              "    </tr>\n",
              "    <tr>\n",
              "      <th>1</th>\n",
              "      <td>Иногда талантливые люди , не найдя себя в наук...</td>\n",
              "      <td>100.00%</td>\n",
              "      <td>4</td>\n",
              "    </tr>\n",
              "    <tr>\n",
              "      <th>2</th>\n",
              "      <td>Кандидаты в депутаты от общественных организац...</td>\n",
              "      <td>100.00%</td>\n",
              "      <td>6</td>\n",
              "    </tr>\n",
              "    <tr>\n",
              "      <th>3</th>\n",
              "      <td>Главное , чтобы \" социальные лифты \" не остана...</td>\n",
              "      <td>100.00%</td>\n",
              "      <td>6</td>\n",
              "    </tr>\n",
              "    <tr>\n",
              "      <th>4</th>\n",
              "      <td>Франция признает российских студентов и не при...</td>\n",
              "      <td>100.00%</td>\n",
              "      <td>2</td>\n",
              "    </tr>\n",
              "  </tbody>\n",
              "</table>\n",
              "</div>\n",
              "      <button class=\"colab-df-convert\" onclick=\"convertToInteractive('df-fc109e36-3179-430d-9d60-3d21ca0bee67')\"\n",
              "              title=\"Convert this dataframe to an interactive table.\"\n",
              "              style=\"display:none;\">\n",
              "        \n",
              "  <svg xmlns=\"http://www.w3.org/2000/svg\" height=\"24px\"viewBox=\"0 0 24 24\"\n",
              "       width=\"24px\">\n",
              "    <path d=\"M0 0h24v24H0V0z\" fill=\"none\"/>\n",
              "    <path d=\"M18.56 5.44l.94 2.06.94-2.06 2.06-.94-2.06-.94-.94-2.06-.94 2.06-2.06.94zm-11 1L8.5 8.5l.94-2.06 2.06-.94-2.06-.94L8.5 2.5l-.94 2.06-2.06.94zm10 10l.94 2.06.94-2.06 2.06-.94-2.06-.94-.94-2.06-.94 2.06-2.06.94z\"/><path d=\"M17.41 7.96l-1.37-1.37c-.4-.4-.92-.59-1.43-.59-.52 0-1.04.2-1.43.59L10.3 9.45l-7.72 7.72c-.78.78-.78 2.05 0 2.83L4 21.41c.39.39.9.59 1.41.59.51 0 1.02-.2 1.41-.59l7.78-7.78 2.81-2.81c.8-.78.8-2.07 0-2.86zM5.41 20L4 18.59l7.72-7.72 1.47 1.35L5.41 20z\"/>\n",
              "  </svg>\n",
              "      </button>\n",
              "      \n",
              "  <style>\n",
              "    .colab-df-container {\n",
              "      display:flex;\n",
              "      flex-wrap:wrap;\n",
              "      gap: 12px;\n",
              "    }\n",
              "\n",
              "    .colab-df-convert {\n",
              "      background-color: #E8F0FE;\n",
              "      border: none;\n",
              "      border-radius: 50%;\n",
              "      cursor: pointer;\n",
              "      display: none;\n",
              "      fill: #1967D2;\n",
              "      height: 32px;\n",
              "      padding: 0 0 0 0;\n",
              "      width: 32px;\n",
              "    }\n",
              "\n",
              "    .colab-df-convert:hover {\n",
              "      background-color: #E2EBFA;\n",
              "      box-shadow: 0px 1px 2px rgba(60, 64, 67, 0.3), 0px 1px 3px 1px rgba(60, 64, 67, 0.15);\n",
              "      fill: #174EA6;\n",
              "    }\n",
              "\n",
              "    [theme=dark] .colab-df-convert {\n",
              "      background-color: #3B4455;\n",
              "      fill: #D2E3FC;\n",
              "    }\n",
              "\n",
              "    [theme=dark] .colab-df-convert:hover {\n",
              "      background-color: #434B5C;\n",
              "      box-shadow: 0px 1px 3px 1px rgba(0, 0, 0, 0.15);\n",
              "      filter: drop-shadow(0px 1px 2px rgba(0, 0, 0, 0.3));\n",
              "      fill: #FFFFFF;\n",
              "    }\n",
              "  </style>\n",
              "\n",
              "      <script>\n",
              "        const buttonEl =\n",
              "          document.querySelector('#df-fc109e36-3179-430d-9d60-3d21ca0bee67 button.colab-df-convert');\n",
              "        buttonEl.style.display =\n",
              "          google.colab.kernel.accessAllowed ? 'block' : 'none';\n",
              "\n",
              "        async function convertToInteractive(key) {\n",
              "          const element = document.querySelector('#df-fc109e36-3179-430d-9d60-3d21ca0bee67');\n",
              "          const dataTable =\n",
              "            await google.colab.kernel.invokeFunction('convertToInteractive',\n",
              "                                                     [key], {});\n",
              "          if (!dataTable) return;\n",
              "\n",
              "          const docLinkHtml = 'Like what you see? Visit the ' +\n",
              "            '<a target=\"_blank\" href=https://colab.research.google.com/notebooks/data_table.ipynb>data table notebook</a>'\n",
              "            + ' to learn more about interactive tables.';\n",
              "          element.innerHTML = '';\n",
              "          dataTable['output_type'] = 'display_data';\n",
              "          await google.colab.output.renderOutput(dataTable, element);\n",
              "          const docLink = document.createElement('div');\n",
              "          docLink.innerHTML = docLinkHtml;\n",
              "          element.appendChild(docLink);\n",
              "        }\n",
              "      </script>\n",
              "    </div>\n",
              "  </div>\n",
              "  "
            ]
          },
          "metadata": {},
          "execution_count": 14
        }
      ]
    },
    {
      "cell_type": "code",
      "source": [
        "#annotated_data.to_csv('full_annotated_data.tsv', index=False)"
      ],
      "metadata": {
        "id": "L_yAI_qqBua-"
      },
      "execution_count": null,
      "outputs": []
    },
    {
      "cell_type": "code",
      "source": [],
      "metadata": {
        "id": "9GuuDS4_BuXq"
      },
      "execution_count": null,
      "outputs": []
    },
    {
      "cell_type": "code",
      "source": [],
      "metadata": {
        "id": "wmzCXzFGBuVl"
      },
      "execution_count": null,
      "outputs": []
    },
    {
      "cell_type": "code",
      "source": [],
      "metadata": {
        "id": "arnjsb8aBuSh"
      },
      "execution_count": null,
      "outputs": []
    },
    {
      "cell_type": "markdown",
      "source": [
        "#Mapping "
      ],
      "metadata": {
        "id": "UhMpJ5oYhMtn"
      }
    },
    {
      "cell_type": "code",
      "source": [
        "df = pd.read_csv('full_annotated_data.tsv')\n",
        "\n",
        "df.head()"
      ],
      "metadata": {
        "colab": {
          "base_uri": "https://localhost:8080/",
          "height": 206
        },
        "id": "4NyOJvezTBa_",
        "outputId": "67e644d4-9204-4bb2-b82e-64ba0d726f2e"
      },
      "execution_count": null,
      "outputs": [
        {
          "output_type": "execute_result",
          "data": {
            "text/plain": [
              "                                                text confidence  category\n",
              "0  Разглядывая их под микроскопом , мы увидим при...    100.00%         4\n",
              "1  Иногда талантливые люди , не найдя себя в наук...    100.00%         4\n",
              "2  Кандидаты в депутаты от общественных организац...    100.00%         6\n",
              "3  Главное , чтобы \" социальные лифты \" не остана...    100.00%         6\n",
              "4  Франция признает российских студентов и не при...    100.00%         2"
            ],
            "text/html": [
              "\n",
              "  <div id=\"df-bb4a3f0b-2a2d-4a98-aeb5-2b247ffcc163\">\n",
              "    <div class=\"colab-df-container\">\n",
              "      <div>\n",
              "<style scoped>\n",
              "    .dataframe tbody tr th:only-of-type {\n",
              "        vertical-align: middle;\n",
              "    }\n",
              "\n",
              "    .dataframe tbody tr th {\n",
              "        vertical-align: top;\n",
              "    }\n",
              "\n",
              "    .dataframe thead th {\n",
              "        text-align: right;\n",
              "    }\n",
              "</style>\n",
              "<table border=\"1\" class=\"dataframe\">\n",
              "  <thead>\n",
              "    <tr style=\"text-align: right;\">\n",
              "      <th></th>\n",
              "      <th>text</th>\n",
              "      <th>confidence</th>\n",
              "      <th>category</th>\n",
              "    </tr>\n",
              "  </thead>\n",
              "  <tbody>\n",
              "    <tr>\n",
              "      <th>0</th>\n",
              "      <td>Разглядывая их под микроскопом , мы увидим при...</td>\n",
              "      <td>100.00%</td>\n",
              "      <td>4</td>\n",
              "    </tr>\n",
              "    <tr>\n",
              "      <th>1</th>\n",
              "      <td>Иногда талантливые люди , не найдя себя в наук...</td>\n",
              "      <td>100.00%</td>\n",
              "      <td>4</td>\n",
              "    </tr>\n",
              "    <tr>\n",
              "      <th>2</th>\n",
              "      <td>Кандидаты в депутаты от общественных организац...</td>\n",
              "      <td>100.00%</td>\n",
              "      <td>6</td>\n",
              "    </tr>\n",
              "    <tr>\n",
              "      <th>3</th>\n",
              "      <td>Главное , чтобы \" социальные лифты \" не остана...</td>\n",
              "      <td>100.00%</td>\n",
              "      <td>6</td>\n",
              "    </tr>\n",
              "    <tr>\n",
              "      <th>4</th>\n",
              "      <td>Франция признает российских студентов и не при...</td>\n",
              "      <td>100.00%</td>\n",
              "      <td>2</td>\n",
              "    </tr>\n",
              "  </tbody>\n",
              "</table>\n",
              "</div>\n",
              "      <button class=\"colab-df-convert\" onclick=\"convertToInteractive('df-bb4a3f0b-2a2d-4a98-aeb5-2b247ffcc163')\"\n",
              "              title=\"Convert this dataframe to an interactive table.\"\n",
              "              style=\"display:none;\">\n",
              "        \n",
              "  <svg xmlns=\"http://www.w3.org/2000/svg\" height=\"24px\"viewBox=\"0 0 24 24\"\n",
              "       width=\"24px\">\n",
              "    <path d=\"M0 0h24v24H0V0z\" fill=\"none\"/>\n",
              "    <path d=\"M18.56 5.44l.94 2.06.94-2.06 2.06-.94-2.06-.94-.94-2.06-.94 2.06-2.06.94zm-11 1L8.5 8.5l.94-2.06 2.06-.94-2.06-.94L8.5 2.5l-.94 2.06-2.06.94zm10 10l.94 2.06.94-2.06 2.06-.94-2.06-.94-.94-2.06-.94 2.06-2.06.94z\"/><path d=\"M17.41 7.96l-1.37-1.37c-.4-.4-.92-.59-1.43-.59-.52 0-1.04.2-1.43.59L10.3 9.45l-7.72 7.72c-.78.78-.78 2.05 0 2.83L4 21.41c.39.39.9.59 1.41.59.51 0 1.02-.2 1.41-.59l7.78-7.78 2.81-2.81c.8-.78.8-2.07 0-2.86zM5.41 20L4 18.59l7.72-7.72 1.47 1.35L5.41 20z\"/>\n",
              "  </svg>\n",
              "      </button>\n",
              "      \n",
              "  <style>\n",
              "    .colab-df-container {\n",
              "      display:flex;\n",
              "      flex-wrap:wrap;\n",
              "      gap: 12px;\n",
              "    }\n",
              "\n",
              "    .colab-df-convert {\n",
              "      background-color: #E8F0FE;\n",
              "      border: none;\n",
              "      border-radius: 50%;\n",
              "      cursor: pointer;\n",
              "      display: none;\n",
              "      fill: #1967D2;\n",
              "      height: 32px;\n",
              "      padding: 0 0 0 0;\n",
              "      width: 32px;\n",
              "    }\n",
              "\n",
              "    .colab-df-convert:hover {\n",
              "      background-color: #E2EBFA;\n",
              "      box-shadow: 0px 1px 2px rgba(60, 64, 67, 0.3), 0px 1px 3px 1px rgba(60, 64, 67, 0.15);\n",
              "      fill: #174EA6;\n",
              "    }\n",
              "\n",
              "    [theme=dark] .colab-df-convert {\n",
              "      background-color: #3B4455;\n",
              "      fill: #D2E3FC;\n",
              "    }\n",
              "\n",
              "    [theme=dark] .colab-df-convert:hover {\n",
              "      background-color: #434B5C;\n",
              "      box-shadow: 0px 1px 3px 1px rgba(0, 0, 0, 0.15);\n",
              "      filter: drop-shadow(0px 1px 2px rgba(0, 0, 0, 0.3));\n",
              "      fill: #FFFFFF;\n",
              "    }\n",
              "  </style>\n",
              "\n",
              "      <script>\n",
              "        const buttonEl =\n",
              "          document.querySelector('#df-bb4a3f0b-2a2d-4a98-aeb5-2b247ffcc163 button.colab-df-convert');\n",
              "        buttonEl.style.display =\n",
              "          google.colab.kernel.accessAllowed ? 'block' : 'none';\n",
              "\n",
              "        async function convertToInteractive(key) {\n",
              "          const element = document.querySelector('#df-bb4a3f0b-2a2d-4a98-aeb5-2b247ffcc163');\n",
              "          const dataTable =\n",
              "            await google.colab.kernel.invokeFunction('convertToInteractive',\n",
              "                                                     [key], {});\n",
              "          if (!dataTable) return;\n",
              "\n",
              "          const docLinkHtml = 'Like what you see? Visit the ' +\n",
              "            '<a target=\"_blank\" href=https://colab.research.google.com/notebooks/data_table.ipynb>data table notebook</a>'\n",
              "            + ' to learn more about interactive tables.';\n",
              "          element.innerHTML = '';\n",
              "          dataTable['output_type'] = 'display_data';\n",
              "          await google.colab.output.renderOutput(dataTable, element);\n",
              "          const docLink = document.createElement('div');\n",
              "          docLink.innerHTML = docLinkHtml;\n",
              "          element.appendChild(docLink);\n",
              "        }\n",
              "      </script>\n",
              "    </div>\n",
              "  </div>\n",
              "  "
            ]
          },
          "metadata": {},
          "execution_count": 16
        }
      ]
    },
    {
      "cell_type": "code",
      "source": [
        "import csv\n",
        "sentence_to_columns = {}\n",
        "sentences_tsv = []\n",
        "OUTPUT_tsv = []\n",
        "CONFIDENCE_tsv = []\n",
        "with open('full_annotated_data.tsv', 'r', encoding='utf-8') as f:\n",
        "    reader = csv.reader(f)\n",
        "    for row in reader:\n",
        "        sentences_tsv.append(row[0])\n",
        "        OUTPUT_tsv.append(row[1])\n",
        "        CONFIDENCE_tsv.append(row[2])\n",
        "        sentence_to_columns[row[0]] = (row[1], row[2])"
      ],
      "metadata": {
        "id": "M2SdmcVghO3P"
      },
      "execution_count": null,
      "outputs": []
    },
    {
      "cell_type": "code",
      "source": [
        "sentences = sentences_tsv[1:]\n",
        "OUTPUT = OUTPUT_tsv[1:]\n",
        "CONFIDENCE = CONFIDENCE_tsv[1:]"
      ],
      "metadata": {
        "id": "saaTcVoa4UZj"
      },
      "execution_count": null,
      "outputs": []
    },
    {
      "cell_type": "code",
      "source": [
        "#len(sentences)\n",
        "#len(OUTPUT)\n",
        "len(CONFIDENCE)"
      ],
      "metadata": {
        "colab": {
          "base_uri": "https://localhost:8080/"
        },
        "id": "18_fMsTQ4WgR",
        "outputId": "6550a073-adc0-441e-d73a-0d277aa12436"
      },
      "execution_count": null,
      "outputs": [
        {
          "output_type": "execute_result",
          "data": {
            "text/plain": [
              "1291"
            ]
          },
          "metadata": {},
          "execution_count": 14
        }
      ]
    },
    {
      "cell_type": "code",
      "source": [
        "%%capture\n",
        "\n",
        "!pip install nltk conllu\n",
        "import nltk\n",
        "import conllu\n",
        "\n",
        "from google.colab import drive\n",
        "drive.mount('/content/drive')\n",
        "data_train = \"/content/drive/MyDrive/Ru_Syntagrus_Dataset/ru_syntagrus-ud-train.conllu\""
      ],
      "metadata": {
        "id": "v-3VJEvK6ADl"
      },
      "execution_count": null,
      "outputs": []
    },
    {
      "cell_type": "code",
      "source": [
        "import pandas as pd \n",
        "# Read the UD Russian SynTagRus dataset in CONLU format\n",
        "with open(data_train, \"r\") as file:\n",
        "    data = conllu.parse(file.read())"
      ],
      "metadata": {
        "id": "DR5wsyGr6OpG"
      },
      "execution_count": null,
      "outputs": []
    },
    {
      "cell_type": "code",
      "source": [
        "filtered_data = []\n",
        "for sent in data:\n",
        "    # Get the text of the sentence\n",
        "    text = \" \".join([token[\"form\"] for token in sent])\n",
        "    if text in sentences:\n",
        "        filtered_data.append(sent)"
      ],
      "metadata": {
        "id": "bdgvzN2y6Ort"
      },
      "execution_count": null,
      "outputs": []
    },
    {
      "cell_type": "code",
      "source": [
        "# Write the filtered sentences to a new CONLL-U file\n",
        "\n",
        "with open('full_annotated_sentence.conllu', 'w') as f:\n",
        "      f.writelines([sentence.serialize() + \"\\n\" for sentence in filtered_data])"
      ],
      "metadata": {
        "id": "shCI83TD6OuG"
      },
      "execution_count": null,
      "outputs": []
    },
    {
      "cell_type": "code",
      "source": [
        "## Test the new dataset \n",
        "with open(\"full_annotated_sentence.conllu\", \"r\") as file:\n",
        "    data = conllu.parse(file.read())"
      ],
      "metadata": {
        "id": "L6y0Y8YN6Ow5"
      },
      "execution_count": null,
      "outputs": []
    },
    {
      "cell_type": "code",
      "source": [
        "data[0]"
      ],
      "metadata": {
        "colab": {
          "base_uri": "https://localhost:8080/"
        },
        "id": "llS3yS8A6O4c",
        "outputId": "0dc61bf5-21ec-4867-ed46-f84039d92925"
      },
      "execution_count": null,
      "outputs": [
        {
          "output_type": "execute_result",
          "data": {
            "text/plain": [
              "TokenList<За, неделю, начальник, управления, собирался, позвонить, Савельеву, ,, который, занимал, теперь, такой, же, пост, ,, как, и, Семен, Еремеевич, в, соседней, области, ,, и, узнать, о, деловых, качествах, Ефимовой, ., metadata={sent_id: \"2003Anketa.xml_66\", text: \"За неделю начальник управления собирался позвонить Савельеву, который занимал теперь такой же пост, как и Семен Еремеевич в соседней области, и узнать о деловых качествах Ефимовой.\"}>"
            ]
          },
          "metadata": {},
          "execution_count": 20
        }
      ]
    },
    {
      "cell_type": "code",
      "source": [
        "len(data)"
      ],
      "metadata": {
        "colab": {
          "base_uri": "https://localhost:8080/"
        },
        "id": "LP1HzWQS6O62",
        "outputId": "3718d6f2-eda7-4809-e0c7-e32205f6cab5"
      },
      "execution_count": null,
      "outputs": [
        {
          "output_type": "execute_result",
          "data": {
            "text/plain": [
              "1200"
            ]
          },
          "metadata": {},
          "execution_count": 21
        }
      ]
    },
    {
      "cell_type": "code",
      "source": [],
      "metadata": {
        "id": "IW8GskNww0_J"
      },
      "execution_count": null,
      "outputs": []
    },
    {
      "cell_type": "code",
      "source": [],
      "metadata": {
        "id": "dXJC8uRWw1Be"
      },
      "execution_count": null,
      "outputs": []
    },
    {
      "cell_type": "code",
      "source": [],
      "metadata": {
        "id": "cZlGAXrnw1D8"
      },
      "execution_count": null,
      "outputs": []
    },
    {
      "cell_type": "code",
      "source": [],
      "metadata": {
        "id": "FhtMCAGow1Ga"
      },
      "execution_count": null,
      "outputs": []
    },
    {
      "cell_type": "code",
      "source": [],
      "metadata": {
        "id": "jj9CToqkw1I4"
      },
      "execution_count": null,
      "outputs": []
    },
    {
      "cell_type": "code",
      "source": [],
      "metadata": {
        "id": "qTdBne3Gw1Lw"
      },
      "execution_count": null,
      "outputs": []
    },
    {
      "cell_type": "code",
      "source": [],
      "metadata": {
        "id": "FL3ZRtBmw1OU"
      },
      "execution_count": null,
      "outputs": []
    },
    {
      "cell_type": "code",
      "source": [],
      "metadata": {
        "id": "cHFqVNcNE3XS"
      },
      "execution_count": null,
      "outputs": []
    }
  ]
}