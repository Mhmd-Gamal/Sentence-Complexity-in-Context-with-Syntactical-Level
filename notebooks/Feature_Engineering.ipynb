{
  "nbformat": 4,
  "nbformat_minor": 0,
  "metadata": {
    "colab": {
      "provenance": []
    },
    "kernelspec": {
      "name": "python3",
      "display_name": "Python 3"
    },
    "language_info": {
      "name": "python"
    }
  },
  "cells": [
    {
      "cell_type": "markdown",
      "source": [],
      "metadata": {
        "id": "slLI8_8zH2Lm"
      }
    },
    {
      "cell_type": "code",
      "source": [
        "%%capture\n",
        "\n",
        "!pip install nltk conllu\n",
        "import nltk\n",
        "import conllu"
      ],
      "metadata": {
        "id": "XR0FLtlevV-f"
      },
      "execution_count": null,
      "outputs": []
    },
    {
      "cell_type": "code",
      "execution_count": null,
      "metadata": {
        "id": "hSrlSJ1KPSoR",
        "colab": {
          "base_uri": "https://localhost:8080/"
        },
        "outputId": "bf1b6a26-a88f-494d-ca03-d3972dd95e36"
      },
      "outputs": [
        {
          "output_type": "stream",
          "name": "stderr",
          "text": [
            "/usr/local/lib/python3.9/dist-packages/torch/cuda/__init__.py:497: UserWarning: Can't initialize NVML\n",
            "  warnings.warn(\"Can't initialize NVML\")\n"
          ]
        }
      ],
      "source": [
        "import csv\n",
        "from nltk.parse.dependencygraph import DependencyGraph\n",
        "import pandas as pd \n",
        "import spacy\n"
      ]
    },
    {
      "cell_type": "code",
      "source": [
        "from google.colab import drive\n",
        "drive.mount('/content/drive')\n",
        "data_train = \"/content/drive/MyDrive/Ru_Syntagrus_Dataset/full_annotated_sentence.conllu\""
      ],
      "metadata": {
        "colab": {
          "base_uri": "https://localhost:8080/"
        },
        "id": "AjLNiJrouKKo",
        "outputId": "d1554c74-f736-475d-d181-75324d0607f9"
      },
      "execution_count": null,
      "outputs": [
        {
          "output_type": "stream",
          "name": "stdout",
          "text": [
            "Mounted at /content/drive\n"
          ]
        }
      ]
    },
    {
      "cell_type": "code",
      "source": [
        "# Read the UD Russian SynTagRus dataset in CONLU format\n",
        "with open(data_train, \"r\") as file:\n",
        "    sentences = conllu.parse(file.read())"
      ],
      "metadata": {
        "id": "heGr9QBMuKNT"
      },
      "execution_count": null,
      "outputs": []
    },
    {
      "cell_type": "markdown",
      "source": [
        "# Calculate the dependency distance for each sentence, which is the number of words between two words that have a dependency relationship."
      ],
      "metadata": {
        "id": "jDe0HR8FH6ES"
      }
    },
    {
      "cell_type": "code",
      "source": [
        "%%capture\n",
        "\n",
        "!pip3 install spacy\n",
        "!python3 -m spacy download ru_core_news_sm"
      ],
      "metadata": {
        "id": "Rm7-qzbo5X8a"
      },
      "execution_count": null,
      "outputs": []
    },
    {
      "cell_type": "code",
      "source": [
        "\n",
        "\n",
        "# Load the spaCy Russian language model\n",
        "nlp = spacy.load(\"ru_core_news_sm\")"
      ],
      "metadata": {
        "id": "bbqiqLRa5xQc"
      },
      "execution_count": null,
      "outputs": []
    },
    {
      "cell_type": "code",
      "source": [
        "# Initialize an empty list to store the features for each sentence\n",
        "features = []\n",
        "\n",
        "# Loop through each sentence in the dataset\n",
        "for sentence in sentences:\n",
        "    # Parse the sentence using spaCy\n",
        "    doc = nlp(sentence.metadata[\"text\"])\n",
        "    \n",
        "    # Initialize an empty list to store the dependency distances for each word in the sentence\n",
        "    distances = []\n",
        "    \n",
        "    # Loop through each token in the sentence\n",
        "    for token in doc:\n",
        "        # Calculate the dependency distance for each child of the token\n",
        "        for child in token.children:\n",
        "            distance = abs(child.i - token.i) - 1\n",
        "            distances.append(distance)\n",
        "    \n",
        "    # Calculate the average and maximum path lengths for the sentence\n",
        "    avg_path_length = sum(distances) / len(distances) if distances else 0\n",
        "    max_path_length = max(distances) if distances else 0\n",
        "    \n",
        "    # Append the features for this sentence to the list of features\n",
        "    features.append({\n",
        "        \"text\": sentence.metadata[\"text\"],\n",
        "        \"dependency_distance\": distances,\n",
        "        \"average_path_length\": avg_path_length,\n",
        "        \"maximum_path_length\": max_path_length\n",
        "    })\n"
      ],
      "metadata": {
        "id": "xlmfUxi9uKPq"
      },
      "execution_count": null,
      "outputs": []
    },
    {
      "cell_type": "code",
      "source": [
        "# Save the features for each sentence to a CSV file\n",
        "with open(\"dependency_dist.csv\", \"w\", encoding=\"utf-8\", newline=\"\") as f:\n",
        "    writer = csv.DictWriter(f, fieldnames=[\"text\", \"dependency_distance\", \"average_path_length\", \"maximum_path_length\"])\n",
        "    writer.writeheader()\n",
        "    for feature in features:\n",
        "        writer.writerow(feature)"
      ],
      "metadata": {
        "id": "FkFdFgkLuKSU"
      },
      "execution_count": null,
      "outputs": []
    },
    {
      "cell_type": "code",
      "source": [],
      "metadata": {
        "id": "78t1k-iGuKU_"
      },
      "execution_count": null,
      "outputs": []
    },
    {
      "cell_type": "code",
      "source": [
        "sent_feat = pd.read_csv('dependency_dist.csv')\n",
        "sent_feat.head()"
      ],
      "metadata": {
        "colab": {
          "base_uri": "https://localhost:8080/",
          "height": 206
        },
        "id": "O42j_OfOuKXm",
        "outputId": "cd5fcc9f-153f-49fd-f82a-e8aec09dfd34"
      },
      "execution_count": null,
      "outputs": [
        {
          "output_type": "execute_result",
          "data": {
            "text/plain": [
              "                                                text  \\\n",
              "0  За неделю начальник управления собирался позво...   \n",
              "1  На этот раз она была в сильном возбуждении и м...   \n",
              "2  Ребята, которые посмелей, конечно, уехали на к...   \n",
              "3  Да и работать она может только в системе связи...   \n",
              "4  Утром он поднялся с головной болью и, не позав...   \n",
              "\n",
              "                                 dependency_distance  average_path_length  \\\n",
              "0  [0, 0, 2, 1, 0, 24, 0, 18, 2, 1, 0, 0, 3, 0, 1...             2.275862   \n",
              "1         [1, 0, 4, 3, 2, 1, 0, 1, 6, 0, 1, 0, 1, 0]             1.428571   \n",
              "2  [6, 18, 0, 0, 5, 4, 3, 1, 1, 9, 0, 2, 1, 0, 3,...             2.947368   \n",
              "3         [0, 3, 1, 0, 2, 6, 9, 1, 0, 0, 1, 0, 1, 0]             1.714286   \n",
              "4        [1, 0, 2, 8, 11, 1, 0, 1, 0, 0, 4, 1, 1, 0]             2.142857   \n",
              "\n",
              "   maximum_path_length  \n",
              "0                   24  \n",
              "1                    6  \n",
              "2                   18  \n",
              "3                    9  \n",
              "4                   11  "
            ],
            "text/html": [
              "\n",
              "  <div id=\"df-51071677-c553-42a7-8e02-084a9bdf4601\">\n",
              "    <div class=\"colab-df-container\">\n",
              "      <div>\n",
              "<style scoped>\n",
              "    .dataframe tbody tr th:only-of-type {\n",
              "        vertical-align: middle;\n",
              "    }\n",
              "\n",
              "    .dataframe tbody tr th {\n",
              "        vertical-align: top;\n",
              "    }\n",
              "\n",
              "    .dataframe thead th {\n",
              "        text-align: right;\n",
              "    }\n",
              "</style>\n",
              "<table border=\"1\" class=\"dataframe\">\n",
              "  <thead>\n",
              "    <tr style=\"text-align: right;\">\n",
              "      <th></th>\n",
              "      <th>text</th>\n",
              "      <th>dependency_distance</th>\n",
              "      <th>average_path_length</th>\n",
              "      <th>maximum_path_length</th>\n",
              "    </tr>\n",
              "  </thead>\n",
              "  <tbody>\n",
              "    <tr>\n",
              "      <th>0</th>\n",
              "      <td>За неделю начальник управления собирался позво...</td>\n",
              "      <td>[0, 0, 2, 1, 0, 24, 0, 18, 2, 1, 0, 0, 3, 0, 1...</td>\n",
              "      <td>2.275862</td>\n",
              "      <td>24</td>\n",
              "    </tr>\n",
              "    <tr>\n",
              "      <th>1</th>\n",
              "      <td>На этот раз она была в сильном возбуждении и м...</td>\n",
              "      <td>[1, 0, 4, 3, 2, 1, 0, 1, 6, 0, 1, 0, 1, 0]</td>\n",
              "      <td>1.428571</td>\n",
              "      <td>6</td>\n",
              "    </tr>\n",
              "    <tr>\n",
              "      <th>2</th>\n",
              "      <td>Ребята, которые посмелей, конечно, уехали на к...</td>\n",
              "      <td>[6, 18, 0, 0, 5, 4, 3, 1, 1, 9, 0, 2, 1, 0, 3,...</td>\n",
              "      <td>2.947368</td>\n",
              "      <td>18</td>\n",
              "    </tr>\n",
              "    <tr>\n",
              "      <th>3</th>\n",
              "      <td>Да и работать она может только в системе связи...</td>\n",
              "      <td>[0, 3, 1, 0, 2, 6, 9, 1, 0, 0, 1, 0, 1, 0]</td>\n",
              "      <td>1.714286</td>\n",
              "      <td>9</td>\n",
              "    </tr>\n",
              "    <tr>\n",
              "      <th>4</th>\n",
              "      <td>Утром он поднялся с головной болью и, не позав...</td>\n",
              "      <td>[1, 0, 2, 8, 11, 1, 0, 1, 0, 0, 4, 1, 1, 0]</td>\n",
              "      <td>2.142857</td>\n",
              "      <td>11</td>\n",
              "    </tr>\n",
              "  </tbody>\n",
              "</table>\n",
              "</div>\n",
              "      <button class=\"colab-df-convert\" onclick=\"convertToInteractive('df-51071677-c553-42a7-8e02-084a9bdf4601')\"\n",
              "              title=\"Convert this dataframe to an interactive table.\"\n",
              "              style=\"display:none;\">\n",
              "        \n",
              "  <svg xmlns=\"http://www.w3.org/2000/svg\" height=\"24px\"viewBox=\"0 0 24 24\"\n",
              "       width=\"24px\">\n",
              "    <path d=\"M0 0h24v24H0V0z\" fill=\"none\"/>\n",
              "    <path d=\"M18.56 5.44l.94 2.06.94-2.06 2.06-.94-2.06-.94-.94-2.06-.94 2.06-2.06.94zm-11 1L8.5 8.5l.94-2.06 2.06-.94-2.06-.94L8.5 2.5l-.94 2.06-2.06.94zm10 10l.94 2.06.94-2.06 2.06-.94-2.06-.94-.94-2.06-.94 2.06-2.06.94z\"/><path d=\"M17.41 7.96l-1.37-1.37c-.4-.4-.92-.59-1.43-.59-.52 0-1.04.2-1.43.59L10.3 9.45l-7.72 7.72c-.78.78-.78 2.05 0 2.83L4 21.41c.39.39.9.59 1.41.59.51 0 1.02-.2 1.41-.59l7.78-7.78 2.81-2.81c.8-.78.8-2.07 0-2.86zM5.41 20L4 18.59l7.72-7.72 1.47 1.35L5.41 20z\"/>\n",
              "  </svg>\n",
              "      </button>\n",
              "      \n",
              "  <style>\n",
              "    .colab-df-container {\n",
              "      display:flex;\n",
              "      flex-wrap:wrap;\n",
              "      gap: 12px;\n",
              "    }\n",
              "\n",
              "    .colab-df-convert {\n",
              "      background-color: #E8F0FE;\n",
              "      border: none;\n",
              "      border-radius: 50%;\n",
              "      cursor: pointer;\n",
              "      display: none;\n",
              "      fill: #1967D2;\n",
              "      height: 32px;\n",
              "      padding: 0 0 0 0;\n",
              "      width: 32px;\n",
              "    }\n",
              "\n",
              "    .colab-df-convert:hover {\n",
              "      background-color: #E2EBFA;\n",
              "      box-shadow: 0px 1px 2px rgba(60, 64, 67, 0.3), 0px 1px 3px 1px rgba(60, 64, 67, 0.15);\n",
              "      fill: #174EA6;\n",
              "    }\n",
              "\n",
              "    [theme=dark] .colab-df-convert {\n",
              "      background-color: #3B4455;\n",
              "      fill: #D2E3FC;\n",
              "    }\n",
              "\n",
              "    [theme=dark] .colab-df-convert:hover {\n",
              "      background-color: #434B5C;\n",
              "      box-shadow: 0px 1px 3px 1px rgba(0, 0, 0, 0.15);\n",
              "      filter: drop-shadow(0px 1px 2px rgba(0, 0, 0, 0.3));\n",
              "      fill: #FFFFFF;\n",
              "    }\n",
              "  </style>\n",
              "\n",
              "      <script>\n",
              "        const buttonEl =\n",
              "          document.querySelector('#df-51071677-c553-42a7-8e02-084a9bdf4601 button.colab-df-convert');\n",
              "        buttonEl.style.display =\n",
              "          google.colab.kernel.accessAllowed ? 'block' : 'none';\n",
              "\n",
              "        async function convertToInteractive(key) {\n",
              "          const element = document.querySelector('#df-51071677-c553-42a7-8e02-084a9bdf4601');\n",
              "          const dataTable =\n",
              "            await google.colab.kernel.invokeFunction('convertToInteractive',\n",
              "                                                     [key], {});\n",
              "          if (!dataTable) return;\n",
              "\n",
              "          const docLinkHtml = 'Like what you see? Visit the ' +\n",
              "            '<a target=\"_blank\" href=https://colab.research.google.com/notebooks/data_table.ipynb>data table notebook</a>'\n",
              "            + ' to learn more about interactive tables.';\n",
              "          element.innerHTML = '';\n",
              "          dataTable['output_type'] = 'display_data';\n",
              "          await google.colab.output.renderOutput(dataTable, element);\n",
              "          const docLink = document.createElement('div');\n",
              "          docLink.innerHTML = docLinkHtml;\n",
              "          element.appendChild(docLink);\n",
              "        }\n",
              "      </script>\n",
              "    </div>\n",
              "  </div>\n",
              "  "
            ]
          },
          "metadata": {},
          "execution_count": 9
        }
      ]
    },
    {
      "cell_type": "code",
      "source": [
        "sent_feat.shape"
      ],
      "metadata": {
        "colab": {
          "base_uri": "https://localhost:8080/"
        },
        "id": "CDkJ9CeWuKaJ",
        "outputId": "81a2e069-6a13-4a53-8b14-7104384321f8"
      },
      "execution_count": null,
      "outputs": [
        {
          "output_type": "execute_result",
          "data": {
            "text/plain": [
              "(1200, 4)"
            ]
          },
          "metadata": {},
          "execution_count": 10
        }
      ]
    },
    {
      "cell_type": "code",
      "source": [
        "sent_feat.to_csv('dependency_dist_feat.csv', index = False)"
      ],
      "metadata": {
        "id": "5_2CvpUzlxVD"
      },
      "execution_count": null,
      "outputs": []
    },
    {
      "cell_type": "markdown",
      "source": [
        "# Measure the syntactic complexity of each sentence by counting the number of clauses, phrases, and subordinating conjunctions."
      ],
      "metadata": {
        "id": "WuWnO0XbId56"
      }
    },
    {
      "cell_type": "code",
      "source": [
        "# Initialize an empty list to store the features for each sentence\n",
        "features = []\n",
        "\n",
        "# Loop through each sentence in the dataset\n",
        "for sentence in sentences:\n",
        "    # Parse the sentence using spaCy\n",
        "    doc = nlp(sentence.metadata[\"text\"])\n",
        "    \n",
        "    # Count the number of clauses, phrases, and subordinating conjunctions in the sentence\n",
        "    num_clauses = 0\n",
        "    num_phrases = 0\n",
        "    num_subordinating_conjunctions = 0\n",
        "    for token in doc:\n",
        "        if token.dep_ == \"acl\" or token.dep_ == \"advcl\" or token.dep_ == \"ccomp\":\n",
        "            num_clauses += 1\n",
        "        elif token.dep_.startswith(\"obl\") or token.dep_.startswith(\"iobj\") or token.dep_.startswith(\"obj\") or token.dep_.startswith(\"nsubj\") or token.dep_.startswith(\"csubj\"):\n",
        "            num_phrases += 1\n",
        "        elif token.pos_ == \"SCONJ\":\n",
        "            num_subordinating_conjunctions += 1\n",
        "    \n",
        "    # Append the features for this sentence to the list of features\n",
        "    features.append({\n",
        "        \"text\": sentence.metadata[\"text\"],\n",
        "        \"num_clauses\": num_clauses,\n",
        "        \"num_phrases\": num_phrases,\n",
        "        \"num_subordinating_conjunctions\": num_subordinating_conjunctions\n",
        "    })"
      ],
      "metadata": {
        "id": "6rcyGE2Y6-nK"
      },
      "execution_count": null,
      "outputs": []
    },
    {
      "cell_type": "code",
      "source": [
        "# Save the features for each sentence to a CSV file\n",
        "with open(\"syntactic_complexity.csv\", \"w\", encoding=\"utf-8\", newline=\"\") as f:\n",
        "    writer = csv.DictWriter(f, fieldnames=[\"text\", \"num_clauses\", \"num_phrases\", \"num_subordinating_conjunctions\"])\n",
        "    writer.writeheader()\n",
        "    for feature in features:\n",
        "        writer.writerow(feature)"
      ],
      "metadata": {
        "id": "BayYhOcG6-pb"
      },
      "execution_count": null,
      "outputs": []
    },
    {
      "cell_type": "code",
      "source": [
        "syntactic_complexity_feat = pd.read_csv('syntactic_complexity.csv')\n",
        "syntactic_complexity_feat.head()"
      ],
      "metadata": {
        "colab": {
          "base_uri": "https://localhost:8080/",
          "height": 206
        },
        "id": "eoFNfhJQ6-r_",
        "outputId": "8f6748ca-96d6-46a0-a56c-3d416a3a9a7d"
      },
      "execution_count": null,
      "outputs": [
        {
          "output_type": "execute_result",
          "data": {
            "text/plain": [
              "                                                text  num_clauses  \\\n",
              "0  За неделю начальник управления собирался позво...            1   \n",
              "1  На этот раз она была в сильном возбуждении и м...            0   \n",
              "2  Ребята, которые посмелей, конечно, уехали на к...            0   \n",
              "3  Да и работать она может только в системе связи...            0   \n",
              "4  Утром он поднялся с головной болью и, не позав...            1   \n",
              "\n",
              "   num_phrases  num_subordinating_conjunctions  \n",
              "0            6                               1  \n",
              "1            2                               0  \n",
              "2            4                               0  \n",
              "3            3                               0  \n",
              "4            4                               0  "
            ],
            "text/html": [
              "\n",
              "  <div id=\"df-a8de7e9b-2d56-4552-9634-2ed801e8ca6b\">\n",
              "    <div class=\"colab-df-container\">\n",
              "      <div>\n",
              "<style scoped>\n",
              "    .dataframe tbody tr th:only-of-type {\n",
              "        vertical-align: middle;\n",
              "    }\n",
              "\n",
              "    .dataframe tbody tr th {\n",
              "        vertical-align: top;\n",
              "    }\n",
              "\n",
              "    .dataframe thead th {\n",
              "        text-align: right;\n",
              "    }\n",
              "</style>\n",
              "<table border=\"1\" class=\"dataframe\">\n",
              "  <thead>\n",
              "    <tr style=\"text-align: right;\">\n",
              "      <th></th>\n",
              "      <th>text</th>\n",
              "      <th>num_clauses</th>\n",
              "      <th>num_phrases</th>\n",
              "      <th>num_subordinating_conjunctions</th>\n",
              "    </tr>\n",
              "  </thead>\n",
              "  <tbody>\n",
              "    <tr>\n",
              "      <th>0</th>\n",
              "      <td>За неделю начальник управления собирался позво...</td>\n",
              "      <td>1</td>\n",
              "      <td>6</td>\n",
              "      <td>1</td>\n",
              "    </tr>\n",
              "    <tr>\n",
              "      <th>1</th>\n",
              "      <td>На этот раз она была в сильном возбуждении и м...</td>\n",
              "      <td>0</td>\n",
              "      <td>2</td>\n",
              "      <td>0</td>\n",
              "    </tr>\n",
              "    <tr>\n",
              "      <th>2</th>\n",
              "      <td>Ребята, которые посмелей, конечно, уехали на к...</td>\n",
              "      <td>0</td>\n",
              "      <td>4</td>\n",
              "      <td>0</td>\n",
              "    </tr>\n",
              "    <tr>\n",
              "      <th>3</th>\n",
              "      <td>Да и работать она может только в системе связи...</td>\n",
              "      <td>0</td>\n",
              "      <td>3</td>\n",
              "      <td>0</td>\n",
              "    </tr>\n",
              "    <tr>\n",
              "      <th>4</th>\n",
              "      <td>Утром он поднялся с головной болью и, не позав...</td>\n",
              "      <td>1</td>\n",
              "      <td>4</td>\n",
              "      <td>0</td>\n",
              "    </tr>\n",
              "  </tbody>\n",
              "</table>\n",
              "</div>\n",
              "      <button class=\"colab-df-convert\" onclick=\"convertToInteractive('df-a8de7e9b-2d56-4552-9634-2ed801e8ca6b')\"\n",
              "              title=\"Convert this dataframe to an interactive table.\"\n",
              "              style=\"display:none;\">\n",
              "        \n",
              "  <svg xmlns=\"http://www.w3.org/2000/svg\" height=\"24px\"viewBox=\"0 0 24 24\"\n",
              "       width=\"24px\">\n",
              "    <path d=\"M0 0h24v24H0V0z\" fill=\"none\"/>\n",
              "    <path d=\"M18.56 5.44l.94 2.06.94-2.06 2.06-.94-2.06-.94-.94-2.06-.94 2.06-2.06.94zm-11 1L8.5 8.5l.94-2.06 2.06-.94-2.06-.94L8.5 2.5l-.94 2.06-2.06.94zm10 10l.94 2.06.94-2.06 2.06-.94-2.06-.94-.94-2.06-.94 2.06-2.06.94z\"/><path d=\"M17.41 7.96l-1.37-1.37c-.4-.4-.92-.59-1.43-.59-.52 0-1.04.2-1.43.59L10.3 9.45l-7.72 7.72c-.78.78-.78 2.05 0 2.83L4 21.41c.39.39.9.59 1.41.59.51 0 1.02-.2 1.41-.59l7.78-7.78 2.81-2.81c.8-.78.8-2.07 0-2.86zM5.41 20L4 18.59l7.72-7.72 1.47 1.35L5.41 20z\"/>\n",
              "  </svg>\n",
              "      </button>\n",
              "      \n",
              "  <style>\n",
              "    .colab-df-container {\n",
              "      display:flex;\n",
              "      flex-wrap:wrap;\n",
              "      gap: 12px;\n",
              "    }\n",
              "\n",
              "    .colab-df-convert {\n",
              "      background-color: #E8F0FE;\n",
              "      border: none;\n",
              "      border-radius: 50%;\n",
              "      cursor: pointer;\n",
              "      display: none;\n",
              "      fill: #1967D2;\n",
              "      height: 32px;\n",
              "      padding: 0 0 0 0;\n",
              "      width: 32px;\n",
              "    }\n",
              "\n",
              "    .colab-df-convert:hover {\n",
              "      background-color: #E2EBFA;\n",
              "      box-shadow: 0px 1px 2px rgba(60, 64, 67, 0.3), 0px 1px 3px 1px rgba(60, 64, 67, 0.15);\n",
              "      fill: #174EA6;\n",
              "    }\n",
              "\n",
              "    [theme=dark] .colab-df-convert {\n",
              "      background-color: #3B4455;\n",
              "      fill: #D2E3FC;\n",
              "    }\n",
              "\n",
              "    [theme=dark] .colab-df-convert:hover {\n",
              "      background-color: #434B5C;\n",
              "      box-shadow: 0px 1px 3px 1px rgba(0, 0, 0, 0.15);\n",
              "      filter: drop-shadow(0px 1px 2px rgba(0, 0, 0, 0.3));\n",
              "      fill: #FFFFFF;\n",
              "    }\n",
              "  </style>\n",
              "\n",
              "      <script>\n",
              "        const buttonEl =\n",
              "          document.querySelector('#df-a8de7e9b-2d56-4552-9634-2ed801e8ca6b button.colab-df-convert');\n",
              "        buttonEl.style.display =\n",
              "          google.colab.kernel.accessAllowed ? 'block' : 'none';\n",
              "\n",
              "        async function convertToInteractive(key) {\n",
              "          const element = document.querySelector('#df-a8de7e9b-2d56-4552-9634-2ed801e8ca6b');\n",
              "          const dataTable =\n",
              "            await google.colab.kernel.invokeFunction('convertToInteractive',\n",
              "                                                     [key], {});\n",
              "          if (!dataTable) return;\n",
              "\n",
              "          const docLinkHtml = 'Like what you see? Visit the ' +\n",
              "            '<a target=\"_blank\" href=https://colab.research.google.com/notebooks/data_table.ipynb>data table notebook</a>'\n",
              "            + ' to learn more about interactive tables.';\n",
              "          element.innerHTML = '';\n",
              "          dataTable['output_type'] = 'display_data';\n",
              "          await google.colab.output.renderOutput(dataTable, element);\n",
              "          const docLink = document.createElement('div');\n",
              "          docLink.innerHTML = docLinkHtml;\n",
              "          element.appendChild(docLink);\n",
              "        }\n",
              "      </script>\n",
              "    </div>\n",
              "  </div>\n",
              "  "
            ]
          },
          "metadata": {},
          "execution_count": 14
        }
      ]
    },
    {
      "cell_type": "code",
      "source": [
        "syntactic_complexity_feat.to_csv(\"syntactic_complexity_feat.csv\", index = False)"
      ],
      "metadata": {
        "id": "Wg2tj4tqnnZH"
      },
      "execution_count": null,
      "outputs": []
    },
    {
      "cell_type": "markdown",
      "source": [
        "# Features based on POS-tags"
      ],
      "metadata": {
        "id": "AibLwj5fZ1pp"
      }
    },
    {
      "cell_type": "code",
      "source": [
        "\n",
        "features = []\n",
        "\n",
        "# Loop through each sentence in the dataset\n",
        "for sentence in sentences:\n",
        "    # Parse the sentence using spaCy\n",
        "    doc = nlp(sentence.metadata[\"text\"])\n",
        "    \n",
        "    # Initialize counters for each type of part of speech and case\n",
        "    num_nouns = 0\n",
        "    num_verbs = 0\n",
        "    num_adjectives = 0\n",
        "    num_pronouns = 0\n",
        "    num_nominative = 0\n",
        "    num_genitive = 0\n",
        "    total_words = 0\n",
        "    \n",
        "    # Loop through each token in the sentence\n",
        "    for token in doc:\n",
        "        total_words += 1\n",
        "        # Check the part-of-speech tag and increment the corresponding counter\n",
        "        if token.pos_ == \"NOUN\":\n",
        "            num_nouns += 1\n",
        "        elif token.pos_ == \"VERB\":\n",
        "            num_verbs += 1\n",
        "        elif token.pos_ == \"ADJ\":\n",
        "            num_adjectives += 1\n",
        "        elif token.pos_ == \"PRON\" and token.dep_ != \"nsubj\":\n",
        "            num_pronouns += 1\n",
        "        \n",
        "        # Check the case and increment the corresponding counter\n",
        "        if token.tag_.endswith(\"nom\"):\n",
        "            num_nominative += 1\n",
        "        elif token.tag_.endswith(\"gen\"):\n",
        "            num_genitive += 1\n",
        "    \n",
        "    # Compute the proportions of each type of part of speech and case\n",
        "    prop_nouns = num_nouns / total_words\n",
        "    prop_verbs = num_verbs / total_words\n",
        "    prop_adjectives = num_adjectives / total_words\n",
        "    prop_pronouns = num_pronouns / total_words\n",
        "    prop_nominative = num_nominative / total_words\n",
        "    prop_genitive = num_genitive / total_words\n",
        "    \n",
        "    # Append the features for this sentence to the list of features\n",
        "    features.append({\n",
        "        \"text\": sentence.metadata[\"text\"],\n",
        "        \"prop_nouns\": prop_nouns,\n",
        "        \"prop_verbs\": prop_verbs,\n",
        "        \"prop_adjectives\": prop_adjectives,\n",
        "        \"prop_pronouns\": prop_pronouns,\n",
        "        \"prop_nominative\": prop_nominative,\n",
        "        \"prop_genitive\": prop_genitive\n",
        "    })\n"
      ],
      "metadata": {
        "id": "BMArmp9Y6-uX"
      },
      "execution_count": null,
      "outputs": []
    },
    {
      "cell_type": "code",
      "source": [
        "# Save the features for each sentence to a CSV file\n",
        "with open(\"POS-tags.csv\", \"w\", encoding=\"utf-8\", newline=\"\") as f:\n",
        "    writer = csv.DictWriter(f, fieldnames=[\"text\", \"prop_nouns\", \"prop_verbs\", \"prop_adjectives\", \"prop_pronouns\", \"prop_nominative\", \"prop_genitive\"])\n",
        "    writer.writeheader()\n",
        "    for feature in features:\n",
        "        writer.writerow(feature)"
      ],
      "metadata": {
        "id": "sbTBAgNU6-xZ"
      },
      "execution_count": null,
      "outputs": []
    },
    {
      "cell_type": "code",
      "source": [
        "POStags_feat = pd.read_csv('POS-tags.csv')\n",
        "POStags_feat.head()"
      ],
      "metadata": {
        "colab": {
          "base_uri": "https://localhost:8080/",
          "height": 206
        },
        "id": "BpVEketa6-3a",
        "outputId": "1be43e3a-3f62-4aec-c5ae-69d4e7d196e8"
      },
      "execution_count": null,
      "outputs": [
        {
          "output_type": "execute_result",
          "data": {
            "text/plain": [
              "                                                text  prop_nouns  prop_verbs  \\\n",
              "0  За неделю начальник управления собирался позво...    0.200000    0.133333   \n",
              "1  На этот раз она была в сильном возбуждении и м...    0.266667    0.066667   \n",
              "2  Ребята, которые посмелей, конечно, уехали на к...    0.200000    0.100000   \n",
              "3  Да и работать она может только в системе связи...    0.200000    0.133333   \n",
              "4  Утром он поднялся с головной болью и, не позав...    0.200000    0.200000   \n",
              "\n",
              "   prop_adjectives  prop_pronouns  prop_nominative  prop_genitive  \n",
              "0         0.066667       0.000000              0.0            0.0  \n",
              "1         0.133333       0.000000              0.0            0.0  \n",
              "2         0.000000       0.000000              0.0            0.0  \n",
              "3         0.066667       0.066667              0.0            0.0  \n",
              "4         0.066667       0.000000              0.0            0.0  "
            ],
            "text/html": [
              "\n",
              "  <div id=\"df-eaa0d8d2-07b7-4711-b6ef-9966e712406e\">\n",
              "    <div class=\"colab-df-container\">\n",
              "      <div>\n",
              "<style scoped>\n",
              "    .dataframe tbody tr th:only-of-type {\n",
              "        vertical-align: middle;\n",
              "    }\n",
              "\n",
              "    .dataframe tbody tr th {\n",
              "        vertical-align: top;\n",
              "    }\n",
              "\n",
              "    .dataframe thead th {\n",
              "        text-align: right;\n",
              "    }\n",
              "</style>\n",
              "<table border=\"1\" class=\"dataframe\">\n",
              "  <thead>\n",
              "    <tr style=\"text-align: right;\">\n",
              "      <th></th>\n",
              "      <th>text</th>\n",
              "      <th>prop_nouns</th>\n",
              "      <th>prop_verbs</th>\n",
              "      <th>prop_adjectives</th>\n",
              "      <th>prop_pronouns</th>\n",
              "      <th>prop_nominative</th>\n",
              "      <th>prop_genitive</th>\n",
              "    </tr>\n",
              "  </thead>\n",
              "  <tbody>\n",
              "    <tr>\n",
              "      <th>0</th>\n",
              "      <td>За неделю начальник управления собирался позво...</td>\n",
              "      <td>0.200000</td>\n",
              "      <td>0.133333</td>\n",
              "      <td>0.066667</td>\n",
              "      <td>0.000000</td>\n",
              "      <td>0.0</td>\n",
              "      <td>0.0</td>\n",
              "    </tr>\n",
              "    <tr>\n",
              "      <th>1</th>\n",
              "      <td>На этот раз она была в сильном возбуждении и м...</td>\n",
              "      <td>0.266667</td>\n",
              "      <td>0.066667</td>\n",
              "      <td>0.133333</td>\n",
              "      <td>0.000000</td>\n",
              "      <td>0.0</td>\n",
              "      <td>0.0</td>\n",
              "    </tr>\n",
              "    <tr>\n",
              "      <th>2</th>\n",
              "      <td>Ребята, которые посмелей, конечно, уехали на к...</td>\n",
              "      <td>0.200000</td>\n",
              "      <td>0.100000</td>\n",
              "      <td>0.000000</td>\n",
              "      <td>0.000000</td>\n",
              "      <td>0.0</td>\n",
              "      <td>0.0</td>\n",
              "    </tr>\n",
              "    <tr>\n",
              "      <th>3</th>\n",
              "      <td>Да и работать она может только в системе связи...</td>\n",
              "      <td>0.200000</td>\n",
              "      <td>0.133333</td>\n",
              "      <td>0.066667</td>\n",
              "      <td>0.066667</td>\n",
              "      <td>0.0</td>\n",
              "      <td>0.0</td>\n",
              "    </tr>\n",
              "    <tr>\n",
              "      <th>4</th>\n",
              "      <td>Утром он поднялся с головной болью и, не позав...</td>\n",
              "      <td>0.200000</td>\n",
              "      <td>0.200000</td>\n",
              "      <td>0.066667</td>\n",
              "      <td>0.000000</td>\n",
              "      <td>0.0</td>\n",
              "      <td>0.0</td>\n",
              "    </tr>\n",
              "  </tbody>\n",
              "</table>\n",
              "</div>\n",
              "      <button class=\"colab-df-convert\" onclick=\"convertToInteractive('df-eaa0d8d2-07b7-4711-b6ef-9966e712406e')\"\n",
              "              title=\"Convert this dataframe to an interactive table.\"\n",
              "              style=\"display:none;\">\n",
              "        \n",
              "  <svg xmlns=\"http://www.w3.org/2000/svg\" height=\"24px\"viewBox=\"0 0 24 24\"\n",
              "       width=\"24px\">\n",
              "    <path d=\"M0 0h24v24H0V0z\" fill=\"none\"/>\n",
              "    <path d=\"M18.56 5.44l.94 2.06.94-2.06 2.06-.94-2.06-.94-.94-2.06-.94 2.06-2.06.94zm-11 1L8.5 8.5l.94-2.06 2.06-.94-2.06-.94L8.5 2.5l-.94 2.06-2.06.94zm10 10l.94 2.06.94-2.06 2.06-.94-2.06-.94-.94-2.06-.94 2.06-2.06.94z\"/><path d=\"M17.41 7.96l-1.37-1.37c-.4-.4-.92-.59-1.43-.59-.52 0-1.04.2-1.43.59L10.3 9.45l-7.72 7.72c-.78.78-.78 2.05 0 2.83L4 21.41c.39.39.9.59 1.41.59.51 0 1.02-.2 1.41-.59l7.78-7.78 2.81-2.81c.8-.78.8-2.07 0-2.86zM5.41 20L4 18.59l7.72-7.72 1.47 1.35L5.41 20z\"/>\n",
              "  </svg>\n",
              "      </button>\n",
              "      \n",
              "  <style>\n",
              "    .colab-df-container {\n",
              "      display:flex;\n",
              "      flex-wrap:wrap;\n",
              "      gap: 12px;\n",
              "    }\n",
              "\n",
              "    .colab-df-convert {\n",
              "      background-color: #E8F0FE;\n",
              "      border: none;\n",
              "      border-radius: 50%;\n",
              "      cursor: pointer;\n",
              "      display: none;\n",
              "      fill: #1967D2;\n",
              "      height: 32px;\n",
              "      padding: 0 0 0 0;\n",
              "      width: 32px;\n",
              "    }\n",
              "\n",
              "    .colab-df-convert:hover {\n",
              "      background-color: #E2EBFA;\n",
              "      box-shadow: 0px 1px 2px rgba(60, 64, 67, 0.3), 0px 1px 3px 1px rgba(60, 64, 67, 0.15);\n",
              "      fill: #174EA6;\n",
              "    }\n",
              "\n",
              "    [theme=dark] .colab-df-convert {\n",
              "      background-color: #3B4455;\n",
              "      fill: #D2E3FC;\n",
              "    }\n",
              "\n",
              "    [theme=dark] .colab-df-convert:hover {\n",
              "      background-color: #434B5C;\n",
              "      box-shadow: 0px 1px 3px 1px rgba(0, 0, 0, 0.15);\n",
              "      filter: drop-shadow(0px 1px 2px rgba(0, 0, 0, 0.3));\n",
              "      fill: #FFFFFF;\n",
              "    }\n",
              "  </style>\n",
              "\n",
              "      <script>\n",
              "        const buttonEl =\n",
              "          document.querySelector('#df-eaa0d8d2-07b7-4711-b6ef-9966e712406e button.colab-df-convert');\n",
              "        buttonEl.style.display =\n",
              "          google.colab.kernel.accessAllowed ? 'block' : 'none';\n",
              "\n",
              "        async function convertToInteractive(key) {\n",
              "          const element = document.querySelector('#df-eaa0d8d2-07b7-4711-b6ef-9966e712406e');\n",
              "          const dataTable =\n",
              "            await google.colab.kernel.invokeFunction('convertToInteractive',\n",
              "                                                     [key], {});\n",
              "          if (!dataTable) return;\n",
              "\n",
              "          const docLinkHtml = 'Like what you see? Visit the ' +\n",
              "            '<a target=\"_blank\" href=https://colab.research.google.com/notebooks/data_table.ipynb>data table notebook</a>'\n",
              "            + ' to learn more about interactive tables.';\n",
              "          element.innerHTML = '';\n",
              "          dataTable['output_type'] = 'display_data';\n",
              "          await google.colab.output.renderOutput(dataTable, element);\n",
              "          const docLink = document.createElement('div');\n",
              "          docLink.innerHTML = docLinkHtml;\n",
              "          element.appendChild(docLink);\n",
              "        }\n",
              "      </script>\n",
              "    </div>\n",
              "  </div>\n",
              "  "
            ]
          },
          "metadata": {},
          "execution_count": 18
        }
      ]
    },
    {
      "cell_type": "code",
      "source": [
        "print(POStags_feat['prop_nominative'].unique())\n"
      ],
      "metadata": {
        "colab": {
          "base_uri": "https://localhost:8080/"
        },
        "id": "b0c73fi86-5j",
        "outputId": "c5bb4d5c-7447-431d-d34e-73d87e740ff9"
      },
      "execution_count": null,
      "outputs": [
        {
          "output_type": "stream",
          "name": "stdout",
          "text": [
            "[0.]\n"
          ]
        }
      ]
    },
    {
      "cell_type": "code",
      "source": [
        "print(POStags_feat['prop_genitive'].unique())\n"
      ],
      "metadata": {
        "colab": {
          "base_uri": "https://localhost:8080/"
        },
        "id": "NIT4W4Y76-8a",
        "outputId": "de232831-f481-428c-a7b2-5d3186ba3054"
      },
      "execution_count": null,
      "outputs": [
        {
          "output_type": "stream",
          "name": "stdout",
          "text": [
            "[0.]\n"
          ]
        }
      ]
    },
    {
      "cell_type": "code",
      "source": [
        "#print(POStags_feat['prop_pronouns'].unique())\n"
      ],
      "metadata": {
        "id": "0wh2vb-TbJ0S"
      },
      "execution_count": null,
      "outputs": []
    },
    {
      "cell_type": "code",
      "source": [
        "POStags_feat = POStags_feat.drop(POStags_feat[[\"prop_nominative\", \"prop_genitive\"]], axis = 1)\n",
        "POStags_feat.head()"
      ],
      "metadata": {
        "colab": {
          "base_uri": "https://localhost:8080/",
          "height": 206
        },
        "id": "x3htvXwbbQ1T",
        "outputId": "c74a1a28-e105-4817-9827-0abaddccf1f3"
      },
      "execution_count": null,
      "outputs": [
        {
          "output_type": "execute_result",
          "data": {
            "text/plain": [
              "                                                text  prop_nouns  prop_verbs  \\\n",
              "0  За неделю начальник управления собирался позво...    0.200000    0.133333   \n",
              "1  На этот раз она была в сильном возбуждении и м...    0.266667    0.066667   \n",
              "2  Ребята, которые посмелей, конечно, уехали на к...    0.200000    0.100000   \n",
              "3  Да и работать она может только в системе связи...    0.200000    0.133333   \n",
              "4  Утром он поднялся с головной болью и, не позав...    0.200000    0.200000   \n",
              "\n",
              "   prop_adjectives  prop_pronouns  \n",
              "0         0.066667       0.000000  \n",
              "1         0.133333       0.000000  \n",
              "2         0.000000       0.000000  \n",
              "3         0.066667       0.066667  \n",
              "4         0.066667       0.000000  "
            ],
            "text/html": [
              "\n",
              "  <div id=\"df-6b3900e6-f894-4987-b57e-7ca8cbf5388d\">\n",
              "    <div class=\"colab-df-container\">\n",
              "      <div>\n",
              "<style scoped>\n",
              "    .dataframe tbody tr th:only-of-type {\n",
              "        vertical-align: middle;\n",
              "    }\n",
              "\n",
              "    .dataframe tbody tr th {\n",
              "        vertical-align: top;\n",
              "    }\n",
              "\n",
              "    .dataframe thead th {\n",
              "        text-align: right;\n",
              "    }\n",
              "</style>\n",
              "<table border=\"1\" class=\"dataframe\">\n",
              "  <thead>\n",
              "    <tr style=\"text-align: right;\">\n",
              "      <th></th>\n",
              "      <th>text</th>\n",
              "      <th>prop_nouns</th>\n",
              "      <th>prop_verbs</th>\n",
              "      <th>prop_adjectives</th>\n",
              "      <th>prop_pronouns</th>\n",
              "    </tr>\n",
              "  </thead>\n",
              "  <tbody>\n",
              "    <tr>\n",
              "      <th>0</th>\n",
              "      <td>За неделю начальник управления собирался позво...</td>\n",
              "      <td>0.200000</td>\n",
              "      <td>0.133333</td>\n",
              "      <td>0.066667</td>\n",
              "      <td>0.000000</td>\n",
              "    </tr>\n",
              "    <tr>\n",
              "      <th>1</th>\n",
              "      <td>На этот раз она была в сильном возбуждении и м...</td>\n",
              "      <td>0.266667</td>\n",
              "      <td>0.066667</td>\n",
              "      <td>0.133333</td>\n",
              "      <td>0.000000</td>\n",
              "    </tr>\n",
              "    <tr>\n",
              "      <th>2</th>\n",
              "      <td>Ребята, которые посмелей, конечно, уехали на к...</td>\n",
              "      <td>0.200000</td>\n",
              "      <td>0.100000</td>\n",
              "      <td>0.000000</td>\n",
              "      <td>0.000000</td>\n",
              "    </tr>\n",
              "    <tr>\n",
              "      <th>3</th>\n",
              "      <td>Да и работать она может только в системе связи...</td>\n",
              "      <td>0.200000</td>\n",
              "      <td>0.133333</td>\n",
              "      <td>0.066667</td>\n",
              "      <td>0.066667</td>\n",
              "    </tr>\n",
              "    <tr>\n",
              "      <th>4</th>\n",
              "      <td>Утром он поднялся с головной болью и, не позав...</td>\n",
              "      <td>0.200000</td>\n",
              "      <td>0.200000</td>\n",
              "      <td>0.066667</td>\n",
              "      <td>0.000000</td>\n",
              "    </tr>\n",
              "  </tbody>\n",
              "</table>\n",
              "</div>\n",
              "      <button class=\"colab-df-convert\" onclick=\"convertToInteractive('df-6b3900e6-f894-4987-b57e-7ca8cbf5388d')\"\n",
              "              title=\"Convert this dataframe to an interactive table.\"\n",
              "              style=\"display:none;\">\n",
              "        \n",
              "  <svg xmlns=\"http://www.w3.org/2000/svg\" height=\"24px\"viewBox=\"0 0 24 24\"\n",
              "       width=\"24px\">\n",
              "    <path d=\"M0 0h24v24H0V0z\" fill=\"none\"/>\n",
              "    <path d=\"M18.56 5.44l.94 2.06.94-2.06 2.06-.94-2.06-.94-.94-2.06-.94 2.06-2.06.94zm-11 1L8.5 8.5l.94-2.06 2.06-.94-2.06-.94L8.5 2.5l-.94 2.06-2.06.94zm10 10l.94 2.06.94-2.06 2.06-.94-2.06-.94-.94-2.06-.94 2.06-2.06.94z\"/><path d=\"M17.41 7.96l-1.37-1.37c-.4-.4-.92-.59-1.43-.59-.52 0-1.04.2-1.43.59L10.3 9.45l-7.72 7.72c-.78.78-.78 2.05 0 2.83L4 21.41c.39.39.9.59 1.41.59.51 0 1.02-.2 1.41-.59l7.78-7.78 2.81-2.81c.8-.78.8-2.07 0-2.86zM5.41 20L4 18.59l7.72-7.72 1.47 1.35L5.41 20z\"/>\n",
              "  </svg>\n",
              "      </button>\n",
              "      \n",
              "  <style>\n",
              "    .colab-df-container {\n",
              "      display:flex;\n",
              "      flex-wrap:wrap;\n",
              "      gap: 12px;\n",
              "    }\n",
              "\n",
              "    .colab-df-convert {\n",
              "      background-color: #E8F0FE;\n",
              "      border: none;\n",
              "      border-radius: 50%;\n",
              "      cursor: pointer;\n",
              "      display: none;\n",
              "      fill: #1967D2;\n",
              "      height: 32px;\n",
              "      padding: 0 0 0 0;\n",
              "      width: 32px;\n",
              "    }\n",
              "\n",
              "    .colab-df-convert:hover {\n",
              "      background-color: #E2EBFA;\n",
              "      box-shadow: 0px 1px 2px rgba(60, 64, 67, 0.3), 0px 1px 3px 1px rgba(60, 64, 67, 0.15);\n",
              "      fill: #174EA6;\n",
              "    }\n",
              "\n",
              "    [theme=dark] .colab-df-convert {\n",
              "      background-color: #3B4455;\n",
              "      fill: #D2E3FC;\n",
              "    }\n",
              "\n",
              "    [theme=dark] .colab-df-convert:hover {\n",
              "      background-color: #434B5C;\n",
              "      box-shadow: 0px 1px 3px 1px rgba(0, 0, 0, 0.15);\n",
              "      filter: drop-shadow(0px 1px 2px rgba(0, 0, 0, 0.3));\n",
              "      fill: #FFFFFF;\n",
              "    }\n",
              "  </style>\n",
              "\n",
              "      <script>\n",
              "        const buttonEl =\n",
              "          document.querySelector('#df-6b3900e6-f894-4987-b57e-7ca8cbf5388d button.colab-df-convert');\n",
              "        buttonEl.style.display =\n",
              "          google.colab.kernel.accessAllowed ? 'block' : 'none';\n",
              "\n",
              "        async function convertToInteractive(key) {\n",
              "          const element = document.querySelector('#df-6b3900e6-f894-4987-b57e-7ca8cbf5388d');\n",
              "          const dataTable =\n",
              "            await google.colab.kernel.invokeFunction('convertToInteractive',\n",
              "                                                     [key], {});\n",
              "          if (!dataTable) return;\n",
              "\n",
              "          const docLinkHtml = 'Like what you see? Visit the ' +\n",
              "            '<a target=\"_blank\" href=https://colab.research.google.com/notebooks/data_table.ipynb>data table notebook</a>'\n",
              "            + ' to learn more about interactive tables.';\n",
              "          element.innerHTML = '';\n",
              "          dataTable['output_type'] = 'display_data';\n",
              "          await google.colab.output.renderOutput(dataTable, element);\n",
              "          const docLink = document.createElement('div');\n",
              "          docLink.innerHTML = docLinkHtml;\n",
              "          element.appendChild(docLink);\n",
              "        }\n",
              "      </script>\n",
              "    </div>\n",
              "  </div>\n",
              "  "
            ]
          },
          "metadata": {},
          "execution_count": 22
        }
      ]
    },
    {
      "cell_type": "code",
      "source": [
        "POStags_feat.to_csv(\"POS-tags_feat.csv\", index= False)"
      ],
      "metadata": {
        "id": "1OfaOiicb0uL"
      },
      "execution_count": null,
      "outputs": []
    },
    {
      "cell_type": "markdown",
      "source": [
        "# Merging all files"
      ],
      "metadata": {
        "id": "aSNuYQhUfnHC"
      }
    },
    {
      "cell_type": "code",
      "source": [
        "import pandas as pd\n",
        "\n",
        "df1 = pd.read_csv(\"dependency_dist_feat.csv\")\n",
        "df2 = pd.read_csv(\"syntactic_complexity_feat.csv\")\n",
        "df3 = pd.read_csv(\"POS-tags_feat.csv\")\n",
        "merged_df = pd.concat([df1, df2, df3])\n",
        "\n",
        "# Group the dataframe by the \"text\" column and compute the mean of each group\n",
        "grouped_df = merged_df.groupby(\"text\").mean().reset_index()\n",
        "\n",
        "grouped_df.to_csv(\"extracted_features.csv\", index=False)\n"
      ],
      "metadata": {
        "id": "DkR4i8jPf9dS"
      },
      "execution_count": null,
      "outputs": []
    },
    {
      "cell_type": "code",
      "source": [
        "feat = pd.read_csv('extracted_features.csv')\n",
        "feat.head()"
      ],
      "metadata": {
        "colab": {
          "base_uri": "https://localhost:8080/",
          "height": 600
        },
        "id": "lJL9bEYdjFJK",
        "outputId": "f0ead3c1-919a-40ae-cf48-ed7f8090a17d"
      },
      "execution_count": null,
      "outputs": [
        {
          "output_type": "execute_result",
          "data": {
            "text/plain": [
              "                                                text  average_path_length  \\\n",
              "0  Автомобили появятся в салонах официальных диле...             1.777778   \n",
              "1  Автор сам бывший шахтер и очень хорошо описыва...             2.586207   \n",
              "2  Агент МИ6 работал паспортистом в посольстве Ве...             1.111111   \n",
              "3  Администрация города обратилась в прокуратуру ...             1.500000   \n",
              "4  Академик Аганбегян считает: в первую очередь с...             2.157895   \n",
              "\n",
              "   maximum_path_length  num_clauses  num_phrases  \\\n",
              "0                  7.0          0.0          3.0   \n",
              "1                 25.0          1.0          6.0   \n",
              "2                  6.0          0.0          1.0   \n",
              "3                 11.0          0.0          4.0   \n",
              "4                 16.0          0.0          4.0   \n",
              "\n",
              "   num_subordinating_conjunctions  prop_nouns  prop_verbs  prop_adjectives  \\\n",
              "0                             0.0    0.400000    0.100000             0.10   \n",
              "1                             0.0    0.233333    0.100000             0.10   \n",
              "2                             0.0    0.300000    0.100000             0.00   \n",
              "3                             0.0    0.400000    0.133333             0.00   \n",
              "4                             0.0    0.350000    0.150000             0.05   \n",
              "\n",
              "   prop_pronouns  \n",
              "0       0.000000  \n",
              "1       0.033333  \n",
              "2       0.000000  \n",
              "3       0.000000  \n",
              "4       0.000000  "
            ],
            "text/html": [
              "\n",
              "  <div id=\"df-2fc8d3a3-312b-447b-8fbf-3da1763032f7\">\n",
              "    <div class=\"colab-df-container\">\n",
              "      <div>\n",
              "<style scoped>\n",
              "    .dataframe tbody tr th:only-of-type {\n",
              "        vertical-align: middle;\n",
              "    }\n",
              "\n",
              "    .dataframe tbody tr th {\n",
              "        vertical-align: top;\n",
              "    }\n",
              "\n",
              "    .dataframe thead th {\n",
              "        text-align: right;\n",
              "    }\n",
              "</style>\n",
              "<table border=\"1\" class=\"dataframe\">\n",
              "  <thead>\n",
              "    <tr style=\"text-align: right;\">\n",
              "      <th></th>\n",
              "      <th>text</th>\n",
              "      <th>average_path_length</th>\n",
              "      <th>maximum_path_length</th>\n",
              "      <th>num_clauses</th>\n",
              "      <th>num_phrases</th>\n",
              "      <th>num_subordinating_conjunctions</th>\n",
              "      <th>prop_nouns</th>\n",
              "      <th>prop_verbs</th>\n",
              "      <th>prop_adjectives</th>\n",
              "      <th>prop_pronouns</th>\n",
              "    </tr>\n",
              "  </thead>\n",
              "  <tbody>\n",
              "    <tr>\n",
              "      <th>0</th>\n",
              "      <td>Автомобили появятся в салонах официальных диле...</td>\n",
              "      <td>1.777778</td>\n",
              "      <td>7.0</td>\n",
              "      <td>0.0</td>\n",
              "      <td>3.0</td>\n",
              "      <td>0.0</td>\n",
              "      <td>0.400000</td>\n",
              "      <td>0.100000</td>\n",
              "      <td>0.10</td>\n",
              "      <td>0.000000</td>\n",
              "    </tr>\n",
              "    <tr>\n",
              "      <th>1</th>\n",
              "      <td>Автор сам бывший шахтер и очень хорошо описыва...</td>\n",
              "      <td>2.586207</td>\n",
              "      <td>25.0</td>\n",
              "      <td>1.0</td>\n",
              "      <td>6.0</td>\n",
              "      <td>0.0</td>\n",
              "      <td>0.233333</td>\n",
              "      <td>0.100000</td>\n",
              "      <td>0.10</td>\n",
              "      <td>0.033333</td>\n",
              "    </tr>\n",
              "    <tr>\n",
              "      <th>2</th>\n",
              "      <td>Агент МИ6 работал паспортистом в посольстве Ве...</td>\n",
              "      <td>1.111111</td>\n",
              "      <td>6.0</td>\n",
              "      <td>0.0</td>\n",
              "      <td>1.0</td>\n",
              "      <td>0.0</td>\n",
              "      <td>0.300000</td>\n",
              "      <td>0.100000</td>\n",
              "      <td>0.00</td>\n",
              "      <td>0.000000</td>\n",
              "    </tr>\n",
              "    <tr>\n",
              "      <th>3</th>\n",
              "      <td>Администрация города обратилась в прокуратуру ...</td>\n",
              "      <td>1.500000</td>\n",
              "      <td>11.0</td>\n",
              "      <td>0.0</td>\n",
              "      <td>4.0</td>\n",
              "      <td>0.0</td>\n",
              "      <td>0.400000</td>\n",
              "      <td>0.133333</td>\n",
              "      <td>0.00</td>\n",
              "      <td>0.000000</td>\n",
              "    </tr>\n",
              "    <tr>\n",
              "      <th>4</th>\n",
              "      <td>Академик Аганбегян считает: в первую очередь с...</td>\n",
              "      <td>2.157895</td>\n",
              "      <td>16.0</td>\n",
              "      <td>0.0</td>\n",
              "      <td>4.0</td>\n",
              "      <td>0.0</td>\n",
              "      <td>0.350000</td>\n",
              "      <td>0.150000</td>\n",
              "      <td>0.05</td>\n",
              "      <td>0.000000</td>\n",
              "    </tr>\n",
              "  </tbody>\n",
              "</table>\n",
              "</div>\n",
              "      <button class=\"colab-df-convert\" onclick=\"convertToInteractive('df-2fc8d3a3-312b-447b-8fbf-3da1763032f7')\"\n",
              "              title=\"Convert this dataframe to an interactive table.\"\n",
              "              style=\"display:none;\">\n",
              "        \n",
              "  <svg xmlns=\"http://www.w3.org/2000/svg\" height=\"24px\"viewBox=\"0 0 24 24\"\n",
              "       width=\"24px\">\n",
              "    <path d=\"M0 0h24v24H0V0z\" fill=\"none\"/>\n",
              "    <path d=\"M18.56 5.44l.94 2.06.94-2.06 2.06-.94-2.06-.94-.94-2.06-.94 2.06-2.06.94zm-11 1L8.5 8.5l.94-2.06 2.06-.94-2.06-.94L8.5 2.5l-.94 2.06-2.06.94zm10 10l.94 2.06.94-2.06 2.06-.94-2.06-.94-.94-2.06-.94 2.06-2.06.94z\"/><path d=\"M17.41 7.96l-1.37-1.37c-.4-.4-.92-.59-1.43-.59-.52 0-1.04.2-1.43.59L10.3 9.45l-7.72 7.72c-.78.78-.78 2.05 0 2.83L4 21.41c.39.39.9.59 1.41.59.51 0 1.02-.2 1.41-.59l7.78-7.78 2.81-2.81c.8-.78.8-2.07 0-2.86zM5.41 20L4 18.59l7.72-7.72 1.47 1.35L5.41 20z\"/>\n",
              "  </svg>\n",
              "      </button>\n",
              "      \n",
              "  <style>\n",
              "    .colab-df-container {\n",
              "      display:flex;\n",
              "      flex-wrap:wrap;\n",
              "      gap: 12px;\n",
              "    }\n",
              "\n",
              "    .colab-df-convert {\n",
              "      background-color: #E8F0FE;\n",
              "      border: none;\n",
              "      border-radius: 50%;\n",
              "      cursor: pointer;\n",
              "      display: none;\n",
              "      fill: #1967D2;\n",
              "      height: 32px;\n",
              "      padding: 0 0 0 0;\n",
              "      width: 32px;\n",
              "    }\n",
              "\n",
              "    .colab-df-convert:hover {\n",
              "      background-color: #E2EBFA;\n",
              "      box-shadow: 0px 1px 2px rgba(60, 64, 67, 0.3), 0px 1px 3px 1px rgba(60, 64, 67, 0.15);\n",
              "      fill: #174EA6;\n",
              "    }\n",
              "\n",
              "    [theme=dark] .colab-df-convert {\n",
              "      background-color: #3B4455;\n",
              "      fill: #D2E3FC;\n",
              "    }\n",
              "\n",
              "    [theme=dark] .colab-df-convert:hover {\n",
              "      background-color: #434B5C;\n",
              "      box-shadow: 0px 1px 3px 1px rgba(0, 0, 0, 0.15);\n",
              "      filter: drop-shadow(0px 1px 2px rgba(0, 0, 0, 0.3));\n",
              "      fill: #FFFFFF;\n",
              "    }\n",
              "  </style>\n",
              "\n",
              "      <script>\n",
              "        const buttonEl =\n",
              "          document.querySelector('#df-2fc8d3a3-312b-447b-8fbf-3da1763032f7 button.colab-df-convert');\n",
              "        buttonEl.style.display =\n",
              "          google.colab.kernel.accessAllowed ? 'block' : 'none';\n",
              "\n",
              "        async function convertToInteractive(key) {\n",
              "          const element = document.querySelector('#df-2fc8d3a3-312b-447b-8fbf-3da1763032f7');\n",
              "          const dataTable =\n",
              "            await google.colab.kernel.invokeFunction('convertToInteractive',\n",
              "                                                     [key], {});\n",
              "          if (!dataTable) return;\n",
              "\n",
              "          const docLinkHtml = 'Like what you see? Visit the ' +\n",
              "            '<a target=\"_blank\" href=https://colab.research.google.com/notebooks/data_table.ipynb>data table notebook</a>'\n",
              "            + ' to learn more about interactive tables.';\n",
              "          element.innerHTML = '';\n",
              "          dataTable['output_type'] = 'display_data';\n",
              "          await google.colab.output.renderOutput(dataTable, element);\n",
              "          const docLink = document.createElement('div');\n",
              "          docLink.innerHTML = docLinkHtml;\n",
              "          element.appendChild(docLink);\n",
              "        }\n",
              "      </script>\n",
              "    </div>\n",
              "  </div>\n",
              "  "
            ]
          },
          "metadata": {},
          "execution_count": 25
        }
      ]
    },
    {
      "cell_type": "code",
      "source": [
        "feat.shape"
      ],
      "metadata": {
        "colab": {
          "base_uri": "https://localhost:8080/"
        },
        "id": "zbtMeJu4jS9Y",
        "outputId": "00a39091-4e70-4bb9-d03e-9881129a0186"
      },
      "execution_count": null,
      "outputs": [
        {
          "output_type": "execute_result",
          "data": {
            "text/plain": [
              "(1200, 10)"
            ]
          },
          "metadata": {},
          "execution_count": 26
        }
      ]
    },
    {
      "cell_type": "code",
      "source": [
        "#feat.to_csv('full_extracted_features.csv', index = False)"
      ],
      "metadata": {
        "id": "wOtToz0Dju9i"
      },
      "execution_count": null,
      "outputs": []
    },
    {
      "cell_type": "markdown",
      "source": [
        "# Adding the number of tokenizations and the total frequency  for each sentence."
      ],
      "metadata": {
        "id": "lgZ9Hj6jlnl_"
      }
    },
    {
      "cell_type": "code",
      "source": [
        "import nltk\n",
        "nltk.download('punkt')\n",
        "import pandas as pd\n"
      ],
      "metadata": {
        "colab": {
          "base_uri": "https://localhost:8080/"
        },
        "id": "OiSFLAx0m5nY",
        "outputId": "37a1d494-6c4d-4714-ea5a-45d80041caac"
      },
      "execution_count": null,
      "outputs": [
        {
          "output_type": "stream",
          "name": "stderr",
          "text": [
            "[nltk_data] Downloading package punkt to /root/nltk_data...\n",
            "[nltk_data]   Unzipping tokenizers/punkt.zip.\n"
          ]
        }
      ]
    },
    {
      "cell_type": "code",
      "source": [
        "feat = pd.read_csv('full_extracted_features.csv')\n",
        "freq_list = pd.read_csv('freqrnc2011.csv', delimiter='\\t')"
      ],
      "metadata": {
        "id": "Uymi4TTMl1ML"
      },
      "execution_count": null,
      "outputs": []
    },
    {
      "cell_type": "code",
      "source": [
        "freq_list.head()"
      ],
      "metadata": {
        "colab": {
          "base_uri": "https://localhost:8080/",
          "height": 206
        },
        "id": "60WfCdjhnfe-",
        "outputId": "5d6eb84f-4d48-45db-ecc8-28ac55223d18"
      },
      "execution_count": null,
      "outputs": [
        {
          "output_type": "execute_result",
          "data": {
            "text/plain": [
              "  Lemma   PoS  Freq(ipm)    R   D    Doc\n",
              "0     а  conj     8198.0  100  97  32332\n",
              "1     а  intj       19.8   99  90    757\n",
              "2     а  part        6.1   59  79    128\n",
              "3     а     s        2.7   59  85    160\n",
              "4    аа  intj        1.5   47  80     68"
            ],
            "text/html": [
              "\n",
              "  <div id=\"df-2c7c6d6c-b1fb-4dd9-acf9-95fa49a5ba7f\">\n",
              "    <div class=\"colab-df-container\">\n",
              "      <div>\n",
              "<style scoped>\n",
              "    .dataframe tbody tr th:only-of-type {\n",
              "        vertical-align: middle;\n",
              "    }\n",
              "\n",
              "    .dataframe tbody tr th {\n",
              "        vertical-align: top;\n",
              "    }\n",
              "\n",
              "    .dataframe thead th {\n",
              "        text-align: right;\n",
              "    }\n",
              "</style>\n",
              "<table border=\"1\" class=\"dataframe\">\n",
              "  <thead>\n",
              "    <tr style=\"text-align: right;\">\n",
              "      <th></th>\n",
              "      <th>Lemma</th>\n",
              "      <th>PoS</th>\n",
              "      <th>Freq(ipm)</th>\n",
              "      <th>R</th>\n",
              "      <th>D</th>\n",
              "      <th>Doc</th>\n",
              "    </tr>\n",
              "  </thead>\n",
              "  <tbody>\n",
              "    <tr>\n",
              "      <th>0</th>\n",
              "      <td>а</td>\n",
              "      <td>conj</td>\n",
              "      <td>8198.0</td>\n",
              "      <td>100</td>\n",
              "      <td>97</td>\n",
              "      <td>32332</td>\n",
              "    </tr>\n",
              "    <tr>\n",
              "      <th>1</th>\n",
              "      <td>а</td>\n",
              "      <td>intj</td>\n",
              "      <td>19.8</td>\n",
              "      <td>99</td>\n",
              "      <td>90</td>\n",
              "      <td>757</td>\n",
              "    </tr>\n",
              "    <tr>\n",
              "      <th>2</th>\n",
              "      <td>а</td>\n",
              "      <td>part</td>\n",
              "      <td>6.1</td>\n",
              "      <td>59</td>\n",
              "      <td>79</td>\n",
              "      <td>128</td>\n",
              "    </tr>\n",
              "    <tr>\n",
              "      <th>3</th>\n",
              "      <td>а</td>\n",
              "      <td>s</td>\n",
              "      <td>2.7</td>\n",
              "      <td>59</td>\n",
              "      <td>85</td>\n",
              "      <td>160</td>\n",
              "    </tr>\n",
              "    <tr>\n",
              "      <th>4</th>\n",
              "      <td>аа</td>\n",
              "      <td>intj</td>\n",
              "      <td>1.5</td>\n",
              "      <td>47</td>\n",
              "      <td>80</td>\n",
              "      <td>68</td>\n",
              "    </tr>\n",
              "  </tbody>\n",
              "</table>\n",
              "</div>\n",
              "      <button class=\"colab-df-convert\" onclick=\"convertToInteractive('df-2c7c6d6c-b1fb-4dd9-acf9-95fa49a5ba7f')\"\n",
              "              title=\"Convert this dataframe to an interactive table.\"\n",
              "              style=\"display:none;\">\n",
              "        \n",
              "  <svg xmlns=\"http://www.w3.org/2000/svg\" height=\"24px\"viewBox=\"0 0 24 24\"\n",
              "       width=\"24px\">\n",
              "    <path d=\"M0 0h24v24H0V0z\" fill=\"none\"/>\n",
              "    <path d=\"M18.56 5.44l.94 2.06.94-2.06 2.06-.94-2.06-.94-.94-2.06-.94 2.06-2.06.94zm-11 1L8.5 8.5l.94-2.06 2.06-.94-2.06-.94L8.5 2.5l-.94 2.06-2.06.94zm10 10l.94 2.06.94-2.06 2.06-.94-2.06-.94-.94-2.06-.94 2.06-2.06.94z\"/><path d=\"M17.41 7.96l-1.37-1.37c-.4-.4-.92-.59-1.43-.59-.52 0-1.04.2-1.43.59L10.3 9.45l-7.72 7.72c-.78.78-.78 2.05 0 2.83L4 21.41c.39.39.9.59 1.41.59.51 0 1.02-.2 1.41-.59l7.78-7.78 2.81-2.81c.8-.78.8-2.07 0-2.86zM5.41 20L4 18.59l7.72-7.72 1.47 1.35L5.41 20z\"/>\n",
              "  </svg>\n",
              "      </button>\n",
              "      \n",
              "  <style>\n",
              "    .colab-df-container {\n",
              "      display:flex;\n",
              "      flex-wrap:wrap;\n",
              "      gap: 12px;\n",
              "    }\n",
              "\n",
              "    .colab-df-convert {\n",
              "      background-color: #E8F0FE;\n",
              "      border: none;\n",
              "      border-radius: 50%;\n",
              "      cursor: pointer;\n",
              "      display: none;\n",
              "      fill: #1967D2;\n",
              "      height: 32px;\n",
              "      padding: 0 0 0 0;\n",
              "      width: 32px;\n",
              "    }\n",
              "\n",
              "    .colab-df-convert:hover {\n",
              "      background-color: #E2EBFA;\n",
              "      box-shadow: 0px 1px 2px rgba(60, 64, 67, 0.3), 0px 1px 3px 1px rgba(60, 64, 67, 0.15);\n",
              "      fill: #174EA6;\n",
              "    }\n",
              "\n",
              "    [theme=dark] .colab-df-convert {\n",
              "      background-color: #3B4455;\n",
              "      fill: #D2E3FC;\n",
              "    }\n",
              "\n",
              "    [theme=dark] .colab-df-convert:hover {\n",
              "      background-color: #434B5C;\n",
              "      box-shadow: 0px 1px 3px 1px rgba(0, 0, 0, 0.15);\n",
              "      filter: drop-shadow(0px 1px 2px rgba(0, 0, 0, 0.3));\n",
              "      fill: #FFFFFF;\n",
              "    }\n",
              "  </style>\n",
              "\n",
              "      <script>\n",
              "        const buttonEl =\n",
              "          document.querySelector('#df-2c7c6d6c-b1fb-4dd9-acf9-95fa49a5ba7f button.colab-df-convert');\n",
              "        buttonEl.style.display =\n",
              "          google.colab.kernel.accessAllowed ? 'block' : 'none';\n",
              "\n",
              "        async function convertToInteractive(key) {\n",
              "          const element = document.querySelector('#df-2c7c6d6c-b1fb-4dd9-acf9-95fa49a5ba7f');\n",
              "          const dataTable =\n",
              "            await google.colab.kernel.invokeFunction('convertToInteractive',\n",
              "                                                     [key], {});\n",
              "          if (!dataTable) return;\n",
              "\n",
              "          const docLinkHtml = 'Like what you see? Visit the ' +\n",
              "            '<a target=\"_blank\" href=https://colab.research.google.com/notebooks/data_table.ipynb>data table notebook</a>'\n",
              "            + ' to learn more about interactive tables.';\n",
              "          element.innerHTML = '';\n",
              "          dataTable['output_type'] = 'display_data';\n",
              "          await google.colab.output.renderOutput(dataTable, element);\n",
              "          const docLink = document.createElement('div');\n",
              "          docLink.innerHTML = docLinkHtml;\n",
              "          element.appendChild(docLink);\n",
              "        }\n",
              "      </script>\n",
              "    </div>\n",
              "  </div>\n",
              "  "
            ]
          },
          "metadata": {},
          "execution_count": 47
        }
      ]
    },
    {
      "cell_type": "code",
      "source": [
        "# Define a function to tokenize a sentence and count the number of tokens\n",
        "def count_tokens(sentence):\n",
        "    tokens = nltk.word_tokenize(sentence)\n",
        "    return len(tokens)"
      ],
      "metadata": {
        "id": "mw56HeDHmpe3"
      },
      "execution_count": null,
      "outputs": []
    },
    {
      "cell_type": "code",
      "source": [
        "frequency_list = freq_list.set_index('Lemma')['Freq(ipm)'].to_dict()\n",
        "def get_word_freq(word):\n",
        "    try:\n",
        "        freq = frequency_list[word]\n",
        "    except KeyError:\n",
        "        freq = 0\n",
        "    return freq"
      ],
      "metadata": {
        "id": "LjEq3BvHmy7P"
      },
      "execution_count": null,
      "outputs": []
    },
    {
      "cell_type": "code",
      "source": [
        "# Add columns for the number of tokens and the total frequency to the main dataframe\n",
        "feat['num_tokens'] = feat['text'].apply(count_tokens)\n",
        "feat['total_freq'] = feat['text'].apply(lambda x: sum(get_word_freq(word) for word in nltk.word_tokenize(x)))"
      ],
      "metadata": {
        "id": "rYAd8bmpmy9g"
      },
      "execution_count": null,
      "outputs": []
    },
    {
      "cell_type": "code",
      "source": [
        "feat.head()"
      ],
      "metadata": {
        "colab": {
          "base_uri": "https://localhost:8080/",
          "height": 600
        },
        "id": "PeSpEFnAmzAO",
        "outputId": "4b7d9656-70dc-4e7a-bb74-5aeaca4c7aaa"
      },
      "execution_count": null,
      "outputs": [
        {
          "output_type": "execute_result",
          "data": {
            "text/plain": [
              "                                                text  average_path_length  \\\n",
              "0  Автомобили появятся в салонах официальных диле...             1.777778   \n",
              "1  Автор сам бывший шахтер и очень хорошо описыва...             2.586207   \n",
              "2  Агент МИ6 работал паспортистом в посольстве Ве...             1.111111   \n",
              "3  Администрация города обратилась в прокуратуру ...             1.500000   \n",
              "4  Академик Аганбегян считает: в первую очередь с...             2.157895   \n",
              "\n",
              "   maximum_path_length  num_clauses  num_phrases  \\\n",
              "0                  7.0          0.0          3.0   \n",
              "1                 25.0          1.0          6.0   \n",
              "2                  6.0          0.0          1.0   \n",
              "3                 11.0          0.0          4.0   \n",
              "4                 16.0          0.0          4.0   \n",
              "\n",
              "   num_subordinating_conjunctions  prop_nouns  prop_verbs  prop_adjectives  \\\n",
              "0                             0.0    0.400000    0.100000             0.10   \n",
              "1                             0.0    0.233333    0.100000             0.10   \n",
              "2                             0.0    0.300000    0.100000             0.00   \n",
              "3                             0.0    0.400000    0.133333             0.00   \n",
              "4                             0.0    0.350000    0.150000             0.05   \n",
              "\n",
              "   prop_pronouns  num_tokens  total_freq  \n",
              "0       0.000000          10     62748.4  \n",
              "1       0.033333          30    125001.2  \n",
              "2       0.000000          10     62748.4  \n",
              "3       0.000000          15     74447.2  \n",
              "4       0.000000          20     99152.8  "
            ],
            "text/html": [
              "\n",
              "  <div id=\"df-f7c785f2-18b4-40fc-8f7e-5abd7405447d\">\n",
              "    <div class=\"colab-df-container\">\n",
              "      <div>\n",
              "<style scoped>\n",
              "    .dataframe tbody tr th:only-of-type {\n",
              "        vertical-align: middle;\n",
              "    }\n",
              "\n",
              "    .dataframe tbody tr th {\n",
              "        vertical-align: top;\n",
              "    }\n",
              "\n",
              "    .dataframe thead th {\n",
              "        text-align: right;\n",
              "    }\n",
              "</style>\n",
              "<table border=\"1\" class=\"dataframe\">\n",
              "  <thead>\n",
              "    <tr style=\"text-align: right;\">\n",
              "      <th></th>\n",
              "      <th>text</th>\n",
              "      <th>average_path_length</th>\n",
              "      <th>maximum_path_length</th>\n",
              "      <th>num_clauses</th>\n",
              "      <th>num_phrases</th>\n",
              "      <th>num_subordinating_conjunctions</th>\n",
              "      <th>prop_nouns</th>\n",
              "      <th>prop_verbs</th>\n",
              "      <th>prop_adjectives</th>\n",
              "      <th>prop_pronouns</th>\n",
              "      <th>num_tokens</th>\n",
              "      <th>total_freq</th>\n",
              "    </tr>\n",
              "  </thead>\n",
              "  <tbody>\n",
              "    <tr>\n",
              "      <th>0</th>\n",
              "      <td>Автомобили появятся в салонах официальных диле...</td>\n",
              "      <td>1.777778</td>\n",
              "      <td>7.0</td>\n",
              "      <td>0.0</td>\n",
              "      <td>3.0</td>\n",
              "      <td>0.0</td>\n",
              "      <td>0.400000</td>\n",
              "      <td>0.100000</td>\n",
              "      <td>0.10</td>\n",
              "      <td>0.000000</td>\n",
              "      <td>10</td>\n",
              "      <td>62748.4</td>\n",
              "    </tr>\n",
              "    <tr>\n",
              "      <th>1</th>\n",
              "      <td>Автор сам бывший шахтер и очень хорошо описыва...</td>\n",
              "      <td>2.586207</td>\n",
              "      <td>25.0</td>\n",
              "      <td>1.0</td>\n",
              "      <td>6.0</td>\n",
              "      <td>0.0</td>\n",
              "      <td>0.233333</td>\n",
              "      <td>0.100000</td>\n",
              "      <td>0.10</td>\n",
              "      <td>0.033333</td>\n",
              "      <td>30</td>\n",
              "      <td>125001.2</td>\n",
              "    </tr>\n",
              "    <tr>\n",
              "      <th>2</th>\n",
              "      <td>Агент МИ6 работал паспортистом в посольстве Ве...</td>\n",
              "      <td>1.111111</td>\n",
              "      <td>6.0</td>\n",
              "      <td>0.0</td>\n",
              "      <td>1.0</td>\n",
              "      <td>0.0</td>\n",
              "      <td>0.300000</td>\n",
              "      <td>0.100000</td>\n",
              "      <td>0.00</td>\n",
              "      <td>0.000000</td>\n",
              "      <td>10</td>\n",
              "      <td>62748.4</td>\n",
              "    </tr>\n",
              "    <tr>\n",
              "      <th>3</th>\n",
              "      <td>Администрация города обратилась в прокуратуру ...</td>\n",
              "      <td>1.500000</td>\n",
              "      <td>11.0</td>\n",
              "      <td>0.0</td>\n",
              "      <td>4.0</td>\n",
              "      <td>0.0</td>\n",
              "      <td>0.400000</td>\n",
              "      <td>0.133333</td>\n",
              "      <td>0.00</td>\n",
              "      <td>0.000000</td>\n",
              "      <td>15</td>\n",
              "      <td>74447.2</td>\n",
              "    </tr>\n",
              "    <tr>\n",
              "      <th>4</th>\n",
              "      <td>Академик Аганбегян считает: в первую очередь с...</td>\n",
              "      <td>2.157895</td>\n",
              "      <td>16.0</td>\n",
              "      <td>0.0</td>\n",
              "      <td>4.0</td>\n",
              "      <td>0.0</td>\n",
              "      <td>0.350000</td>\n",
              "      <td>0.150000</td>\n",
              "      <td>0.05</td>\n",
              "      <td>0.000000</td>\n",
              "      <td>20</td>\n",
              "      <td>99152.8</td>\n",
              "    </tr>\n",
              "  </tbody>\n",
              "</table>\n",
              "</div>\n",
              "      <button class=\"colab-df-convert\" onclick=\"convertToInteractive('df-f7c785f2-18b4-40fc-8f7e-5abd7405447d')\"\n",
              "              title=\"Convert this dataframe to an interactive table.\"\n",
              "              style=\"display:none;\">\n",
              "        \n",
              "  <svg xmlns=\"http://www.w3.org/2000/svg\" height=\"24px\"viewBox=\"0 0 24 24\"\n",
              "       width=\"24px\">\n",
              "    <path d=\"M0 0h24v24H0V0z\" fill=\"none\"/>\n",
              "    <path d=\"M18.56 5.44l.94 2.06.94-2.06 2.06-.94-2.06-.94-.94-2.06-.94 2.06-2.06.94zm-11 1L8.5 8.5l.94-2.06 2.06-.94-2.06-.94L8.5 2.5l-.94 2.06-2.06.94zm10 10l.94 2.06.94-2.06 2.06-.94-2.06-.94-.94-2.06-.94 2.06-2.06.94z\"/><path d=\"M17.41 7.96l-1.37-1.37c-.4-.4-.92-.59-1.43-.59-.52 0-1.04.2-1.43.59L10.3 9.45l-7.72 7.72c-.78.78-.78 2.05 0 2.83L4 21.41c.39.39.9.59 1.41.59.51 0 1.02-.2 1.41-.59l7.78-7.78 2.81-2.81c.8-.78.8-2.07 0-2.86zM5.41 20L4 18.59l7.72-7.72 1.47 1.35L5.41 20z\"/>\n",
              "  </svg>\n",
              "      </button>\n",
              "      \n",
              "  <style>\n",
              "    .colab-df-container {\n",
              "      display:flex;\n",
              "      flex-wrap:wrap;\n",
              "      gap: 12px;\n",
              "    }\n",
              "\n",
              "    .colab-df-convert {\n",
              "      background-color: #E8F0FE;\n",
              "      border: none;\n",
              "      border-radius: 50%;\n",
              "      cursor: pointer;\n",
              "      display: none;\n",
              "      fill: #1967D2;\n",
              "      height: 32px;\n",
              "      padding: 0 0 0 0;\n",
              "      width: 32px;\n",
              "    }\n",
              "\n",
              "    .colab-df-convert:hover {\n",
              "      background-color: #E2EBFA;\n",
              "      box-shadow: 0px 1px 2px rgba(60, 64, 67, 0.3), 0px 1px 3px 1px rgba(60, 64, 67, 0.15);\n",
              "      fill: #174EA6;\n",
              "    }\n",
              "\n",
              "    [theme=dark] .colab-df-convert {\n",
              "      background-color: #3B4455;\n",
              "      fill: #D2E3FC;\n",
              "    }\n",
              "\n",
              "    [theme=dark] .colab-df-convert:hover {\n",
              "      background-color: #434B5C;\n",
              "      box-shadow: 0px 1px 3px 1px rgba(0, 0, 0, 0.15);\n",
              "      filter: drop-shadow(0px 1px 2px rgba(0, 0, 0, 0.3));\n",
              "      fill: #FFFFFF;\n",
              "    }\n",
              "  </style>\n",
              "\n",
              "      <script>\n",
              "        const buttonEl =\n",
              "          document.querySelector('#df-f7c785f2-18b4-40fc-8f7e-5abd7405447d button.colab-df-convert');\n",
              "        buttonEl.style.display =\n",
              "          google.colab.kernel.accessAllowed ? 'block' : 'none';\n",
              "\n",
              "        async function convertToInteractive(key) {\n",
              "          const element = document.querySelector('#df-f7c785f2-18b4-40fc-8f7e-5abd7405447d');\n",
              "          const dataTable =\n",
              "            await google.colab.kernel.invokeFunction('convertToInteractive',\n",
              "                                                     [key], {});\n",
              "          if (!dataTable) return;\n",
              "\n",
              "          const docLinkHtml = 'Like what you see? Visit the ' +\n",
              "            '<a target=\"_blank\" href=https://colab.research.google.com/notebooks/data_table.ipynb>data table notebook</a>'\n",
              "            + ' to learn more about interactive tables.';\n",
              "          element.innerHTML = '';\n",
              "          dataTable['output_type'] = 'display_data';\n",
              "          await google.colab.output.renderOutput(dataTable, element);\n",
              "          const docLink = document.createElement('div');\n",
              "          docLink.innerHTML = docLinkHtml;\n",
              "          element.appendChild(docLink);\n",
              "        }\n",
              "      </script>\n",
              "    </div>\n",
              "  </div>\n",
              "  "
            ]
          },
          "metadata": {},
          "execution_count": 53
        }
      ]
    },
    {
      "cell_type": "code",
      "source": [
        "feat.shape"
      ],
      "metadata": {
        "colab": {
          "base_uri": "https://localhost:8080/"
        },
        "id": "2GMWFHan1E3S",
        "outputId": "59daa82e-eb7c-4dab-a23c-46c8aa25d4d7"
      },
      "execution_count": null,
      "outputs": [
        {
          "output_type": "execute_result",
          "data": {
            "text/plain": [
              "(1200, 12)"
            ]
          },
          "metadata": {},
          "execution_count": 55
        }
      ]
    },
    {
      "cell_type": "markdown",
      "source": [
        "### Adding the average token length for each sentence"
      ],
      "metadata": {
        "id": "-II2O1qlnYZr"
      }
    },
    {
      "cell_type": "code",
      "source": [
        "#import pandas as pd\n",
        "#annotations_df = pd.read_csv('full_annotated_data.tsv')\n",
        "#features_df = pd.read_csv('full_extracted_features.csv')"
      ],
      "metadata": {
        "id": "JwXoTkFsnbsx"
      },
      "execution_count": null,
      "outputs": []
    },
    {
      "cell_type": "code",
      "source": [
        "# Calculate the average token length for each sentence\n",
        "avg_token_length = features_df['text'].apply(lambda x: sum(len(word) for word in x.split()) / len(x.split()))\n",
        "# Add the new column to the DataFrame\n",
        "features_df['avg_token_length'] = avg_token_length\n",
        "\n"
      ],
      "metadata": {
        "id": "2f0doQyanbxn"
      },
      "execution_count": null,
      "outputs": []
    },
    {
      "cell_type": "code",
      "source": [
        "features_df.head(1)"
      ],
      "metadata": {
        "colab": {
          "base_uri": "https://localhost:8080/",
          "height": 214
        },
        "id": "YXySB9V6nbz-",
        "outputId": "d4bfaa02-50c9-4da7-e9c2-b328bb77a722"
      },
      "execution_count": null,
      "outputs": [
        {
          "output_type": "execute_result",
          "data": {
            "text/plain": [
              "                                                text  average_path_length  \\\n",
              "0  Автомобили появятся в салонах официальных диле...             1.777778   \n",
              "\n",
              "   maximum_path_length  num_clauses  num_phrases  \\\n",
              "0                  7.0          0.0          3.0   \n",
              "\n",
              "   num_subordinating_conjunctions  prop_nouns  prop_verbs  prop_adjectives  \\\n",
              "0                             0.0         0.4         0.1              0.1   \n",
              "\n",
              "   prop_pronouns  num_tokens  total_freq  avg_token_length  \n",
              "0            0.0          10     62748.4          6.222222  "
            ],
            "text/html": [
              "\n",
              "  <div id=\"df-46a5f33f-ca1d-4c0f-acb4-b7575d5c7920\">\n",
              "    <div class=\"colab-df-container\">\n",
              "      <div>\n",
              "<style scoped>\n",
              "    .dataframe tbody tr th:only-of-type {\n",
              "        vertical-align: middle;\n",
              "    }\n",
              "\n",
              "    .dataframe tbody tr th {\n",
              "        vertical-align: top;\n",
              "    }\n",
              "\n",
              "    .dataframe thead th {\n",
              "        text-align: right;\n",
              "    }\n",
              "</style>\n",
              "<table border=\"1\" class=\"dataframe\">\n",
              "  <thead>\n",
              "    <tr style=\"text-align: right;\">\n",
              "      <th></th>\n",
              "      <th>text</th>\n",
              "      <th>average_path_length</th>\n",
              "      <th>maximum_path_length</th>\n",
              "      <th>num_clauses</th>\n",
              "      <th>num_phrases</th>\n",
              "      <th>num_subordinating_conjunctions</th>\n",
              "      <th>prop_nouns</th>\n",
              "      <th>prop_verbs</th>\n",
              "      <th>prop_adjectives</th>\n",
              "      <th>prop_pronouns</th>\n",
              "      <th>num_tokens</th>\n",
              "      <th>total_freq</th>\n",
              "      <th>avg_token_length</th>\n",
              "    </tr>\n",
              "  </thead>\n",
              "  <tbody>\n",
              "    <tr>\n",
              "      <th>0</th>\n",
              "      <td>Автомобили появятся в салонах официальных диле...</td>\n",
              "      <td>1.777778</td>\n",
              "      <td>7.0</td>\n",
              "      <td>0.0</td>\n",
              "      <td>3.0</td>\n",
              "      <td>0.0</td>\n",
              "      <td>0.4</td>\n",
              "      <td>0.1</td>\n",
              "      <td>0.1</td>\n",
              "      <td>0.0</td>\n",
              "      <td>10</td>\n",
              "      <td>62748.4</td>\n",
              "      <td>6.222222</td>\n",
              "    </tr>\n",
              "  </tbody>\n",
              "</table>\n",
              "</div>\n",
              "      <button class=\"colab-df-convert\" onclick=\"convertToInteractive('df-46a5f33f-ca1d-4c0f-acb4-b7575d5c7920')\"\n",
              "              title=\"Convert this dataframe to an interactive table.\"\n",
              "              style=\"display:none;\">\n",
              "        \n",
              "  <svg xmlns=\"http://www.w3.org/2000/svg\" height=\"24px\"viewBox=\"0 0 24 24\"\n",
              "       width=\"24px\">\n",
              "    <path d=\"M0 0h24v24H0V0z\" fill=\"none\"/>\n",
              "    <path d=\"M18.56 5.44l.94 2.06.94-2.06 2.06-.94-2.06-.94-.94-2.06-.94 2.06-2.06.94zm-11 1L8.5 8.5l.94-2.06 2.06-.94-2.06-.94L8.5 2.5l-.94 2.06-2.06.94zm10 10l.94 2.06.94-2.06 2.06-.94-2.06-.94-.94-2.06-.94 2.06-2.06.94z\"/><path d=\"M17.41 7.96l-1.37-1.37c-.4-.4-.92-.59-1.43-.59-.52 0-1.04.2-1.43.59L10.3 9.45l-7.72 7.72c-.78.78-.78 2.05 0 2.83L4 21.41c.39.39.9.59 1.41.59.51 0 1.02-.2 1.41-.59l7.78-7.78 2.81-2.81c.8-.78.8-2.07 0-2.86zM5.41 20L4 18.59l7.72-7.72 1.47 1.35L5.41 20z\"/>\n",
              "  </svg>\n",
              "      </button>\n",
              "      \n",
              "  <style>\n",
              "    .colab-df-container {\n",
              "      display:flex;\n",
              "      flex-wrap:wrap;\n",
              "      gap: 12px;\n",
              "    }\n",
              "\n",
              "    .colab-df-convert {\n",
              "      background-color: #E8F0FE;\n",
              "      border: none;\n",
              "      border-radius: 50%;\n",
              "      cursor: pointer;\n",
              "      display: none;\n",
              "      fill: #1967D2;\n",
              "      height: 32px;\n",
              "      padding: 0 0 0 0;\n",
              "      width: 32px;\n",
              "    }\n",
              "\n",
              "    .colab-df-convert:hover {\n",
              "      background-color: #E2EBFA;\n",
              "      box-shadow: 0px 1px 2px rgba(60, 64, 67, 0.3), 0px 1px 3px 1px rgba(60, 64, 67, 0.15);\n",
              "      fill: #174EA6;\n",
              "    }\n",
              "\n",
              "    [theme=dark] .colab-df-convert {\n",
              "      background-color: #3B4455;\n",
              "      fill: #D2E3FC;\n",
              "    }\n",
              "\n",
              "    [theme=dark] .colab-df-convert:hover {\n",
              "      background-color: #434B5C;\n",
              "      box-shadow: 0px 1px 3px 1px rgba(0, 0, 0, 0.15);\n",
              "      filter: drop-shadow(0px 1px 2px rgba(0, 0, 0, 0.3));\n",
              "      fill: #FFFFFF;\n",
              "    }\n",
              "  </style>\n",
              "\n",
              "      <script>\n",
              "        const buttonEl =\n",
              "          document.querySelector('#df-46a5f33f-ca1d-4c0f-acb4-b7575d5c7920 button.colab-df-convert');\n",
              "        buttonEl.style.display =\n",
              "          google.colab.kernel.accessAllowed ? 'block' : 'none';\n",
              "\n",
              "        async function convertToInteractive(key) {\n",
              "          const element = document.querySelector('#df-46a5f33f-ca1d-4c0f-acb4-b7575d5c7920');\n",
              "          const dataTable =\n",
              "            await google.colab.kernel.invokeFunction('convertToInteractive',\n",
              "                                                     [key], {});\n",
              "          if (!dataTable) return;\n",
              "\n",
              "          const docLinkHtml = 'Like what you see? Visit the ' +\n",
              "            '<a target=\"_blank\" href=https://colab.research.google.com/notebooks/data_table.ipynb>data table notebook</a>'\n",
              "            + ' to learn more about interactive tables.';\n",
              "          element.innerHTML = '';\n",
              "          dataTable['output_type'] = 'display_data';\n",
              "          await google.colab.output.renderOutput(dataTable, element);\n",
              "          const docLink = document.createElement('div');\n",
              "          docLink.innerHTML = docLinkHtml;\n",
              "          element.appendChild(docLink);\n",
              "        }\n",
              "      </script>\n",
              "    </div>\n",
              "  </div>\n",
              "  "
            ]
          },
          "metadata": {},
          "execution_count": 4
        }
      ]
    },
    {
      "cell_type": "code",
      "source": [],
      "metadata": {
        "id": "2UlC9nvKnb2U"
      },
      "execution_count": null,
      "outputs": []
    },
    {
      "cell_type": "code",
      "source": [],
      "metadata": {
        "id": "w2YyvSdUnb5G"
      },
      "execution_count": null,
      "outputs": []
    },
    {
      "cell_type": "code",
      "source": [
        "#features_df.to_csv(\"full_extracted_features.csv\", index= False)"
      ],
      "metadata": {
        "id": "NARhAVeI39r9"
      },
      "execution_count": null,
      "outputs": []
    },
    {
      "cell_type": "code",
      "source": [],
      "metadata": {
        "id": "O2B_fGTx-_uz"
      },
      "execution_count": null,
      "outputs": []
    }
  ]
}